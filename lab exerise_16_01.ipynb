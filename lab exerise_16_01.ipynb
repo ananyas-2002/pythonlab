{
 "cells": [
  {
   "cell_type": "code",
   "execution_count": 12,
   "id": "c19f1fe1",
   "metadata": {},
   "outputs": [
    {
     "name": "stdout",
     "output_type": "stream",
     "text": [
      "Enter the number of salesmen: 2\n",
      "Enter name of salesman 1: jhon\n",
      "Enter sales for week 1: 12000\n",
      "Enter sales for week 2: 15000\n",
      "Enter sales for week 3: 22000\n",
      "Enter sales for week 4: 30000\n",
      "Enter name of salesman 2: alice\n",
      "Enter sales for week 1: 15000\n",
      "Enter sales for week 2: 18000\n",
      "Enter sales for week 3: 16000\n",
      "Enter sales for week 4: 22000\n",
      "\n",
      "Salesman Data:\n",
      "Salesman:  jhon  Total Sales:  79000 Commission:  3950.0 Remarks: Good\n",
      "Salesman:  alice  Total Sales:  71000 Commission:  3550.0 Remarks: Good\n"
     ]
    }
   ],
   "source": [
    "def calculate_sales_commission(sales_per_week):\n",
    "    total_sales = sum(sales_per_week)\n",
    "    commission_rate = 5/100  # 5% commission rate\n",
    "    commission = 0\n",
    "\n",
    "    if total_sales >= 50000:\n",
    "        commission = total_sales * commission_rate\n",
    "\n",
    "    # Determine remarks based on total sales\n",
    "    if total_sales >= 80000:\n",
    "        remarks = \"Excellent\"\n",
    "    elif 60000 <= total_sales < 80000:\n",
    "        remarks = \"Good\"\n",
    "    elif 40000 <= total_sales < 60000:\n",
    "        remarks = \"Average\"\n",
    "    else:\n",
    "        remarks = \"Work Hard\"\n",
    "\n",
    "    return total_sales, commission, remarks\n",
    "\n",
    "num_salesmen = int(input(\"Enter the number of salesmen: \"))\n",
    "salesmen_data = []\n",
    "\n",
    "for i in range(num_salesmen):\n",
    "    salesman_name = input(f\"Enter name of salesman {i + 1}: \")\n",
    "    sales_per_week = [int(input(f\"Enter sales for week {j + 1}: \")) for j in range(4)]  # Assuming 4 weeks in a month\n",
    "\n",
    "    total_sales, commission, remarks = calculate_sales_commission(sales_per_week)\n",
    "\n",
    "        # Store data in a list of tuples\n",
    "    salesmen_data.append((salesman_name, total_sales, commission, remarks))\n",
    "\n",
    "    # Display results\n",
    "print(\"\\nSalesman Data:\")\n",
    "for data in salesmen_data:\n",
    "    print(\"Salesman: \",data[0],\" Total Sales: \",data[1], \"Commission: \",data[2], \"Remarks:\", data[3])\n"
   ]
  },
  {
   "cell_type": "code",
   "execution_count": 13,
   "id": "18447771",
   "metadata": {},
   "outputs": [
    {
     "name": "stdout",
     "output_type": "stream",
     "text": [
      "Enter the number of integers: 5\n",
      "Enter integer 1: 5\n",
      "Enter integer 2: 10\n",
      "Enter integer 3: 15\n",
      "Enter integer 4: 20\n",
      "Enter integer 5: 25\n"
     ]
    },
    {
     "data": {
      "image/png": "[encoded data removed]",
      "text/plain": [
       "<Figure size 640x480 with 1 Axes>"
      ]
     },
     "metadata": {},
     "output_type": "display_data"
    }
   ],
   "source": [
    "import matplotlib.pyplot as plt\n",
    "\n",
    "def display_histogram(numbers):\n",
    "    plt.hist(numbers,bins=10,edgecolor='black',color='blue')\n",
    "    plt.title(\"Histogram of Integers\")\n",
    "    plt.xlabel(\"Values\")\n",
    "    plt.ylabel(\"Frequency\")\n",
    "    plt.show()\n",
    "\n",
    "try:\n",
    "    # Get the number of integers from the user\n",
    "    n = int(input(\"Enter the number of integers: \"))\n",
    "     \n",
    "    # Get the list of integers from the user\n",
    "    numbers = []\n",
    "    for i in range(n):\n",
    "        num = int(input(f\"Enter integer {i + 1}: \"))\n",
    "        numbers.append(num)\n",
    "\n",
    "    # Display the histogram\n",
    "    display_histogram(numbers)\n",
    "\n",
    "except ValueError:\n",
    "    print(\"Invalid input. Please enter valid integers.\")"
   ]
  },
  {
   "cell_type": "code",
   "execution_count": null,
   "id": "b7334985",
   "metadata": {},
   "outputs": [],
   "source": []
  }
 ],
 "metadata": {
  "kernelspec": {
   "display_name": "Python 3 (ipykernel)",
   "language": "python",
   "name": "python3"
  },
  "language_info": {
   "codemirror_mode": {
    "name": "ipython",
    "version": 3
   },
   "file_extension": ".py",
   "mimetype": "text/x-python",
   "name": "python",
   "nbconvert_exporter": "python",
   "pygments_lexer": "ipython3",
   "version": "3.10.9"
  }
 },
 "nbformat": 4,
 "nbformat_minor": 5
}
