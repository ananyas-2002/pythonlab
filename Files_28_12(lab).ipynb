{
 "cells": [
  {
   "cell_type": "code",
   "execution_count": 1,
   "id": "4ad29e7f",
   "metadata": {},
   "outputs": [
    {
     "name": "stdout",
     "output_type": "stream",
     "text": [
      "Barack Obama file:\n",
      "Line count= 66\n",
      "Word count= 2400\n",
      "Michelle Obama file:\n",
      "Line count= 83\n",
      "Word count= 2204\n",
      "Donald_trump file:\n",
      "Line count= 48\n",
      "Word count= 1259\n",
      "Melina_trump file:\n",
      "Line count= 33\n",
      "Word count= 1375\n"
     ]
    }
   ],
   "source": [
    "#using built_in\n",
    "def count_file(file_path):\n",
    "    f1=open(file_path,'r')\n",
    "    line_count=0\n",
    "    word_count=0\n",
    "    for line in f1:\n",
    "        line_count+=1\n",
    "        data=line.split()\n",
    "        word_count+=len(data)\n",
    "    print(\"Line count=\",line_count)\n",
    "    print(\"Word count=\",word_count)\n",
    "file=\"speech_barack_obama.txt\"\n",
    "print(\"Barack Obama file:\")\n",
    "count_file(file)\n",
    "file=\"speech_michelle_obama.txt\"\n",
    "print(\"Michelle Obama file:\")\n",
    "count_file(file)\n",
    "file=\"speech_donald_trump.txt\"\n",
    "print(\"Donald_trump file:\")\n",
    "count_file(file)\n",
    "file=\"speech_melina_trump.txt\"\n",
    "print(\"Melina_trump file:\")\n",
    "count_file(file)"
   ]
  },
  {
   "cell_type": "code",
   "execution_count": 30,
   "id": "e865272b",
   "metadata": {},
   "outputs": [
    {
     "name": "stdout",
     "output_type": "stream",
     "text": [
      "Barack Obama file:\n",
      "Line count= 66\n",
      "Word count= 2400\n"
     ]
    }
   ],
   "source": [
    " def count_file(file_path):\n",
    "    f1=open(file_path,'r')\n",
    "    line_count=0\n",
    "    word_count=0\n",
    "    for line in f1:\n",
    "        line_count+=1\n",
    "        word=line.split()\n",
    "        for data in word:\n",
    "            word_count+=1\n",
    "    print(\"Line count=\",line_count)\n",
    "    print(\"Word count=\",word_count)\n",
    "file=\"speech_barack_obama.txt\"\n",
    "print(\"Barack Obama file:\")\n",
    "count_file(file)"
   ]
  },
  {
   "cell_type": "code",
   "execution_count": 45,
   "id": "af3d9de5",
   "metadata": {},
   "outputs": [
    {
     "name": "stdout",
     "output_type": "stream",
     "text": [
      "Barack Obama file:\n",
      "Line count= 66\n",
      "Word count= 2430\n",
      "Michelle Obama file:\n",
      "Line count= 83\n",
      "Word count= 2244\n",
      "Donald_trump file:\n",
      "Line count= 48\n",
      "Word count= 1261\n",
      "Melina_trump file:\n",
      "Line count= 33\n",
      "Word count= 1390\n"
     ]
    }
   ],
   "source": [
    "def count_file(file_path):\n",
    "    f1=open(file_path,'r')\n",
    "    line_count=0\n",
    "    word_count=0\n",
    "    for line in f1:\n",
    "        line_count+=1\n",
    "        for data in line:\n",
    "             if data==' 'or data=='\\n':\n",
    "                word_count+=1\n",
    "    print(\"Line count=\",line_count)\n",
    "    print(\"Word count=\",word_count)\n",
    "file=\"speech_barack_obama.txt\"\n",
    "print(\"Barack Obama file:\")\n",
    "count_file(file)\n",
    "file=\"speech_michelle_obama.txt\"\n",
    "print(\"Michelle Obama file:\")\n",
    "count_file(file)\n",
    "file=\"speech_donald_trump.txt\"\n",
    "print(\"Donald_trump file:\")\n",
    "count_file(file)\n",
    "file=\"speech_melina_trump.txt\"\n",
    "print(\"Melina_trump file:\")\n",
    "count_file(file)"
   ]
  },
  {
   "cell_type": "code",
   "execution_count": null,
   "id": "2f8bdf7e",
   "metadata": {},
   "outputs": [],
   "source": []
  }
 ],
 "metadata": {
  "kernelspec": {
   "display_name": "Python 3 (ipykernel)",
   "language": "python",
   "name": "python3"
  },
  "language_info": {
   "codemirror_mode": {
    "name": "ipython",
    "version": 3
   },
   "file_extension": ".py",
   "mimetype": "text/x-python",
   "name": "python",
   "nbconvert_exporter": "python",
   "pygments_lexer": "ipython3",
   "version": "3.10.9"
  }
 },
 "nbformat": 4,
 "nbformat_minor": 5
}
