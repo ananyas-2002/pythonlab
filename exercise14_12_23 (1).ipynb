{
 "cells": [
  {
   "cell_type": "code",
   "execution_count": 43,
   "id": "5e03f5d4",
   "metadata": {},
   "outputs": [
    {
     "name": "stdout",
     "output_type": "stream",
     "text": [
      "enter number:10\n",
      "sum of natural number: 0 + 1 + 2 + 3 + 4 + 5 + 6 + 7 + 8 + 9 + 10 = 55\n"
     ]
    }
   ],
   "source": [
    "sum_1=0\n",
    "n=int(input(\"enter number:\"))\n",
    "# i=1\n",
    "print(\"sum of natural number:\",end=\" \")\n",
    "for i in range(n+1):\n",
    "#      while(i<=n):\n",
    "        print(i,end=\" \")\n",
    "        if i != n:\n",
    "            print(\"+\", end = \" \")\n",
    "        sum_1=sum_1+i\n",
    "#         i=i+1\n",
    "print(\"=\",sum_1)"
   ]
  },
  {
   "cell_type": "code",
   "execution_count": 23,
   "id": "caa363c0",
   "metadata": {},
   "outputs": [
    {
     "name": "stdout",
     "output_type": "stream",
     "text": [
      "enter number:10\n",
      "Sum of series:2.72\n"
     ]
    }
   ],
   "source": [
    "n=int(input(\"enter number:\"))\n",
    "sumofseries=1\n",
    "for i in range(1,n+1):\n",
    "    fact=1\n",
    "    for j in range(1,i+1):\n",
    "        fact=fact*j\n",
    "    sumofseries=sumofseries+1/fact\n",
    "print(\"Sum of series:{:.2f}\".format(sumofseries))\n"
   ]
  },
  {
   "cell_type": "code",
   "execution_count": 28,
   "id": "bc00f7b1",
   "metadata": {},
   "outputs": [],
   "source": [
    "f1=open(\"sample.txt\",'w')\n",
    "f1.write(\"HI\")\n",
    "f1.close()\n"
   ]
  },
  {
   "cell_type": "code",
   "execution_count": 29,
   "id": "99fcd3ad",
   "metadata": {},
   "outputs": [
    {
     "name": "stdout",
     "output_type": "stream",
     "text": [
      "HI\n"
     ]
    }
   ],
   "source": [
    "f1=open(\"sample.txt\",\"r\")\n",
    "print(f1.read())\n",
    "f1.close()"
   ]
  },
  {
   "cell_type": "code",
   "execution_count": 36,
   "id": "9bc960be",
   "metadata": {},
   "outputs": [
    {
     "name": "stdout",
     "output_type": "stream",
     "text": [
      "HELLO!\n"
     ]
    }
   ],
   "source": [
    "f=open(\"../filedocuments/abc.txt\",\"r\")\n",
    "print(f.read())\n",
    "f.close()"
   ]
  },
  {
   "cell_type": "code",
   "execution_count": null,
   "id": "7cdc024d",
   "metadata": {},
   "outputs": [],
   "source": []
  }
 ],
 "metadata": {
  "kernelspec": {
   "display_name": "Python 3 (ipykernel)",
   "language": "python",
   "name": "python3"
  },
  "language_info": {
   "codemirror_mode": {
    "name": "ipython",
    "version": 3
   },
   "file_extension": ".py",
   "mimetype": "text/x-python",
   "name": "python",
   "nbconvert_exporter": "python",
   "pygments_lexer": "ipython3",
   "version": "3.10.9"
  }
 },
 "nbformat": 4,
 "nbformat_minor": 5
}
