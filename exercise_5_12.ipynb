{
 "cells": [
  {
   "cell_type": "code",
   "execution_count": 6,
   "id": "088a603f",
   "metadata": {},
   "outputs": [
    {
     "name": "stdout",
     "output_type": "stream",
     "text": [
      "a= 15\n",
      "b= 10\n",
      "c= 5\n"
     ]
    }
   ],
   "source": [
    "fun(20,'sam')"
   ]
  },
  {
   "cell_type": "code",
   "execution_count": 16,
   "id": "9df3c227",
   "metadata": {},
   "outputs": [
    {
     "name": "stdout",
     "output_type": "stream",
     "text": [
      "passing arguments in order :\n",
      "hi my name is sam\n",
      "age 20\n",
      "passing arguments not in order :\n",
      "hi my name is 20\n",
      "age sam\n"
     ]
    }
   ],
   "source": [
    "def fun(name,age):\n",
    "    print(\"hi my name is\",name)\n",
    "    print(\"age\",age)\n",
    "#positional argument\n",
    "print(\"passing arguments in order :\")\n",
    "fun('sam',20)\n",
    "print(\"passing arguments not in order :\")\n",
    "fun(20,'sam')"
   ]
  },
  {
   "cell_type": "code",
   "execution_count": 24,
   "id": "3b5f5308",
   "metadata": {},
   "outputs": [
    {
     "name": "stdout",
     "output_type": "stream",
     "text": [
      "John Doe\n"
     ]
    }
   ],
   "source": [
    "class Person:\n",
    "    def __init__(self, fname, lname):\n",
    "        self.firstname = fname\n",
    "        self.lastname = lname\n",
    "\n",
    "    def printname(self):\n",
    "        print(self.firstname, self.lastname)\n",
    "\n",
    "#Use the Person class to create an object, and then execute the printname method:\n",
    "\n",
    "x = Person(\"John\", \"Doe\")\n",
    "x.printname()\n"
   ]
  },
  {
   "cell_type": "code",
   "execution_count": 27,
   "id": "f33058de",
   "metadata": {},
   "outputs": [
    {
     "name": "stdout",
     "output_type": "stream",
     "text": [
      "2020 john\n"
     ]
    }
   ],
   "source": [
    "class Employee:\n",
    "    def __init__(self,empid,empname):\n",
    "        self.id=empid\n",
    "        self.name=empname\n",
    "    def printname(self):\n",
    "        print(self.id,self.name)\n",
    "ob=Employee(2020,\"john\")\n",
    "ob.printname()"
   ]
  },
  {
   "cell_type": "code",
   "execution_count": 44,
   "id": "3ecf61ee",
   "metadata": {},
   "outputs": [
    {
     "name": "stdout",
     "output_type": "stream",
     "text": [
      "*******************Person class details****************************\n",
      "Employeeid= 1002\n",
      "Name= Jhon\n",
      "Department= Tester\n",
      "Salary= 25000\n",
      "*******************Employee class details****************************\n",
      "Employee id 1003\n",
      "EMployee name: Danial\n"
     ]
    }
   ],
   "source": [
    "class Employee:\n",
    "    def __init__(self,empid,empname):\n",
    "        self.empid=empid\n",
    "        self.empname=empname\n",
    "    def Empdetails(self):\n",
    "        print(\"Employee id\",self.empid)\n",
    "        print(\"EMployee name:\",self.empname)\n",
    "class person(Employee):\n",
    "    def __init__(self,empid,empname,department,salary):\n",
    "        super(person,self).__init__(empid,empname)\n",
    "        self.department=department\n",
    "        self.salary=salary\n",
    "    def Empdetails(self):\n",
    "        print(\"Employeeid=\",self.empid)\n",
    "        print(\"Name=\",self.empname)\n",
    "        print(\"Department=\",self.department)\n",
    "        print(\"Salary=\",self.salary)\n",
    "person1=person(1002,\"Jhon\",\"Tester\",25000)\n",
    "print(\"*******************Person class details****************************\")\n",
    "person1.Empdetails()\n",
    "emp1=Employee(\"1003\",\"Danial\")\n",
    "print(\"*******************Employee class details****************************\")\n",
    "emp1.Empdetails()"
   ]
  },
  {
   "cell_type": "code",
   "execution_count": null,
   "id": "bb11a655",
   "metadata": {},
   "outputs": [],
   "source": []
  }
 ],
 "metadata": {
  "kernelspec": {
   "display_name": "Python 3 (ipykernel)",
   "language": "python",
   "name": "python3"
  },
  "language_info": {
   "codemirror_mode": {
    "name": "ipython",
    "version": 3
   },
   "file_extension": ".py",
   "mimetype": "text/x-python",
   "name": "python",
   "nbconvert_exporter": "python",
   "pygments_lexer": "ipython3",
   "version": "3.10.9"
  }
 },
 "nbformat": 4,
 "nbformat_minor": 5
}
