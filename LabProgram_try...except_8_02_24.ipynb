{
 "cells": [
  {
   "cell_type": "code",
   "execution_count": 22,
   "id": "62bd4455",
   "metadata": {},
   "outputs": [
    {
     "name": "stdout",
     "output_type": "stream",
     "text": [
      "1.Division\n",
      "2.List\n",
      "3.String\n",
      "4.Exit\n",
      "Enter choice: 1\n",
      "enter a: 10\n",
      "enter b: 2\n",
      "Division: \n",
      "Division result: 5.0\n",
      "Division successfully completed*\n",
      "1.Division\n",
      "2.List\n",
      "3.String\n",
      "4.Exit\n",
      "Enter choice: 2\n",
      "Enter size of list: 3\n",
      "enter elements: 3\n",
      "enter elements: 5\n",
      "enter elements: 7\n",
      "Index Error: \n",
      "list elements are : \n",
      "3\n",
      "5\n",
      "7\n",
      "list index out of range\n",
      "1.Division\n",
      "2.List\n",
      "3.String\n",
      "4.Exit\n",
      "Enter choice: 3\n",
      "enter string : hi\n",
      "Enter string: 7\n",
      "can only concatenate str (not \"int\") to str\n",
      "1.Division\n",
      "2.List\n",
      "3.String\n",
      "4.Exit\n",
      "Enter choice: 4\n"
     ]
    }
   ],
   "source": [
    "def div(a,b):\n",
    "    try:\n",
    "        res=a/b\n",
    "        print(\"Division result:\", res)\n",
    "    except ZeroDivisionError:\n",
    "         print(\"Zero Division Error\")\n",
    "    finally:\n",
    "        print(\"Division successfully completed*\")\n",
    "def numlist(lst):\n",
    "    print(\"list elements are : \")\n",
    "    try:\n",
    "        for i in range(5):\n",
    "            print(lst[i])\n",
    "    except IndexError as e:\n",
    "        print(e)\n",
    "def string(str1,str2):\n",
    "    try:\n",
    "        res=str1+str2\n",
    "        print(\"Concatenated : \",res)\n",
    "    except TypeError as e:\n",
    "        print(e)\n",
    "while(1):\n",
    "    print(\"1.Division\\n2.List\\n3.String\\n4.Exit\")\n",
    "    ch=int(input(\"Enter choice: \"))\n",
    "    if ch==1:\n",
    "        a=int(input(\"enter a: \"))\n",
    "        b=int(input(\"enter b: \"))\n",
    "        print(\"Division: \")\n",
    "        div(a,b)\n",
    "    elif ch==2:\n",
    "        lst=[]\n",
    "        n=int(input(\"Enter size of list: \"))\n",
    "        for i in range(n):\n",
    "                 lst.append(int(input(\"enter elements: \")))\n",
    "        print(\"Index Error: \")\n",
    "        numlist(lst)\n",
    "    elif ch==3:\n",
    "        str1=input(\"enter string : \")\n",
    "        str2=int(input(\"Enter string: \"))\n",
    "        string(str1,str2)\n",
    "    elif ch==4:\n",
    "        break\n",
    "    else:\n",
    "        print(\"invalid choice\")"
   ]
  },
  {
   "cell_type": "code",
   "execution_count": 34,
   "id": "d2298d06",
   "metadata": {},
   "outputs": [
    {
     "name": "stdout",
     "output_type": "stream",
     "text": [
      "Enter your year of birth: 2000\n",
      "You are 24 years old.\n"
     ]
    }
   ],
   "source": [
    "def calculate_age(year_of_birth):\n",
    "    current_year = 2024  \n",
    "    age = current_year - year_of_birth\n",
    "\n",
    "    if age <= 0:\n",
    "        raise Exception(\"Invalid year of birth. Year of birth must be in the past.\")\n",
    "    \n",
    "    return age\n",
    "\n",
    "try:\n",
    "    year_of_birth = int(input(\"Enter your year of birth: \"))\n",
    "    age = calculate_age(year_of_birth)\n",
    "    print(\"You are {} years old.\".format(age))\n",
    "except  Exception as ve:\n",
    "    print(\"Error:\", ve)"
   ]
  },
  {
   "cell_type": "code",
   "execution_count": 39,
   "id": "a4e1bb4e",
   "metadata": {},
   "outputs": [
    {
     "name": "stdout",
     "output_type": "stream",
     "text": [
      "Enter salary amount: 60000\n",
      "Exception occurred: salary not in range\n"
     ]
    }
   ],
   "source": [
    "class SalaryNotInRangeError(Exception):\n",
    "\n",
    "    def __init__(self, salary, message=\"Salary is not in (5000, 15000) range\"):\n",
    "        self.salary = salary\n",
    "        self.message = message\n",
    "        super().__init__(self.message)\n",
    "try:\n",
    "    salary = int(input(\"Enter salary amount: \"))\n",
    "    if not 5000 < salary < 15000:\n",
    "        raise SalaryNotInRangeError(salary)\n",
    "except SalaryNotInRangeError:\n",
    "    print(\"Exception occurred: salary not in range\")"
   ]
  },
  {
   "cell_type": "code",
   "execution_count": null,
   "id": "03e571e6",
   "metadata": {},
   "outputs": [],
   "source": []
  }
 ],
 "metadata": {
  "kernelspec": {
   "display_name": "Python 3 (ipykernel)",
   "language": "python",
   "name": "python3"
  },
  "language_info": {
   "codemirror_mode": {
    "name": "ipython",
    "version": 3
   },
   "file_extension": ".py",
   "mimetype": "text/x-python",
   "name": "python",
   "nbconvert_exporter": "python",
   "pygments_lexer": "ipython3",
   "version": "3.10.9"
  }
 },
 "nbformat": 4,
 "nbformat_minor": 5
}
