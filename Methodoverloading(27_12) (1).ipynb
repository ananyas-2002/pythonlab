{
 "cells": [
  {
   "cell_type": "code",
   "execution_count": 11,
   "id": "488a825f",
   "metadata": {},
   "outputs": [
    {
     "name": "stdout",
     "output_type": "stream",
     "text": [
      "11\n",
      "Python\n",
      "HiHelloWelcome\n",
      "18\n",
      "100\n",
      "HelloWelcomenice\n"
     ]
    }
   ],
   "source": [
    "class sum_2:\n",
    "    def add(x,y):\n",
    "        return x+y\n",
    "class sum_3(sum_1):\n",
    "    def add(x,y,z):\n",
    "        return x+y+z\n",
    "class sum_4:\n",
    "    def add(a,b,c,d):\n",
    "        return a+b+c+d\n",
    "obj1=sum_2\n",
    "obj2=sum_3\n",
    "obj3=sum_4\n",
    "print(obj1.add(5,6))\n",
    "print(obj1.add(\"Py\",\"thon\"))\n",
    "print(obj2.add(\"Hi\",\"Hello\",\"Welcome\"))\n",
    "print(obj2.add(4,6,8))\n",
    "print(obj3.add(10,20,30,40))\n",
    "print(obj3.add(\"Hello\",\"Wel\",\"come\",\"nice\"))"
   ]
  },
  {
   "cell_type": "code",
   "execution_count": 19,
   "id": "12b8c32d",
   "metadata": {},
   "outputs": [
    {
     "name": "stdout",
     "output_type": "stream",
     "text": [
      "30\n",
      "50\n",
      "15.2\n",
      "56.9\n",
      "27.9\n",
      "Hello*Welcome\n"
     ]
    }
   ],
   "source": [
    "from multipledispatch import dispatch\n",
    "class example:\n",
    "    @dispatch(int,int)\n",
    "    def add(self,a,b):\n",
    "        return a+b\n",
    "    @dispatch(int,int,int)\n",
    "    def add(self,a,b,c):\n",
    "        return a+b+c\n",
    "    @dispatch(float,float,float)\n",
    "    def add(self,a,b,c):\n",
    "        return a+b+c\n",
    "    @dispatch(float,float)\n",
    "    def add(self,a,b):\n",
    "        return a+b\n",
    "    @dispatch(int,float)\n",
    "    def add(self,a,b):\n",
    "        return a+b\n",
    "    @dispatch(str,str)\n",
    "    def add(self,a,b):\n",
    "        return a+b\n",
    "obj=example()\n",
    "print(obj.add(20,10))\n",
    "print(obj.add(40,6,4))\n",
    "print(obj.add(6.5,1.0,7.7))\n",
    "print(obj.add(50.5,6.4))\n",
    "print(obj.add(20,7.9))\n",
    "print(obj.add(\"Hello*\",\"Welcome\"))"
   ]
  },
  {
   "cell_type": "code",
   "execution_count": 23,
   "id": "bf31225b",
   "metadata": {},
   "outputs": [
    {
     "name": "stdout",
     "output_type": "stream",
     "text": [
      "30\n",
      "Hello*Welcome\n",
      "30\n",
      "6\n"
     ]
    }
   ],
   "source": [
    "class sum_1:\n",
    "    def add(self,a=None,b=None,c=None):\n",
    "        s=0\n",
    "        if a!=None and b!=None and c!=None:\n",
    "            s=a+b+c\n",
    "            return s\n",
    "        elif a!=None and b!=None:\n",
    "            s=a+b\n",
    "            return a+b\n",
    "        else:\n",
    "            return a\n",
    "obj=sum_1()\n",
    "print(obj.add(20,10))\n",
    "print(obj.add(\"Hello*\",\"Welcome\"))\n",
    "print(obj.add(6,4,20))\n",
    "print(obj.add(6))"
   ]
  },
  {
   "cell_type": "code",
   "execution_count": 6,
   "id": "87167125",
   "metadata": {},
   "outputs": [
    {
     "name": "stdout",
     "output_type": "stream",
     "text": [
      "30\n",
      "9.3\n"
     ]
    },
    {
     "ename": "TypeError",
     "evalue": "example.add() takes 3 positional arguments but 4 were given",
     "output_type": "error",
     "traceback": [
      "\u001b[1;31m---------------------------------------------------------------------------\u001b[0m",
      "\u001b[1;31mTypeError\u001b[0m                                 Traceback (most recent call last)",
      "Cell \u001b[1;32mIn[6], line 11\u001b[0m\n\u001b[0;32m      9\u001b[0m \u001b[38;5;28mprint\u001b[39m(obj\u001b[38;5;241m.\u001b[39madd(\u001b[38;5;241m20\u001b[39m,\u001b[38;5;241m10\u001b[39m))\n\u001b[0;32m     10\u001b[0m \u001b[38;5;28mprint\u001b[39m(obj\u001b[38;5;241m.\u001b[39madd(\u001b[38;5;241m2.5\u001b[39m,\u001b[38;5;241m6.8\u001b[39m))\n\u001b[1;32m---> 11\u001b[0m \u001b[38;5;28mprint\u001b[39m(\u001b[43mobj\u001b[49m\u001b[38;5;241;43m.\u001b[39;49m\u001b[43madd\u001b[49m\u001b[43m(\u001b[49m\u001b[38;5;241;43m40\u001b[39;49m\u001b[43m,\u001b[49m\u001b[38;5;241;43m6\u001b[39;49m\u001b[43m,\u001b[49m\u001b[38;5;241;43m4\u001b[39;49m\u001b[43m)\u001b[49m)\n",
      "\u001b[1;31mTypeError\u001b[0m: example.add() takes 3 positional arguments but 4 were given"
     ]
    }
   ],
   "source": [
    "class example:\n",
    "     def add(self,a,b):\n",
    "        return a+b\n",
    "     def add(self,a,b,c):\n",
    "        return a+b+c\n",
    "     def add(self,a,b):\n",
    "        return a+b\n",
    "obj=example()\n",
    "print(obj.add(20,10))\n",
    "print(obj.add(2.5,6.8))\n",
    "print(obj.add(40,6,4))"
   ]
  },
  {
   "cell_type": "code",
   "execution_count": null,
   "id": "72affc29",
   "metadata": {},
   "outputs": [],
   "source": []
  }
 ],
 "metadata": {
  "kernelspec": {
   "display_name": "Python 3 (ipykernel)",
   "language": "python",
   "name": "python3"
  },
  "language_info": {
   "codemirror_mode": {
    "name": "ipython",
    "version": 3
   },
   "file_extension": ".py",
   "mimetype": "text/x-python",
   "name": "python",
   "nbconvert_exporter": "python",
   "pygments_lexer": "ipython3",
   "version": "3.10.9"
  }
 },
 "nbformat": 4,
 "nbformat_minor": 5
}
