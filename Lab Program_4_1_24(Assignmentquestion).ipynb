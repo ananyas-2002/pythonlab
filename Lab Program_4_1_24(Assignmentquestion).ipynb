{
 "cells": [
  {
   "cell_type": "code",
   "execution_count": 4,
   "id": "a25883c7",
   "metadata": {},
   "outputs": [
    {
     "name": "stdout",
     "output_type": "stream",
     "text": [
      "Area of circle= 28.274333882308138\n"
     ]
    }
   ],
   "source": [
    "import math\n",
    "class area:\n",
    "    def __init__(self,radius):\n",
    "        self.radius=radius\n",
    "    def calculatearea(self):\n",
    "        return math.pi*self.radius*self.radius\n",
    "ob=area(3)\n",
    "print(\"Area of circle=\",ob.calculatearea())"
   ]
  },
  {
   "cell_type": "code",
   "execution_count": 10,
   "id": "977fbfb4",
   "metadata": {},
   "outputs": [
    {
     "name": "stdout",
     "output_type": "stream",
     "text": [
      "['Ann', 'John', 'Sam', 'Xavier']\n"
     ]
    }
   ],
   "source": [
    "#using builtin function\n",
    "list_1=[\"John\",\"Ann\",\"Sam\",\"Xavier\"]\n",
    "list_1.sort()\n",
    "print(list_1)"
   ]
  },
  {
   "cell_type": "code",
   "execution_count": 14,
   "id": "567a861a",
   "metadata": {},
   "outputs": [
    {
     "name": "stdout",
     "output_type": "stream",
     "text": [
      "Original List: ['John', 'Ann', 'Sam', 'Xavier']\n",
      "Sorted list= ['Ann', 'John', 'Sam', 'Xavier']\n"
     ]
    }
   ],
   "source": [
    "#without using builtin function\n",
    "list_1=[\"John\",\"Ann\",\"Sam\",\"Xavier\"]\n",
    "print(\"Original List:\",list_1)\n",
    "for i in range(len(list_1)-1):\n",
    "    for j in range(len(list_1)-1-i):\n",
    "        if list_1[j]>list_1[j+1]:\n",
    "            temp=list_1[j]\n",
    "            list_1[j]=list_1[j+1]\n",
    "            list_1[j+1]=temp\n",
    "print(\"Sorted list=\",list_1)"
   ]
  },
  {
   "cell_type": "code",
   "execution_count": 19,
   "id": "47a04400",
   "metadata": {},
   "outputs": [
    {
     "name": "stdout",
     "output_type": "stream",
     "text": [
      "Professor Details:\n",
      "Name: Dr.Alice  \n",
      "Age: 50 \n",
      "Subject: Physics\n",
      "Research Area: Quantum Mechanics\n",
      "Assistant Professor Details:\n",
      "Name: Bob  \n",
      "Age: 40 \n",
      "Subject: Astronomy\n",
      "Number of Publications:  100\n",
      "Associate Professor Details:\n",
      "Name: Charlie  \n",
      "Age: 45 \n",
      "Subject: Computer Science\n",
      "Years of Experience: 20\n"
     ]
    }
   ],
   "source": [
    "class Teacher:\n",
    "    def __init__(self, name, age, subject):\n",
    "        self.name = name\n",
    "        self.age = age\n",
    "        self.subject = subject\n",
    "\n",
    "    def display_info(self):\n",
    "        print(\"Name:\",self.name,\" \\nAge:\",self.age,\"\\nSubject:\", self.subject)\n",
    "\n",
    "\n",
    "class Professor(Teacher):\n",
    "    def __init__(self, name, age, subject, research_area):\n",
    "        super().__init__(name, age, subject)\n",
    "        self.research_area = research_area\n",
    "\n",
    "    def display_info(self):\n",
    "        super().display_info()\n",
    "        print(\"Research Area:\",self.research_area)\n",
    "\n",
    "\n",
    "class AstProfessor(Teacher):\n",
    "    def __init__(self, name, age, subject, num_publications):\n",
    "        super().__init__(name, age, subject)\n",
    "        self.num_publications = num_publications\n",
    "\n",
    "    def display_info(self):\n",
    "        super().display_info()\n",
    "        print(\"Number of Publications: \",self.num_publications)\n",
    "\n",
    "\n",
    "class AsProfessor(Teacher):\n",
    "    def __init__(self, name, age, subject,years_experience):\n",
    "        super().__init__(name, age, subject)\n",
    "        self.years_experience = years_experience\n",
    "\n",
    "    def display_info(self):\n",
    "        super().display_info()\n",
    "        print(\"Years of Experience:\",self.years_experience)\n",
    "\n",
    "\n",
    "# Create objects and display their information\n",
    "p = Professor(\"Dr.Alice\", 50, \"Physics\", \"Quantum Mechanics\")\n",
    "ap = AstProfessor(\"Bob\", 40, \"Astronomy\", 100)\n",
    "asp = AsProfessor(\"Charlie\", 45, \"Computer Science\", 20)\n",
    "print(\"Professor Details:\")\n",
    "p.display_info()\n",
    "print(\"Assistant Professor Details:\")\n",
    "ap.display_info()\n",
    "print(\"Associate Professor Details:\")\n",
    "asp.display_info()"
   ]
  },
  {
   "cell_type": "code",
   "execution_count": null,
   "id": "a2499dd1",
   "metadata": {},
   "outputs": [],
   "source": []
  },
  {
   "cell_type": "code",
   "execution_count": null,
   "id": "d1425ecc",
   "metadata": {},
   "outputs": [],
   "source": []
  }
 ],
 "metadata": {
  "kernelspec": {
   "display_name": "Python 3 (ipykernel)",
   "language": "python",
   "name": "python3"
  },
  "language_info": {
   "codemirror_mode": {
    "name": "ipython",
    "version": 3
   },
   "file_extension": ".py",
   "mimetype": "text/x-python",
   "name": "python",
   "nbconvert_exporter": "python",
   "pygments_lexer": "ipython3",
   "version": "3.10.9"
  }
 },
 "nbformat": 4,
 "nbformat_minor": 5
}
