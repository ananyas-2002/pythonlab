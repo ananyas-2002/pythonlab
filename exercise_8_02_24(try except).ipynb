{
 "cells": [
  {
   "cell_type": "code",
   "execution_count": 1,
   "id": "11066676",
   "metadata": {},
   "outputs": [
    {
     "name": "stdout",
     "output_type": "stream",
     "text": [
      "Case1:\n",
      "Division result: 2.0\n",
      "Case2:\n",
      "Zero Division Error\n"
     ]
    }
   ],
   "source": [
    "def div(a,b):\n",
    "    res=a/b\n",
    "    print(\"Division result:\", res)\n",
    "try:\n",
    "    print(\"Case1:\")\n",
    "    div(10,5)\n",
    "    print(\"Case2:\")\n",
    "    div(10,0)\n",
    "except ZeroDivisionError:\n",
    "    print(\"Zero Division Error\")\n"
   ]
  },
  {
   "cell_type": "code",
   "execution_count": 2,
   "id": "c0bb86a5",
   "metadata": {},
   "outputs": [
    {
     "name": "stdout",
     "output_type": "stream",
     "text": [
      "1.Division\n",
      "2.List\n",
      "3.String\n",
      "4.Exit\n",
      "Enter choice: 1\n",
      "enter a: 10\n",
      "enter b: 0\n",
      "Division: \n",
      "Zero Division Error\n",
      "Division successfully completed*\n",
      "1.Division\n",
      "2.List\n",
      "3.String\n",
      "4.Exit\n",
      "Enter choice: 2\n",
      "Enter size of list: 3\n",
      "enter elements: 4\n",
      "enter elements: 5\n",
      "enter elements: 6\n",
      "Index Error: \n",
      "list elements are : \n",
      "4\n",
      "5\n",
      "6\n",
      "list index out of range\n",
      "1.Division\n",
      "2.List\n",
      "3.String\n",
      "4.Exit\n",
      "Enter choice: 3\n",
      "enter string : fgh\n",
      "Enter string: 5\n",
      "can only concatenate str (not \"int\") to str\n",
      "1.Division\n",
      "2.List\n",
      "3.String\n",
      "4.Exit\n",
      "Enter choice: 4\n"
     ]
    }
   ],
   "source": [
    "def div(a,b):\n",
    "    try:\n",
    "        res=a/b\n",
    "        print(\"Division result:\", res)\n",
    "    except ZeroDivisionError:\n",
    "         print(\"Zero Division Error\")\n",
    "    finally:\n",
    "        print(\"Division successfully completed*\")\n",
    "def numlist(lst):\n",
    "    print(\"list elements are : \")\n",
    "    try:\n",
    "        for i in range(5):\n",
    "            print(lst[i])\n",
    "    except IndexError as e:\n",
    "        print(e)\n",
    "def string(str1,str2):\n",
    "    try:\n",
    "        res=str1+str2\n",
    "        print(\"Concatenated : \",res)\n",
    "    except TypeError as e:\n",
    "        print(e)\n",
    "while(1):\n",
    "    print(\"1.Division\\n2.List\\n3.String\\n4.Exit\")\n",
    "    ch=input(\"Enter choice: \")\n",
    "    if ch==\"1\":\n",
    "        a=int(input(\"enter a: \"))\n",
    "        b=int(input(\"enter b: \"))\n",
    "        print(\"Division: \")\n",
    "        div(a,b)\n",
    "    elif ch==\"2\":\n",
    "        lst=[]\n",
    "        n=int(input(\"Enter size of list: \"))\n",
    "        for i in range(n):\n",
    "                 lst.append(int(input(\"enter elements: \")))\n",
    "        print(\"Index Error: \")\n",
    "        numlist(lst)\n",
    "    elif ch==\"3\":\n",
    "        str1=input(\"enter string : \")\n",
    "        str2=int(input(\"Enter string: \"))\n",
    "        string(str1,str2)\n",
    "    elif ch==\"4\":\n",
    "        break\n",
    "    else:\n",
    "        print(\"invalid choice\")"
   ]
  },
  {
   "cell_type": "code",
   "execution_count": null,
   "id": "36b13a61",
   "metadata": {},
   "outputs": [],
   "source": []
  }
 ],
 "metadata": {
  "kernelspec": {
   "display_name": "Python 3 (ipykernel)",
   "language": "python",
   "name": "python3"
  },
  "language_info": {
   "codemirror_mode": {
    "name": "ipython",
    "version": 3
   },
   "file_extension": ".py",
   "mimetype": "text/x-python",
   "name": "python",
   "nbconvert_exporter": "python",
   "pygments_lexer": "ipython3",
   "version": "3.10.9"
  }
 },
 "nbformat": 4,
 "nbformat_minor": 5
}
