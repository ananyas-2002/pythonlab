{
 "cells": [
  {
   "cell_type": "code",
   "execution_count": 17,
   "id": "2b0db56c",
   "metadata": {},
   "outputs": [
    {
     "name": "stdout",
     "output_type": "stream",
     "text": [
      "<?xml version=\"1.0\" encoding=\"utf-8\"?>\n",
      "<note>\n",
      "<to>Tove</to>\n",
      "<from>Jani</from>\n",
      "<heading>Reminder</heading>\n",
      "<body>Don't forget me this weekend!</body>\n",
      "</note>\n"
     ]
    }
   ],
   "source": [
    "from bs4 import BeautifulSoup\n",
    "with open('../Documents/dict.xml','r')as f:\n",
    "    data=f.read()\n",
    "Bs_data=BeautifulSoup(data,\"xml\")\n",
    "print(Bs_data)"
   ]
  },
  {
   "cell_type": "code",
   "execution_count": 16,
   "id": "5dd13117",
   "metadata": {},
   "outputs": [
    {
     "name": "stdout",
     "output_type": "stream",
     "text": [
      "[<student>\n",
      "<name>Rick Grimes</name>\n",
      "<age>35</age>\n",
      "<subject>Maths</subject>\n",
      "<gender>Male</gender>\n",
      "</student>, <student>\n",
      "<name>Daryl Dixon </name>\n",
      "<age>33</age>\n",
      "<subject>Science</subject>\n",
      "<gender>Male</gender>\n",
      "</student>, <student>\n",
      "<name>Maggie</name>\n",
      "<age>36</age>\n",
      "<subject>Arts</subject>\n",
      "<gender>Female</gender>\n",
      "</student>]\n"
     ]
    }
   ],
   "source": [
    "from bs4 import BeautifulSoup\n",
    "with open('../Documents/sample.xml','r')as f:\n",
    "    data=f.read()\n",
    "Bs_data=BeautifulSoup(data,\"xml\")\n",
    "#print(Bs_data)\n",
    "b_student=Bs_data.find_all(\"student\")\n",
    "print(b_student)"
   ]
  },
  {
   "cell_type": "code",
   "execution_count": 24,
   "id": "1b1d3a11",
   "metadata": {},
   "outputs": [
    {
     "name": "stdout",
     "output_type": "stream",
     "text": [
      "{'student': {'name': 'sathiyajith', 'rollno': 56, 'cgpa': 8.6, 'phonenumber': '9976770500'}}\n"
     ]
    }
   ],
   "source": [
    "import json\n",
    "with open('../Documents/sample.json','r')as f:\n",
    "    json_ob=json.load(f)\n",
    "print(json_ob)"
   ]
  },
  {
   "cell_type": "code",
   "execution_count": 27,
   "id": "76d4d08f",
   "metadata": {},
   "outputs": [],
   "source": [
    "import json\n",
    "dict={\"name\":\"ann\",\"age\":22,\"place\":\"USA\"}\n",
    "json_ob=json.dumps(dict)\n",
    "with open('jsonfile.json','w')as f:\n",
    "    f.write(json_ob)"
   ]
  },
  {
   "cell_type": "code",
   "execution_count": 29,
   "id": "15fb706a",
   "metadata": {},
   "outputs": [
    {
     "name": "stdout",
     "output_type": "stream",
     "text": [
      "{'name': 'ann', 'age': 22, 'place': 'USA'}\n"
     ]
    }
   ],
   "source": [
    "with open('jsonfile.json','r')as f:\n",
    "    ob=json.load(f)\n",
    "print(ob)"
   ]
  },
  {
   "cell_type": "code",
   "execution_count": null,
   "id": "036cfd96",
   "metadata": {},
   "outputs": [],
   "source": []
  }
 ],
 "metadata": {
  "kernelspec": {
   "display_name": "Python 3 (ipykernel)",
   "language": "python",
   "name": "python3"
  },
  "language_info": {
   "codemirror_mode": {
    "name": "ipython",
    "version": 3
   },
   "file_extension": ".py",
   "mimetype": "text/x-python",
   "name": "python",
   "nbconvert_exporter": "python",
   "pygments_lexer": "ipython3",
   "version": "3.10.9"
  }
 },
 "nbformat": 4,
 "nbformat_minor": 5
}
