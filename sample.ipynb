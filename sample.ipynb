{
  "cells": [
    {
      "cell_type": "markdown",
      "metadata": {
        "id": "view-in-github",
        "colab_type": "text"
      },
      "source": [
        "<a href=\"https://colab.research.google.com/github/ananyas-2002/pythonlab/blob/main/sample.ipynb\" target=\"_parent\"><img src=\"https://colab.research.google.com/assets/colab-badge.svg\" alt=\"Open In Colab\"/></a>"
      ]
    },
    {
      "cell_type": "code",
      "execution_count": null,
      "id": "b9e6ebf6",
      "metadata": {
        "id": "b9e6ebf6",
        "outputId": "5c8f141c-a769-4267-b42c-243cd800646e"
      },
      "outputs": [
        {
          "name": "stdout",
          "output_type": "stream",
          "text": [
            "hello world\n"
          ]
        }
      ],
      "source": [
        "print(\"hello world\")"
      ]
    },
    {
      "cell_type": "code",
      "execution_count": null,
      "id": "5342c547",
      "metadata": {
        "id": "5342c547",
        "outputId": "797a9d4c-693b-40d5-b487-a864b685d426"
      },
      "outputs": [
        {
          "name": "stdout",
          "output_type": "stream",
          "text": [
            "sum= 77\n",
            "diff= -13\n"
          ]
        }
      ],
      "source": [
        "a=32\n",
        "b=45\n",
        "sum=a+b\n",
        "diff=a-b\n",
        "print(\"sum=\",sum)\n",
        "print(\"diff=\",diff)"
      ]
    },
    {
      "cell_type": "code",
      "execution_count": null,
      "id": "0dd5430d",
      "metadata": {
        "id": "0dd5430d",
        "outputId": "11057f3f-9bd7-4662-f601-fe48d6eef567"
      },
      "outputs": [
        {
          "name": "stdout",
          "output_type": "stream",
          "text": [
            "1\n",
            "2\n",
            "3\n",
            "4\n",
            "5\n",
            "6\n",
            "7\n",
            "8\n",
            "9\n",
            "10\n",
            "\n",
            "\n"
          ]
        }
      ],
      "source": [
        "for i in range(1,11):\n",
        "    print(i)\n",
        "print(\"\\n\")"
      ]
    },
    {
      "cell_type": "code",
      "execution_count": null,
      "id": "cd312706",
      "metadata": {
        "id": "cd312706",
        "outputId": "42006253-64b1-4522-b39b-0cba308d0760"
      },
      "outputs": [
        {
          "name": "stdout",
          "output_type": "stream",
          "text": [
            "large= 100\n"
          ]
        }
      ],
      "source": [
        "a=50\n",
        "b=100\n",
        "large=max(a,b)\n",
        "print(\"large=\",large)"
      ]
    },
    {
      "cell_type": "code",
      "execution_count": null,
      "id": "38929599",
      "metadata": {
        "id": "38929599",
        "outputId": "7b68af94-7754-44db-aca7-cc17acf3c537"
      },
      "outputs": [
        {
          "name": "stdout",
          "output_type": "stream",
          "text": [
            "enter number:2,4,8,10,12,14,16,20,22\n",
            "List is= [2, 4, 8, 10, 12, 14, 16, 20, 22]\n"
          ]
        }
      ],
      "source": [
        "lst=input(\"enter number:\")\n",
        "s=list(map(int,lst.split(',')))\n",
        "print(\"List is=\",s)"
      ]
    },
    {
      "cell_type": "code",
      "execution_count": null,
      "id": "4204905e",
      "metadata": {
        "id": "4204905e"
      },
      "outputs": [],
      "source": []
    }
  ],
  "metadata": {
    "kernelspec": {
      "display_name": "Python 3 (ipykernel)",
      "language": "python",
      "name": "python3"
    },
    "language_info": {
      "codemirror_mode": {
        "name": "ipython",
        "version": 3
      },
      "file_extension": ".py",
      "mimetype": "text/x-python",
      "name": "python",
      "nbconvert_exporter": "python",
      "pygments_lexer": "ipython3",
      "version": "3.9.7"
    },
    "colab": {
      "provenance": [],
      "include_colab_link": true
    }
  },
  "nbformat": 4,
  "nbformat_minor": 5
}