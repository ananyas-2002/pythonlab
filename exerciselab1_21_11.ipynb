{
 "cells": [
  {
   "cell_type": "code",
   "execution_count": 11,
   "id": "e87df508",
   "metadata": {},
   "outputs": [
    {
     "name": "stdout",
     "output_type": "stream",
     "text": [
      "enter how many number to enter:5\n",
      "enter numbers:34\n",
      "enter numbers:1\n",
      "enter numbers:78\n",
      "enter numbers:45\n",
      "enter numbers:33\n",
      "[34, 1, 78, 45, 33]\n",
      "new sorted list is: [1, 33, 34, 45, 78]\n",
      "second largest element in the given sequence of number= 45\n"
     ]
    }
   ],
   "source": [
    "n=int(input(\"enter how many number to enter:\"))\n",
    "lst=[]\n",
    "for i in range(n):\n",
    "    lst.append(int(input(\"enter numbers:\")))\n",
    "print(lst)\n",
    "lst.sort()\n",
    "print(\"new sorted list is:\",lst)\n",
    "print(\"second largest element in the given sequence of number=\",lst[-2])\n"
   ]
  },
  {
   "cell_type": "code",
   "execution_count": 12,
   "id": "cc480d77",
   "metadata": {},
   "outputs": [
    {
     "name": "stdout",
     "output_type": "stream",
     "text": [
      "good\n"
     ]
    }
   ],
   "source": [
    "def pass_exam():\n",
    "    for i in range(0,10):\n",
    "        pass\n",
    "    print(\"good\")\n",
    "pass_exam()"
   ]
  },
  {
   "cell_type": "code",
   "execution_count": 20,
   "id": "80fc658e",
   "metadata": {},
   "outputs": [
    {
     "name": "stdout",
     "output_type": "stream",
     "text": [
      "fruits list: ['Apple', 'Banana', 'Orange', 'Kiwi']\n",
      "enter size:5\n",
      "enter elements:2\n",
      "enter elements:3\n",
      "enter elements:2\n",
      "enter elements:5\n",
      "enter elements:2\n",
      "number list [2, 3, 2, 5, 2]\n",
      "appended fruits list ['Apple', 'Banana', 'Orange', 'Kiwi', 'Grapes']\n",
      "inserted number list [2, 3, 2, 89, 5, 2]\n",
      "pop: [2, 3, 89, 5, 2]\n",
      "removed: ['Apple', 'Banana', 'Orange', 'Kiwi']\n",
      "count of occureness of key: 2\n",
      "index of key: 3\n",
      "sorted ['Apple', 'Banana', 'Kiwi', 'Orange']\n",
      "reverse of list: [2, 5, 89, 3, 2]\n",
      "extended list: [2, 5, 89, 3, 2, 'Apple', 'Banana', 'Kiwi', 'Orange']\n"
     ]
    }
   ],
   "source": [
    "numlist=[]\n",
    "fruits=['Apple','Banana','Orange','Kiwi']\n",
    "print(\"fruits list:\",fruits)\n",
    "n=int(input(\"enter size:\"))\n",
    "for i in range(n):\n",
    "    x=int(input(\"enter elements:\"))\n",
    "    numlist.append(x)\n",
    "print(\"number list\",numlist)\n",
    "fruits.append('Grapes')\n",
    "print(\"appended fruits list\",fruits)\n",
    "numlist.insert(3,89)\n",
    "print(\"inserted number list\",numlist)\n",
    "numlist.pop(2)\n",
    "print(\"pop:\",numlist)\n",
    "fruits.remove(\"Grapes\")\n",
    "print(\"removed:\",fruits)\n",
    "print(\"count of occureness of key:\",numlist.count(2))\n",
    "print(\"index of key:\",numlist.index(5))\n",
    "fruits.sort()\n",
    "print(\"sorted\",fruits)\n",
    "numlist.reverse()\n",
    "print(\"reverse of list:\",numlist)\n",
    "numlist.extend(fruits)\n",
    "print(\"extended list:\",numlist)"
   ]
  },
  {
   "cell_type": "code",
   "execution_count": 30,
   "id": "a20fcae0",
   "metadata": {},
   "outputs": [
    {
     "name": "stdout",
     "output_type": "stream",
     "text": [
      "[2, 8, 9, 0]\n",
      "False\n",
      "True\n"
     ]
    }
   ],
   "source": [
    "lst=[2,8,9,0]\n",
    "print(lst)\n",
    "print(all(lst))\n",
    "print(any(lst))"
   ]
  },
  {
   "cell_type": "code",
   "execution_count": 58,
   "id": "1a911029",
   "metadata": {},
   "outputs": [
    {
     "name": "stdout",
     "output_type": "stream",
     "text": [
      "(1, 'ram', 65)\n",
      "(2, 'sam', 45)\n",
      "(3, 'sonam', 50)\n"
     ]
    }
   ],
   "source": [
    "roll=[1,2,3]\n",
    "name=['ram','sam','sonam']\n",
    "marks=[65,45,50]\n",
    "studlist=zip(roll,name,marks)\n",
    "for record in studlist:\n",
    "    print(record)"
   ]
  },
  {
   "cell_type": "code",
   "execution_count": 50,
   "id": "80b0bc2f",
   "metadata": {},
   "outputs": [
    {
     "name": "stdout",
     "output_type": "stream",
     "text": [
      "enter a value:5\n",
      "enter b value:2\n",
      "enter c value:1\n",
      "roots are complex:\n",
      "-5.0 +i 4.0\n",
      "-5.0 -i 4.0\n"
     ]
    }
   ],
   "source": [
    "import math\n",
    "def equationroot(a,b,c):\n",
    "    descriminator=b*b-4*a*c\n",
    "    if descriminator>0:\n",
    "        print(\"roots are real and diferent:\")\n",
    "        root1=(-b+math.sqrt(descriminator))/(2*a)\n",
    "        root2=(-b-math.sqrt(descriminator))/(2*a)\n",
    "        print(\"Root1=\",root1)\n",
    "        print(\"Root2=\",root2)\n",
    "    elif descriminator==0:\n",
    "        print(\"roots are real and same roots:\")\n",
    "        root=-b/2*a\n",
    "        print(\"Root=\",root)\n",
    "    else:\n",
    "        print(\"roots are complex:\")\n",
    "        print(-b/2*a,\"+i\",math.sqrt(abs(descriminator)))\n",
    "        print(-b/2*a,\"-i\",math.sqrt(abs(descriminator)))\n",
    "a=int(input(\"enter a value:\"))\n",
    "b=int(input(\"enter b value:\"))\n",
    "c=int(input(\"enter c value:\"))\n",
    "if a==0:\n",
    "    print(\"input correct quadratic values:\")\n",
    "else:\n",
    "    equationroot(a,b,c)"
   ]
  },
  {
   "cell_type": "code",
   "execution_count": 51,
   "id": "9e4b0b06",
   "metadata": {},
   "outputs": [
    {
     "name": "stdout",
     "output_type": "stream",
     "text": [
      "enter a value:5\n",
      "enter b value:2\n",
      "enter c value:1\n",
      "roots are complex:\n",
      "Root1: -0.2 + 4.0 i\n",
      "Root2: -0.2 - 4.0 i\n"
     ]
    }
   ],
   "source": [
    "import math\n",
    "def equationroot(a,b,c):\n",
    "    descriminator=b*b-4*a*c\n",
    "    if descriminator>0:\n",
    "        squarevalue=math.sqrt(descriminator)\n",
    "        print(\"roots are real and diferent:\")\n",
    "        root1=(-b+squarevalue)/(2*a)\n",
    "        root2=(-b-squarevalue)/(2*a)\n",
    "        print(\"Root1=\",root1)\n",
    "        print(\"Root2=\",root2)\n",
    "    elif descriminator==0:\n",
    "        print(\"roots are real and same roots:\")\n",
    "        root=-b/2*a\n",
    "        print(\"Root=\",root)\n",
    "    else:\n",
    "        squarevalue=math.sqrt(abs(descriminator))\n",
    "        print(\"roots are complex:\")\n",
    "        print(\"Root1:\",-b/(2*a),\"+\",squarevalue,\"i\")\n",
    "        print(\"Root2:\",-b/(2*a),\"-\",squarevalue,\"i\")\n",
    "a=int(input(\"enter a value:\"))\n",
    "b=int(input(\"enter b value:\"))\n",
    "c=int(input(\"enter c value:\"))\n",
    "if a==0:\n",
    "    print(\"input correct quadratic values:\")\n",
    "else:\n",
    "    equationroot(a,b,c)"
   ]
  },
  {
   "cell_type": "code",
   "execution_count": 75,
   "id": "a90ccfb9",
   "metadata": {},
   "outputs": [
    {
     "name": "stdout",
     "output_type": "stream",
     "text": [
      "{'maths': 45, 'science': 67, 'english': 88}\n",
      "45\n",
      "{'maths': 45, 'science': 67, 'english': 88, 'Hindi': 78}\n",
      "{'science': 67, 'english': 88, 'Hindi': 78}\n",
      "67\n",
      "None\n",
      "{'science': 67, 'Hindi': 78}\n",
      "('Hindi', 78)\n"
     ]
    }
   ],
   "source": [
    "studlist={\"maths\":45,\"science\":67,\"english\":88}\n",
    "print(studlist)\n",
    "print(studlist['maths'])\n",
    "studlist['Hindi']=78\n",
    "print(studlist)\n",
    "studlist.pop(\"maths\")\n",
    "print(studlist)\n",
    "print(studlist.get(\"science\"))\n",
    "print(studlist.get(\"python\"))\n",
    "del studlist[\"english\"]\n",
    "print(studlist)\n",
    "print(studlist.popitem())"
   ]
  },
  {
   "cell_type": "code",
   "execution_count": null,
   "id": "5b6e7d7b",
   "metadata": {},
   "outputs": [],
   "source": []
  },
  {
   "cell_type": "code",
   "execution_count": null,
   "id": "c1631ec5",
   "metadata": {},
   "outputs": [],
   "source": []
  }
 ],
 "metadata": {
  "kernelspec": {
   "display_name": "Python 3 (ipykernel)",
   "language": "python",
   "name": "python3"
  },
  "language_info": {
   "codemirror_mode": {
    "name": "ipython",
    "version": 3
   },
   "file_extension": ".py",
   "mimetype": "text/x-python",
   "name": "python",
   "nbconvert_exporter": "python",
   "pygments_lexer": "ipython3",
   "version": "3.10.9"
  }
 },
 "nbformat": 4,
 "nbformat_minor": 5
}
