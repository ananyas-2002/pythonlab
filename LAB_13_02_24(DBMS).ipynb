{
 "cells": [
  {
   "cell_type": "code",
   "execution_count": 2,
   "id": "e188cad3",
   "metadata": {},
   "outputs": [
    {
     "name": "stdout",
     "output_type": "stream",
     "text": [
      "('BEN',)\n"
     ]
    },
    {
     "data": {
      "text/plain": [
       "[(1001, 'ANN', 75000, 'Manager'),\n",
       " (1002, 'BEN', 16000, 'Clerk'),\n",
       " (1003, 'Charles', 12650, 'Saleman'),\n",
       " (1004, 'Sam', 30000, 'Analyst'),\n",
       " (1005, 'Sara', 45000, 'Analyst')]"
      ]
     },
     "execution_count": 2,
     "metadata": {},
     "output_type": "execute_result"
    }
   ],
   "source": [
    "import sqlite3\n",
    "con=sqlite3.connect(\"demo.db\")\n",
    "cur=con.cursor()\n",
    "cur.execute(\"create table employee(Id,Name,Salary,Job)\")\n",
    "cur.execute(\"\"\" insert into employee values(1001,'ANN',75000,'Manager'),(1002,'BEN',16000,'Clerk'),(1003,'Charles',12650,'Saleman'),(1004,'Sam',30000,'Analyst'),(1005,'Sara',45000,'Analyst')\"\"\")\n",
    "con.commit()\n",
    "res=cur.execute(\"select Name from employee\")\n",
    "res.fetchone()\n",
    "print(res.fetchone())\n",
    "res=cur.execute(\"select * from employee\")\n",
    "res.fetchall()"
   ]
  },
  {
   "cell_type": "code",
   "execution_count": 1,
   "id": "46362e67",
   "metadata": {},
   "outputs": [
    {
     "data": {
      "text/plain": [
       "[]"
      ]
     },
     "execution_count": 1,
     "metadata": {},
     "output_type": "execute_result"
    }
   ],
   "source": [
    "import sqlite3\n",
    "con=sqlite3.connect(\"demo.db\")\n",
    "cur=con.cursor()\n",
    "res=cur.execute(\"DROP TABLE employee\")\n",
    "res.fetchall()"
   ]
  },
  {
   "cell_type": "code",
   "execution_count": 5,
   "id": "64a8543f",
   "metadata": {},
   "outputs": [
    {
     "data": {
      "text/plain": [
       "[(1001, 'ANN', 80000, 'Manager'),\n",
       " (1002, 'BEN', 16000, 'Clerk'),\n",
       " (1003, 'Charles', 12650, 'Saleman'),\n",
       " (1004, 'Sam', 30000, 'Analyst'),\n",
       " (1005, 'Sara', 45000, 'Analyst')]"
      ]
     },
     "execution_count": 5,
     "metadata": {},
     "output_type": "execute_result"
    }
   ],
   "source": [
    "res=cur.execute(\"update employee set Salary=80000 where Job='Manager'\")\n",
    "res=cur.execute(\"select * from employee\")\n",
    "res.fetchall()"
   ]
  },
  {
   "cell_type": "code",
   "execution_count": 11,
   "id": "bc69f76b",
   "metadata": {},
   "outputs": [
    {
     "name": "stdout",
     "output_type": "stream",
     "text": [
      "[(1, 'Ann', 'CS'), (2, 'Ben', 'Physics'), (3, 'charles', 'Chemistry'), (4, 'Jhon', 'MBA'), (5, 'Merry', 'Yoga')]\n",
      "   ID     Name     Course\n",
      "0   1      Ann         CS\n",
      "1   2      Ben    Physics\n",
      "2   3  charles  Chemistry\n",
      "3   4     Jhon        MBA\n",
      "4   5    Merry       Yoga\n"
     ]
    }
   ],
   "source": [
    "import sqlite3\n",
    "import pandas as pd\n",
    "\n",
    "conn = sqlite3.connect('abc.db')\n",
    "c = conn.cursor()\n",
    "\n",
    "c.execute('create table stu ( ID, Name, Course)')\n",
    "conn.commit()\n",
    "c.executemany('insert into stu VALUES (?, ?, ?)',\n",
    "    [(1, 'Ann','CS'),\n",
    "     (2, 'Ben','Physics'),\n",
    "     (3, 'Charles','Chemistry'),\n",
    "     (4, 'Jhon','MBA'),\n",
    "     (5, 'Merry','Yoga')])\n",
    "conn.commit()\n",
    "print (list(c.execute('SELECT * FROM stu')))\n",
    "print (pd.read_sql_query('SELECT * FROM stu', conn))"
   ]
  },
  {
   "cell_type": "code",
   "execution_count": 14,
   "id": "2c89859c",
   "metadata": {},
   "outputs": [
    {
     "name": "stdout",
     "output_type": "stream",
     "text": [
      "Opened database successfully\n",
      "Table created successfully\n"
     ]
    }
   ],
   "source": [
    "import sqlite3\n",
    "\n",
    "conn = sqlite3.connect('test.db')\n",
    "print (\"Opened database successfully\")\n",
    "\n",
    "conn.execute('''CREATE TABLE COMPANY\n",
    "         (ID INT PRIMARY KEY     NOT NULL,\n",
    "         NAME           TEXT    NOT NULL,\n",
    "         AGE            INT     NOT NULL,\n",
    "         ADDRESS        CHAR(50),\n",
    "         SALARY         REAL);''')\n",
    "print(\"Table created successfully\")\n",
    "\n",
    "conn.close()"
   ]
  },
  {
   "cell_type": "code",
   "execution_count": 15,
   "id": "99755970",
   "metadata": {},
   "outputs": [
    {
     "name": "stdout",
     "output_type": "stream",
     "text": [
      "Opened database successfully\n",
      "Table created successfully\n"
     ]
    }
   ],
   "source": [
    "import sqlite3\n",
    "\n",
    "conn = sqlite3.connect('test.db')\n",
    "print (\"Opened database successfully\")\n",
    "\n",
    "cursor = conn.execute(\"SELECT id, name, address, salary from COMPANY\")\n",
    "for row in cursor:\n",
    "    print (\"ID = \", row[0])\n",
    "    print (\"NAME = \", row[1])\n",
    "    print (\"ADDRESS = \", row[2])\n",
    "    print (\"SALARY = \", row[3])\n",
    "\n",
    "print(\"Table created successfully\")\n",
    "conn.close()"
   ]
  },
  {
   "cell_type": "code",
   "execution_count": 16,
   "id": "b3309c45",
   "metadata": {},
   "outputs": [
    {
     "name": "stdout",
     "output_type": "stream",
     "text": [
      "Opened database successfully\n",
      "Total number of rows deleted : 0\n",
      "Empty DataFrame\n",
      "Columns: [ID, NAME, AGE, ADDRESS, SALARY]\n",
      "Index: []\n",
      "Operation done successfully\n"
     ]
    }
   ],
   "source": [
    "import sqlite3\n",
    "import pandas as pd\n",
    "conn = sqlite3.connect('test.db')\n",
    "print (\"Opened database successfully\")\n",
    "conn.execute(\"DELETE from COMPANY where ID = 3;\")\n",
    "conn.commit()\n",
    "print (\"Total number of rows deleted :\", conn.total_changes)\n",
    "cursor = conn.execute(\"SELECT id, name, address, salary from COMPANY\")\n",
    "for row in cursor:\n",
    "    print (\"ID = \", row[0])\n",
    "    print (\"NAME = \", row[1])\n",
    "    print (\"ADDRESS = \", row[2])\n",
    "    print (\"SALARY = \", row[3])\n",
    "print (pd.read_sql_query(\"SELECT * FROM COMPANY\", conn))\n",
    "print (\"Operation done successfully\")\n",
    "conn.close()"
   ]
  },
  {
   "cell_type": "code",
   "execution_count": null,
   "id": "9f801046",
   "metadata": {},
   "outputs": [],
   "source": []
  }
 ],
 "metadata": {
  "kernelspec": {
   "display_name": "Python 3 (ipykernel)",
   "language": "python",
   "name": "python3"
  },
  "language_info": {
   "codemirror_mode": {
    "name": "ipython",
    "version": 3
   },
   "file_extension": ".py",
   "mimetype": "text/x-python",
   "name": "python",
   "nbconvert_exporter": "python",
   "pygments_lexer": "ipython3",
   "version": "3.10.9"
  }
 },
 "nbformat": 4,
 "nbformat_minor": 5
}
