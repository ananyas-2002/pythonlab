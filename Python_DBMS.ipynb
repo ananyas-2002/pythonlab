{
  "nbformat": 4,
  "nbformat_minor": 0,
  "metadata": {
    "colab": {
      "provenance": []
    },
    "kernelspec": {
      "name": "python3",
      "display_name": "Python 3"
    },
    "language_info": {
      "name": "python"
    }
  },
  "cells": [
    {
      "cell_type": "code",
      "execution_count": 1,
      "metadata": {
        "id": "pITtQhEfmUrB"
      },
      "outputs": [],
      "source": [
        "import sqlite3"
      ]
    },
    {
      "cell_type": "code",
      "source": [
        "con = sqlite3.connect(\"tutorial.db\")"
      ],
      "metadata": {
        "id": "tioT3wXRmidB"
      },
      "execution_count": 2,
      "outputs": []
    },
    {
      "cell_type": "code",
      "source": [
        "cur = con.cursor()"
      ],
      "metadata": {
        "id": "b0rtGXoKmlVC"
      },
      "execution_count": 3,
      "outputs": []
    },
    {
      "cell_type": "code",
      "source": [
        "cur.execute(\"CREATE TABLE movie(title, year, score)\")"
      ],
      "metadata": {
        "colab": {
          "base_uri": "https://localhost:8080/"
        },
        "id": "uBwGfhewmoe_",
        "outputId": "a56990ae-d1b0-4d90-855c-8367c3463218"
      },
      "execution_count": 4,
      "outputs": [
        {
          "output_type": "execute_result",
          "data": {
            "text/plain": [
              "<sqlite3.Cursor at 0x7f479338d6c0>"
            ]
          },
          "metadata": {},
          "execution_count": 4
        }
      ]
    },
    {
      "cell_type": "code",
      "source": [
        "print(cur.execute(\"SELECT * from movie\"))"
      ],
      "metadata": {
        "colab": {
          "base_uri": "https://localhost:8080/"
        },
        "id": "Acny5TZa1jfM",
        "outputId": "4626d568-1207-48f6-fbae-f46c420426e4"
      },
      "execution_count": 7,
      "outputs": [
        {
          "output_type": "stream",
          "name": "stdout",
          "text": [
            "<sqlite3.Cursor object at 0x7f479338d6c0>\n"
          ]
        }
      ]
    },
    {
      "cell_type": "code",
      "source": [
        "res = cur.execute(\"SELECT name FROM sqlite_master\")"
      ],
      "metadata": {
        "id": "0snL8gwymyi-"
      },
      "execution_count": 10,
      "outputs": []
    },
    {
      "cell_type": "code",
      "source": [
        "res.fetchone()"
      ],
      "metadata": {
        "colab": {
          "base_uri": "https://localhost:8080/"
        },
        "id": "kxCbjwWEm1Fm",
        "outputId": "f86bf7f6-5c38-45ae-cbca-7f62fccd75cf"
      },
      "execution_count": 11,
      "outputs": [
        {
          "output_type": "execute_result",
          "data": {
            "text/plain": [
              "('movie',)"
            ]
          },
          "metadata": {},
          "execution_count": 11
        }
      ]
    },
    {
      "cell_type": "code",
      "source": [
        "cur.execute(\"\"\"\n",
        "    INSERT INTO movie VALUES\n",
        "        ('Monty Python and the Holy Grail', 1975, 8.2),\n",
        "        ('And Now for Something Completely Different', 1971, 7.5)\n",
        "\"\"\")"
      ],
      "metadata": {
        "colab": {
          "base_uri": "https://localhost:8080/"
        },
        "id": "ZfAFRvkim4UH",
        "outputId": "1857eb1a-5a7f-4426-e3f4-48c22aeffbd3"
      },
      "execution_count": 12,
      "outputs": [
        {
          "output_type": "execute_result",
          "data": {
            "text/plain": [
              "<sqlite3.Cursor at 0x7f479338d6c0>"
            ]
          },
          "metadata": {},
          "execution_count": 12
        }
      ]
    },
    {
      "cell_type": "code",
      "source": [
        "con.commit()"
      ],
      "metadata": {
        "id": "d0lIZ9Z1m_ie"
      },
      "execution_count": 13,
      "outputs": []
    },
    {
      "cell_type": "code",
      "source": [
        "res = cur.execute(\"SELECT  title, year FROM movie\")"
      ],
      "metadata": {
        "id": "LWOdT9vAnGJn"
      },
      "execution_count": 17,
      "outputs": []
    },
    {
      "cell_type": "code",
      "source": [
        "res.fetchall()"
      ],
      "metadata": {
        "colab": {
          "base_uri": "https://localhost:8080/"
        },
        "id": "CCguWlWInIYL",
        "outputId": "e733716a-6c21-4d71-85d1-6d3e4c7cfd27"
      },
      "execution_count": 18,
      "outputs": [
        {
          "output_type": "execute_result",
          "data": {
            "text/plain": [
              "[('Monty Python and the Holy Grail', 1975),\n",
              " ('And Now for Something Completely Different', 1971)]"
            ]
          },
          "metadata": {},
          "execution_count": 18
        }
      ]
    },
    {
      "cell_type": "code",
      "source": [
        "data = [\n",
        "    (\"Monty Python Live at the Hollywood Bowl\", 1982, 7.9),\n",
        "    (\"Monty Python's The Meaning of Life\", 1983, 7.5),\n",
        "    (\"Monty Python's Life of Brian\", 1979, 8.0),\n",
        "]\n",
        "cur.executemany(\"INSERT INTO movie VALUES(?, ?, ?)\", data)\n",
        "con.commit()  # Remember to commit the transaction after executing INSERT."
      ],
      "metadata": {
        "id": "jl7hLCHfnrbP"
      },
      "execution_count": 19,
      "outputs": []
    },
    {
      "cell_type": "code",
      "source": [
        "for row in cur.execute(\"SELECT year, title FROM movie ORDER BY year\"):\n",
        "    print(row)"
      ],
      "metadata": {
        "colab": {
          "base_uri": "https://localhost:8080/"
        },
        "id": "8TBOqbvUnxO2",
        "outputId": "ffa3d2aa-7902-4c6e-dab5-4e6bd29745ef"
      },
      "execution_count": 20,
      "outputs": [
        {
          "output_type": "stream",
          "name": "stdout",
          "text": [
            "(1971, 'And Now for Something Completely Different')\n",
            "(1975, 'Monty Python and the Holy Grail')\n",
            "(1979, \"Monty Python's Life of Brian\")\n",
            "(1982, 'Monty Python Live at the Hollywood Bowl')\n",
            "(1983, \"Monty Python's The Meaning of Life\")\n"
          ]
        }
      ]
    }
  ]
}