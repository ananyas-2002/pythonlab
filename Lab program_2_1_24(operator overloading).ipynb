{
 "cells": [
  {
   "cell_type": "code",
   "execution_count": 9,
   "id": "345a1c38",
   "metadata": {
    "scrolled": true
   },
   "outputs": [
    {
     "name": "stdout",
     "output_type": "stream",
     "text": [
      "8\n",
      "WelcomeOoty\n"
     ]
    }
   ],
   "source": [
    "class example:\n",
    "    def __init__(self,a):\n",
    "        self.a=a\n",
    "    #adding two objects\n",
    "    def __add__(self,obj):\n",
    "         return self.a+obj.a\n",
    "ob1=example(5)\n",
    "ob2=example(3)\n",
    "ob3=example(\"Welcome\")\n",
    "ob4=example(\"Ooty\")\n",
    "print(ob1+ob2)\n",
    "print(ob3+ob4)"
   ]
  },
  {
   "cell_type": "code",
   "execution_count": 11,
   "id": "3e20603d",
   "metadata": {
    "scrolled": true
   },
   "outputs": [
    {
     "name": "stdout",
     "output_type": "stream",
     "text": [
      "16\n",
      "Hi!Hi!Hi!Hi!Hi!\n"
     ]
    }
   ],
   "source": [
    "class overload:\n",
    "    def __init__(self,a):\n",
    "        self.a=a\n",
    "    def __mul__(self,value):\n",
    "        return self.a*value\n",
    "ob=overload(8)\n",
    "ob2=overload(\"Hi!\")\n",
    "print(ob*2)\n",
    "print(ob2*5)"
   ]
  },
  {
   "cell_type": "code",
   "execution_count": 15,
   "id": "28847c25",
   "metadata": {
    "scrolled": false
   },
   "outputs": [
    {
     "name": "stdout",
     "output_type": "stream",
     "text": [
      "(4, 6)\n"
     ]
    }
   ],
   "source": [
    "class data:\n",
    "    def __init__(self,a,b):\n",
    "        self.a=a\n",
    "        self.b=b\n",
    "    def __add__(self,obj1):\n",
    "        return self.a+obj1.a,self.b+obj1.b\n",
    "ob1=data(1,2)\n",
    "ob2=data(3,4)\n",
    "print(ob1+ob2)"
   ]
  },
  {
   "cell_type": "code",
   "execution_count": 17,
   "id": "5bf6b9c6",
   "metadata": {
    "scrolled": false
   },
   "outputs": [
    {
     "name": "stdout",
     "output_type": "stream",
     "text": [
      "Enter number:5\n",
      "Enter number:2\n",
      "Enter String:Hello\n",
      "Enter String:World\n",
      "7\n",
      "HelloWorld\n"
     ]
    }
   ],
   "source": [
    "class example:\n",
    "    def __init__(self,a):\n",
    "        self.a=a\n",
    "    #adding two objects\n",
    "    def __add__(self,obj):\n",
    "         return self.a+obj.a\n",
    "ob1=int(input(\"Enter number:\"))\n",
    "ob2=int(input(\"Enter number:\"))\n",
    "ob3=input(\"Enter String:\")\n",
    "ob4=input(\"Enter String:\")\n",
    "print(ob1+ob2)\n",
    "print(ob3+ob4)"
   ]
  },
  {
   "cell_type": "code",
   "execution_count": 31,
   "id": "7bc94f8e",
   "metadata": {},
   "outputs": [
    {
     "name": "stdout",
     "output_type": "stream",
     "text": [
      "Less than value*\n",
      "Both are equal*\n"
     ]
    }
   ],
   "source": [
    "class example:\n",
    "    def __init__(self,a):\n",
    "        self.a=a\n",
    "    #adding two objects\n",
    "    def __lt__(self,obj):\n",
    "        if self.a<obj.a:\n",
    "            return(\"Less than value*\")\n",
    "    def __eq__(self,obj):\n",
    "        if self.a==obj.a:\n",
    "            return(\"Both are equal*\")\n",
    "ob1=example(3)\n",
    "ob2=example(5)\n",
    "print(ob1<ob2)\n",
    "ob3=example(4)\n",
    "ob4=example(4)\n",
    "print(ob3==ob4)"
   ]
  },
  {
   "cell_type": "code",
   "execution_count": null,
   "id": "271bf0f7",
   "metadata": {},
   "outputs": [],
   "source": []
  }
 ],
 "metadata": {
  "kernelspec": {
   "display_name": "Python 3 (ipykernel)",
   "language": "python",
   "name": "python3"
  },
  "language_info": {
   "codemirror_mode": {
    "name": "ipython",
    "version": 3
   },
   "file_extension": ".py",
   "mimetype": "text/x-python",
   "name": "python",
   "nbconvert_exporter": "python",
   "pygments_lexer": "ipython3",
   "version": "3.10.9"
  }
 },
 "nbformat": 4,
 "nbformat_minor": 5
}
