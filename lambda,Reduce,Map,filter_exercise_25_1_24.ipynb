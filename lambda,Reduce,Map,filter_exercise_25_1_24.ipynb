{
 "cells": [
  {
   "cell_type": "code",
   "execution_count": 1,
   "id": "816c8b06",
   "metadata": {},
   "outputs": [
    {
     "data": {
      "text/plain": [
       "16"
      ]
     },
     "execution_count": 1,
     "metadata": {},
     "output_type": "execute_result"
    }
   ],
   "source": [
    "square_fun=lambda x:x**2\n",
    "square_fun(4)"
   ]
  },
  {
   "cell_type": "code",
   "execution_count": 2,
   "id": "b6dd276a",
   "metadata": {},
   "outputs": [
    {
     "name": "stdout",
     "output_type": "stream",
     "text": [
      "[1, 4, 7, 2, 8, 10]\n"
     ]
    }
   ],
   "source": [
    "nums=[0,1,4,7,2,8,10]\n",
    "nums=list(filter(lambda x:x!=0,nums))\n",
    "print(nums)"
   ]
  },
  {
   "cell_type": "code",
   "execution_count": 3,
   "id": "ff481b5e",
   "metadata": {},
   "outputs": [
    {
     "name": "stdout",
     "output_type": "stream",
     "text": [
      "[0, 1, 4, 2, 2, 3, 0]\n"
     ]
    }
   ],
   "source": [
    "nums=[0,1,4,7,2,8,10]\n",
    "nums=list(map(lambda x:x%5,nums))\n",
    "print(nums)"
   ]
  },
  {
   "cell_type": "code",
   "execution_count": 12,
   "id": "ce4f79b3",
   "metadata": {},
   "outputs": [
    {
     "name": "stdout",
     "output_type": "stream",
     "text": [
      "[3.7416573867739413, 9.1104335791443, 4.47213595499958, 13.45362404707371]\n"
     ]
    }
   ],
   "source": [
    "from math import sqrt\n",
    "points=[(2,1,3),(5,7,-3),(2,4,0),(9,6,8)]\n",
    "def distance(point):\n",
    "    x,y,z=point\n",
    "    return sqrt(x**2+y**2+z**2)\n",
    "distances=list(map(distance,points))\n",
    "print(distances)"
   ]
  },
  {
   "cell_type": "code",
   "execution_count": 11,
   "id": "8836474a",
   "metadata": {},
   "outputs": [
    {
     "name": "stdout",
     "output_type": "stream",
     "text": [
      "[(((((((1, 2), 3), 4), 5), 6), 7), 8), 9]\n"
     ]
    }
   ],
   "source": [
    "from functools import reduce\n",
    "nums=[1,2,3,4,5,6,7,8,9]\n",
    "nums=list(reduce(lambda x,y:(x,y),nums))\n",
    "print(nums)"
   ]
  },
  {
   "cell_type": "code",
   "execution_count": 28,
   "id": "c6f0907b",
   "metadata": {},
   "outputs": [
    {
     "ename": "TypeError",
     "evalue": "unsupported operand type(s) for /: 'list' and 'int'",
     "output_type": "error",
     "traceback": [
      "\u001b[1;31m---------------------------------------------------------------------------\u001b[0m",
      "\u001b[1;31mTypeError\u001b[0m                                 Traceback (most recent call last)",
      "Cell \u001b[1;32mIn[28], line 4\u001b[0m\n\u001b[0;32m      2\u001b[0m \u001b[38;5;28;01mfrom\u001b[39;00m \u001b[38;5;21;01mfunctools\u001b[39;00m \u001b[38;5;28;01mimport\u001b[39;00m reduce\n\u001b[0;32m      3\u001b[0m nums\u001b[38;5;241m=\u001b[39m[\u001b[38;5;241m92\u001b[39m,\u001b[38;5;241m27\u001b[39m,\u001b[38;5;241m63\u001b[39m,\u001b[38;5;241m43\u001b[39m,\u001b[38;5;241m88\u001b[39m,\u001b[38;5;241m8\u001b[39m,\u001b[38;5;241m38\u001b[39m,\u001b[38;5;241m91\u001b[39m,\u001b[38;5;241m47\u001b[39m,\u001b[38;5;241m74\u001b[39m,\u001b[38;5;241m18\u001b[39m,\u001b[38;5;241m16\u001b[39m,\u001b[38;5;241m29\u001b[39m,\u001b[38;5;241m60\u001b[39m,\u001b[38;5;241m27\u001b[39m,\u001b[38;5;241m62\u001b[39m,\u001b[38;5;241m59\u001b[39m,\u001b[38;5;241m86\u001b[39m,\u001b[38;5;241m56\u001b[39m]\n\u001b[1;32m----> 4\u001b[0m sum_1\u001b[38;5;241m=\u001b[39mreduce(\u001b[38;5;28;01mlambda\u001b[39;00m x,y:x\u001b[38;5;241m+\u001b[39my,\u001b[43mnums\u001b[49m\u001b[38;5;241;43m/\u001b[39;49m\u001b[38;5;28;43mlen\u001b[39;49m\u001b[43m(\u001b[49m\u001b[43mnums\u001b[49m\u001b[43m)\u001b[49m)\n\u001b[0;32m      5\u001b[0m \u001b[38;5;28mprint\u001b[39m(sum_1)\n",
      "\u001b[1;31mTypeError\u001b[0m: unsupported operand type(s) for /: 'list' and 'int'"
     ]
    }
   ],
   "source": [
    "#Error program for lambda\n",
    "from functools import reduce\n",
    "nums=[92,27,63,43,88,8,38,91,47,74,18,16,29,60,27,62,59,86,56]\n",
    "sum_1=reduce(lambda x,y:x+y,nums/len(nums))\n",
    "print(sum_1)"
   ]
  },
  {
   "cell_type": "code",
   "execution_count": 29,
   "id": "72a54614",
   "metadata": {},
   "outputs": [
    {
     "name": "stdout",
     "output_type": "stream",
     "text": [
      "51.78947368421053\n"
     ]
    }
   ],
   "source": [
    "#solution for the error\n",
    "from functools import reduce\n",
    "nums=[92,27,63,43,88,8,38,91,47,74,18,16,29,60,27,62,59,86,56]\n",
    "sum_1=reduce(lambda x,y:x+y,nums)/len(nums)\n",
    "print(sum_1)"
   ]
  },
  {
   "cell_type": "code",
   "execution_count": null,
   "id": "cf8673c8",
   "metadata": {},
   "outputs": [],
   "source": []
  }
 ],
 "metadata": {
  "kernelspec": {
   "display_name": "Python 3 (ipykernel)",
   "language": "python",
   "name": "python3"
  },
  "language_info": {
   "codemirror_mode": {
    "name": "ipython",
    "version": 3
   },
   "file_extension": ".py",
   "mimetype": "text/x-python",
   "name": "python",
   "nbconvert_exporter": "python",
   "pygments_lexer": "ipython3",
   "version": "3.10.9"
  }
 },
 "nbformat": 4,
 "nbformat_minor": 5
}
