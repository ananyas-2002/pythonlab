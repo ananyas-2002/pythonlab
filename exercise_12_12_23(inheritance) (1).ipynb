{
 "cells": [
  {
   "cell_type": "code",
   "execution_count": 1,
   "id": "97af3904",
   "metadata": {},
   "outputs": [
    {
     "name": "stdout",
     "output_type": "stream",
     "text": [
      "Namechild: Jhon\n",
      "course: python\n",
      "Name: Dany\n",
      "Age: 56\n"
     ]
    }
   ],
   "source": [
    "class parent():\n",
    "    def __init__(self,fname,age):\n",
    "        self.fname=fname\n",
    "        self.age=age\n",
    "    def display(self):\n",
    "        print(\"Name:\",self.fname)\n",
    "        print(\"Age:\",self.age)\n",
    "class child(parent):\n",
    "    def __init__(self,fname,age,name,course):\n",
    "        self.name=name\n",
    "        self.course=course\n",
    "        super().__init__(fname,age)\n",
    "    def show(self):\n",
    "        print(\"Namechild:\",self.name)\n",
    "        print(\"course:\",self.course)\n",
    "        super().display()\n",
    "obj=child(\"Dany\",56,\"Jhon\",\"python\")\n",
    "#obj.display()\n",
    "obj.show()"
   ]
  },
  {
   "cell_type": "code",
   "execution_count": 15,
   "id": "ba4017a3",
   "metadata": {},
   "outputs": [
    {
     "name": "stdout",
     "output_type": "stream",
     "text": [
      "Name: Dany\n",
      "Age: 56\n",
      "Namechild: Jhon\n",
      "course: python\n",
      "Name: Dany\n",
      "Age: 56\n"
     ]
    }
   ],
   "source": [
    "class parent():\n",
    "    def __init__(self,fname,age):\n",
    "        self.fname=fname\n",
    "        self.age=age\n",
    "    def display(self):\n",
    "        print(\"Name:\",self.fname)\n",
    "        print(\"Age:\",self.age)\n",
    "class child(parent):\n",
    "    def __init__(self,fname,age,name,course):\n",
    "        self.name=name\n",
    "        self.course=course\n",
    "        parent.__init__(self,fname,age)\n",
    "    def show(self):\n",
    "        print(\"Namechild:\",self.name)\n",
    "        print(\"course:\",self.course)\n",
    "        parent.display(self)\n",
    "obj=child(\"Dany\",56,\"Jhon\",\"python\")\n",
    "obj.display()\n",
    "obj.show()"
   ]
  },
  {
   "cell_type": "code",
   "execution_count": 21,
   "id": "918b7e5e",
   "metadata": {},
   "outputs": [
    {
     "name": "stdout",
     "output_type": "stream",
     "text": [
      "balance: 2000\n",
      "After witdrawal balance: 1500\n",
      "balance: 21000\n",
      "After witdrawal balance: 20500\n"
     ]
    }
   ],
   "source": [
    "\n",
    "class BankAccount(object):\n",
    "    defaultAccNumber = 1        # Class Attribute\n",
    "\n",
    "    def __init__(self, name, balance = 0):\n",
    "        self.name = name\n",
    "        self.balance = balance\n",
    "        self.accountNumber = BankAccount.defaultAccNumber\n",
    "        BankAccount.defaultAccNumber = BankAccount.defaultAccNumber + 1\n",
    "\n",
    "    def deposit(self, amount):\n",
    "        self.balance += amount\n",
    "\n",
    "    def withdraw(self, amount):\n",
    "        if self.balance < amount:\n",
    "            print('Not enough balance!')\n",
    "        else:\n",
    "            self.balance -= amount\n",
    "\n",
    "    def getBalance(self):\n",
    "        return self.balance\n",
    "\n",
    "if __name__ == '__main__':\n",
    "    myObj = BankAccount('Omkar', 1000)\n",
    "    myObj1 = BankAccount('Girish', 20000)\n",
    "    myObj.deposit(1000)\n",
    "    print(\"balance:\",myObj.getBalance())\n",
    "    myObj.withdraw(500)\n",
    "    print(\"After witdrawal balance:\",myObj.getBalance())\n",
    "    \n",
    "    myObj1.deposit(1000)\n",
    "    print(\"balance:\",myObj1.getBalance())\n",
    "    myObj1.withdraw(500)\n",
    "    print(\"After witdrawal balance:\",myObj1.getBalance())"
   ]
  },
  {
   "cell_type": "code",
   "execution_count": 25,
   "id": "877235ef",
   "metadata": {},
   "outputs": [
    {
     "name": "stdout",
     "output_type": "stream",
     "text": [
      "amount deposited: 20000\n",
      "withdrawed amount: 1000\n",
      "balance is: 29000\n"
     ]
    }
   ],
   "source": [
    "class bankaccount():\n",
    "    acctno=1\n",
    "    def __init__(self,name,balance=0):\n",
    "        self.name=name\n",
    "        self.balance=balance\n",
    "        self.accountnumber=bankaccount.acctno\n",
    "        bankaccount.acctno+=1\n",
    "    def deposit(self,amount):\n",
    "        self.balance+=amount\n",
    "        print(\"amount deposited:\",amount)\n",
    "    def withdrawal(self,amount):\n",
    "        if self.balance>amount:\n",
    "            self.balance-=amount\n",
    "            print(\"withdrawed amount:\",amount)\n",
    "        else:\n",
    "            print(\"insufficient balance*\")\n",
    "    def display(self):\n",
    "        print(\"balance is:\",self.balance)\n",
    "obj=bankaccount(\"John\",10000)\n",
    "obj.deposit(20000)\n",
    "obj.withdrawal(1000)\n",
    "obj.display()"
   ]
  },
  {
   "cell_type": "code",
   "execution_count": 13,
   "id": "76e985e2",
   "metadata": {},
   "outputs": [
    {
     "name": "stdout",
     "output_type": "stream",
     "text": [
      "enter name of student:ghjj\n",
      "enter register number:0986\n",
      "enter course:jkj\n",
      "enter mark:95\n",
      "enter mark:96\n",
      "enter mark:97\n",
      "enter mark:98\n",
      "enter mark:99\n",
      "*************Student details**********************\n",
      "-----------------------------------------------------------------------------------------------------------------------\n",
      "Name:\t\tRegNo:\t\tCourse:\t\tMarks 1\t\tMarks 2\t\tMarks 3\t\tMarks 4\t\tMarks 5\t\t-----------------------------------------------------------------------------------------------------------------------\n",
      "nsc\t\t43445\t\tggfg\t\t67\t\t98\t\t565\t\t90\t\t95\t\t-----------------------------------------------------------------------------------------------------------------------\n",
      "Total mark: 485\n",
      "Average mark= 97.0\n",
      "A grade\n",
      "enter name of student:nbjhg\n",
      "enter register number:9001\n",
      "enter course:ghh\n",
      "enter mark:94\n",
      "enter mark:90\n",
      "enter mark:92\n",
      "enter mark:98\n",
      "enter mark:94\n",
      "*************Student details**********************\n",
      "-----------------------------------------------------------------------------------------------------------------------\n",
      "Name:\t\tRegNo:\t\tCourse:\t\tMarks 1\t\tMarks 2\t\tMarks 3\t\tMarks 4\t\tMarks 5\t\t-----------------------------------------------------------------------------------------------------------------------\n",
      "nsc\t\t43445\t\tggfg\t\t67\t\t98\t\t565\t\t90\t\t95\t\t-----------------------------------------------------------------------------------------------------------------------\n",
      "Total mark: 468\n",
      "Average mark= 93.6\n",
      "A grade\n"
     ]
    }
   ],
   "source": [
    "for i in range(2):\n",
    "    class student:\n",
    "        def __init__(self,name,registernumber,course,marks):\n",
    "            self.name=name\n",
    "            self.registernumber=registernumber\n",
    "            self.course=course\n",
    "            self.marks=marks\n",
    "        def showStudentdetails(self):\n",
    "            print(\"-----------------------------------------------------------------------------------------------------------------------\")\n",
    "            print(\"Name:\",end=\"\\t\\t\")\n",
    "            print(\"RegNo:\",end=\"\\t\\t\")\n",
    "            print(\"Course:\",end=\"\\t\\t\")\n",
    "            for i in range(1,len(marks)+1):\n",
    "                print(\"Marks\",i,end=\"\\t\\t\")\n",
    "            print(\"-----------------------------------------------------------------------------------------------------------------------\")\n",
    "            print(self.name,end=\"\\t\\t\")\n",
    "            print(self.registernumber,end=\"\\t\\t\")\n",
    "            print(self.course,end=\"\\t\\t\")\n",
    "            for i in range(len(marks)):\n",
    "                print(self.marks[i],end=\"\\t\\t\")\n",
    "            print(\"-----------------------------------------------------------------------------------------------------------------------\")\n",
    "        def Total(self):\n",
    "            print(\"Total mark:\",sum(marks))\n",
    "        def Average(self):\n",
    "            total=sum(marks)\n",
    "            average=total/5\n",
    "            print(\"Average mark=\",average)\n",
    "        def grade(self):\n",
    "            average=sum(marks)/5\n",
    "            if average>=80 and average<=100:\n",
    "                print(\"A grade\")\n",
    "            elif average>=50 and average<=70:\n",
    "                print(\"B grade\")\n",
    "            elif average>=30 and average<=60:\n",
    "                   print(\"C grade\")\n",
    "            elif average>=10 and average<=20:\n",
    "                print(\"E grade\")\n",
    "            else:\n",
    "                print(\"Failed\")\n",
    "# name=[]\n",
    "# regnumber=[]\n",
    "# course=[]\n",
    "# for i in range(2):\n",
    "    name.append(input(\"enter name of student:\"))\n",
    "    regnumber.append(int(input(\"enter register number:\")))\n",
    "    course.append(input(\"enter course:\"))\n",
    "    marks=[]\n",
    "    for i in range(5):\n",
    "        marks.append(int(input(\"enter mark:\")))\n",
    "    st1=student(name,regnumber,course,marks)\n",
    "# st2=student(name[1],regnumber[1],course[1],marks[1])\n",
    "    print(\"*************Student details**********************\")\n",
    "    st.showStudentdetails()\n",
    "    st.Total()\n",
    "    st.Average()\n",
    "    st.grade()"
   ]
  },
  {
   "cell_type": "markdown",
   "id": "3f10ef42",
   "metadata": {},
   "source": [
    " "
   ]
  },
  {
   "cell_type": "code",
   "execution_count": null,
   "id": "42faafe7",
   "metadata": {},
   "outputs": [],
   "source": []
  }
 ],
 "metadata": {
  "kernelspec": {
   "display_name": "Python 3 (ipykernel)",
   "language": "python",
   "name": "python3"
  },
  "language_info": {
   "codemirror_mode": {
    "name": "ipython",
    "version": 3
   },
   "file_extension": ".py",
   "mimetype": "text/x-python",
   "name": "python",
   "nbconvert_exporter": "python",
   "pygments_lexer": "ipython3",
   "version": "3.10.9"
  }
 },
 "nbformat": 4,
 "nbformat_minor": 5
}
