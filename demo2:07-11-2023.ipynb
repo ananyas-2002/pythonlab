{
  "cells": [
    {
      "cell_type": "markdown",
      "metadata": {
        "id": "view-in-github",
        "colab_type": "text"
      },
      "source": [
        "<a href=\"https://colab.research.google.com/github/ananyas-2002/pythonlab/blob/main/demo2%3A07-11-2023.ipynb\" target=\"_parent\"><img src=\"https://colab.research.google.com/assets/colab-badge.svg\" alt=\"Open In Colab\"/></a>"
      ]
    },
    {
      "cell_type": "code",
      "execution_count": null,
      "id": "c9bbac91",
      "metadata": {
        "id": "c9bbac91",
        "outputId": "53d441db-490c-466d-a4df-eb55dfbe64a9"
      },
      "outputs": [
        {
          "name": "stdout",
          "output_type": "stream",
          "text": [
            "[2, 4, 6, 8, 10, 2, 6, 4, 8]\n"
          ]
        }
      ],
      "source": [
        "n=[2,4,6,8,10,2,6,4,8]\n",
        "print(n)\n",
        ""
      ]
    },
    {
      "cell_type": "code",
      "execution_count": null,
      "id": "2b9b7b97",
      "metadata": {
        "id": "2b9b7b97",
        "outputId": "e1475faf-80e1-4955-bbff-2aa72f8a8294"
      },
      "outputs": [
        {
          "name": "stdout",
          "output_type": "stream",
          "text": [
            "enter number separated by comma:2,4,6,8,10,12,2,4,6,8,14,16\n",
            "LIST: [2, 4, 6, 8, 10, 12, 2, 4, 6, 8, 14, 16]\n",
            "new list= [2, 4, 6, 8, 10, 12, 14, 16]\n"
          ]
        }
      ],
      "source": [
        "n=input(\"enter number separated by comma:\")\n",
        "t=list(map(int,n.split(',')))\n",
        "print(\"LIST:\",t)\n",
        "new_list=[]\n",
        "for item in t:\n",
        "    if item not in new_list:\n",
        "        new_list.append(item)\n",
        "print(\"new list=\",new_list)\n",
        ""
      ]
    },
    {
      "cell_type": "code",
      "execution_count": null,
      "id": "abd01184",
      "metadata": {
        "id": "abd01184",
        "outputId": "4daf508d-70ac-4ee1-e8c5-d03a5653f98f"
      },
      "outputs": [
        {
          "name": "stdout",
          "output_type": "stream",
          "text": [
            "enter a strig:helloworld\n",
            "string= helloworld\n",
            "sliced string= hello\n",
            "sliced 2nd string= low\n",
            "value of string= l\n"
          ]
        }
      ],
      "source": [
        "n=input(\"enter a strig:\")\n",
        "print(\"string=\",n)\n",
        "slice1=n[0:5]\n",
        "slice2=n[3:6]\n",
        "index1=n[3]\n",
        "print(\"sliced string=\",slice1)\n",
        "print(\"sliced 2nd string=\",slice2)\n",
        "print(\"value of string=\",index1)"
      ]
    },
    {
      "cell_type": "code",
      "execution_count": null,
      "id": "34a2e7e8",
      "metadata": {
        "id": "34a2e7e8",
        "outputId": "3bffafd3-938c-4c06-cc16-e97187143f60"
      },
      "outputs": [
        {
          "name": "stdout",
          "output_type": "stream",
          "text": [
            "enter number:10\n",
            "enter element to the list:2\n",
            "enter element to the list:9\n",
            "enter element to the list:-2\n",
            "enter element to the list:-9\n",
            "enter element to the list:18\n",
            "enter element to the list:87\n",
            "enter element to the list:65\n",
            "enter element to the list:-1\n",
            "enter element to the list:99\n",
            "enter element to the list:3\n",
            "mylist= [2, 9, -2, -9, 18, 87, 65, -1, 99, 3]\n",
            "positive list= [2, 9, 18, 87, 65, 99, 3]\n",
            "negative list= [-2, -9, -1]\n"
          ]
        }
      ],
      "source": [
        "n=int(input(\"enter number:\"))\n",
        "mylist=[]\n",
        "for i in range(n):\n",
        "    element=int(input(\"enter element to the list:\"))\n",
        "    mylist.append(element)\n",
        "print(\"mylist=\",mylist)\n",
        "p_lst=[]\n",
        "n_lst=[]\n",
        "for value in mylist:\n",
        "    if value>=0:\n",
        "        p_lst.append(value)\n",
        "    else:\n",
        "        n_lst.append(value)\n",
        "print(\"positive list=\",p_lst)\n",
        "print(\"negative list=\",n_lst)"
      ]
    },
    {
      "cell_type": "code",
      "execution_count": null,
      "id": "7ba3b030",
      "metadata": {
        "id": "7ba3b030",
        "outputId": "0816d47a-52cc-4091-daab-ce0418ceb812"
      },
      "outputs": [
        {
          "name": "stdout",
          "output_type": "stream",
          "text": [
            "[0, 48, 2, 1, 19, 35, 46, 57, 40]\n",
            " zero is neither odd nor even\n",
            "even list= [48, 2, 46, 40]\n",
            "odd list= [1, 19, 35, 57]\n"
          ]
        }
      ],
      "source": [
        "n=[0,48,2,1,19,35,46,57,40]\n",
        "print(n)\n",
        "oddlist=[]\n",
        "evenlist=[]\n",
        "for item in n:\n",
        "    if item==0:\n",
        "        print(\" zero is neither odd nor even\")\n",
        "    elif item%2==0:\n",
        "        evenlist.append(item)\n",
        "    else:\n",
        "        oddlist.append(item)\n",
        "print(\"even list=\",evenlist)\n",
        "print(\"odd list=\",oddlist)"
      ]
    },
    {
      "cell_type": "code",
      "execution_count": null,
      "id": "6cad5a0d",
      "metadata": {
        "id": "6cad5a0d",
        "outputId": "df2480e0-2a71-4f08-b917-26701981716e"
      },
      "outputs": [
        {
          "name": "stdout",
          "output_type": "stream",
          "text": [
            "enter number:5\n",
            "enter element:2\n",
            "enter element:6\n",
            "enter element:9\n",
            "enter element:23\n",
            "enter element:18\n",
            "TUPLE= (2, 6, 9, 23, 18)\n"
          ]
        }
      ],
      "source": [
        "lst=[]\n",
        "mytuple=()\n",
        "n=int(input(\"enter number:\"))\n",
        "for i in range(0,n):\n",
        "    lst.append(int(input(\"enter element:\")))\n",
        "mytuple=tuple(lst)\n",
        "print(\"TUPLE=\",mytuple)"
      ]
    },
    {
      "cell_type": "code",
      "execution_count": null,
      "id": "97f7d13a",
      "metadata": {
        "id": "97f7d13a",
        "outputId": "4614f224-387e-49da-90ea-86e105e335bf"
      },
      "outputs": [
        {
          "name": "stdout",
          "output_type": "stream",
          "text": [
            "tuple= (2, 8, 12, 17, 56, 45)\n",
            "slice1 the tuple= (12, 17)\n",
            "slice2 the tuple= (2, 8, 12)\n"
          ]
        }
      ],
      "source": [
        "t=(2,8,12,17,56,45)\n",
        "print(\"tuple=\",t)\n",
        "print(\"slice1 the tuple=\",t[2:4])\n",
        "print(\"slice2 the tuple=\",t[:3])"
      ]
    },
    {
      "cell_type": "code",
      "execution_count": null,
      "id": "9bb8ba6e",
      "metadata": {
        "id": "9bb8ba6e",
        "outputId": "e2bb06fe-1fd5-4e58-c937-57947d80d03f"
      },
      "outputs": [
        {
          "name": "stdout",
          "output_type": "stream",
          "text": [
            "mydict= {2: 'hi', 3: 'hello', 5: 'welcome'}\n",
            "************************************************\n",
            "key= 2\n",
            "value= hi\n",
            "************************************************\n",
            "key= 3\n",
            "value= hello\n",
            "************************************************\n",
            "key= 5\n",
            "value= welcome\n",
            "************************************************\n",
            "{2: 'hi', 3: 'hello', 5: 'welcome', 8: 'helloworld'}\n",
            "{2: 'hi', 5: 'welcome', 8: 'helloworld'}\n",
            "dict_keys([2, 5, 8])\n",
            "dict_values(['hi', 'welcome', 'helloworld'])\n"
          ]
        }
      ],
      "source": [
        "dict={2:\"hi\",3:\"hello\",5:\"welcome\"}\n",
        "print(\"mydict=\",dict)\n",
        "for item in dict:\n",
        "    print(\"************************************************\")\n",
        "    print(\"key=\",item)\n",
        "    print(\"value=\",dict[item])\n",
        "print(\"************************************************\")\n",
        "dict[8]=\"helloworld\"\n",
        "print(dict)\n",
        "dict.pop(3)\n",
        "print(dict)\n",
        "print(dict.keys())\n",
        "print(dict.values())"
      ]
    },
    {
      "cell_type": "code",
      "execution_count": null,
      "id": "47e7b2ea",
      "metadata": {
        "id": "47e7b2ea",
        "outputId": "3b043158-3034-4ca7-9475-a873ba7a933a"
      },
      "outputs": [
        {
          "name": "stdout",
          "output_type": "stream",
          "text": [
            "{'banana', 'orange', 'apple', 'grapes'}\n",
            "new set= {'grapes', 'kiwi', 'apple', 'orange', 'banana'}\n"
          ]
        }
      ],
      "source": [
        "s={\"apple\",\"banana\",\"orange\",\"grapes\"}\n",
        "lst=[\"jasmine\",\"rose\"]\n",
        "print(s)\n",
        "s.add(\"kiwi\")\n",
        "print(\"new set=\",s)\n",
        "s.update(lst)"
      ]
    },
    {
      "cell_type": "code",
      "execution_count": null,
      "id": "ea959cd7",
      "metadata": {
        "id": "ea959cd7",
        "outputId": "922807da-81af-4191-bdbd-0cbc21e65d15"
      },
      "outputs": [
        {
          "name": "stdout",
          "output_type": "stream",
          "text": [
            "{'banana', 'orange', 'apple', 'grapes'}\n",
            "{'grapes', 'rose', 'apple', 'jasmine', 'orange', 'banana'}\n",
            "new set= {'grapes', 'kiwi', 'rose', 'apple', 'jasmine', 'orange', 'banana'}\n"
          ]
        }
      ],
      "source": [
        "s={\"apple\",\"banana\",\"orange\",\"grapes\"}\n",
        "lst=[\"jasmine\",\"rose\"]\n",
        "print(s)\n",
        "s.update(lst)\n",
        "print(s)\n",
        "s.add(\"kiwi\")\n",
        "print(\"new set=\",s)"
      ]
    },
    {
      "cell_type": "code",
      "execution_count": null,
      "id": "1ec7ae40",
      "metadata": {
        "id": "1ec7ae40"
      },
      "outputs": [],
      "source": []
    }
  ],
  "metadata": {
    "kernelspec": {
      "display_name": "Python 3 (ipykernel)",
      "language": "python",
      "name": "python3"
    },
    "language_info": {
      "codemirror_mode": {
        "name": "ipython",
        "version": 3
      },
      "file_extension": ".py",
      "mimetype": "text/x-python",
      "name": "python",
      "nbconvert_exporter": "python",
      "pygments_lexer": "ipython3",
      "version": "3.9.7"
    },
    "colab": {
      "provenance": [],
      "include_colab_link": true
    }
  },
  "nbformat": 4,
  "nbformat_minor": 5
}