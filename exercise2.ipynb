{
  "cells": [
    {
      "cell_type": "markdown",
      "metadata": {
        "id": "view-in-github",
        "colab_type": "text"
      },
      "source": [
        "<a href=\"https://colab.research.google.com/github/ananyas-2002/pythonlab/blob/main/exercise2.ipynb\" target=\"_parent\"><img src=\"https://colab.research.google.com/assets/colab-badge.svg\" alt=\"Open In Colab\"/></a>"
      ]
    },
    {
      "cell_type": "code",
      "execution_count": null,
      "id": "a4609eff",
      "metadata": {
        "id": "a4609eff",
        "outputId": "0514c143-2b4d-4e45-f5d9-df29978a4e5f"
      },
      "outputs": [
        {
          "name": "stdout",
          "output_type": "stream",
          "text": [
            "combined list ['Anjali', 'anu', 'sana', 'ram', 22, 56, 78, 38, 98]\n",
            "length of name 4\n",
            "length of mark 5\n",
            "max of name sana\n",
            "max of mark 98\n",
            "min of name Anjali\n",
            "min of mark 22\n",
            "sum of mark 292\n"
          ]
        }
      ],
      "source": [
        "stud_list=['Anjali','anu','sana','ram']\n",
        "marklist=[22,56,78,38,98]\n",
        "combined=stud_list+marklist\n",
        "print(\"combined list\",combined)\n",
        "print(\"length of name\",len(stud_list))\n",
        "print(\"length of mark\",len(marklist))\n",
        "print(\"max of name\",max(stud_list))\n",
        "print(\"max of mark\",max(marklist))\n",
        "print(\"min of name\",min(stud_list))\n",
        "print(\"min of mark\",min(marklist))\n",
        "print(\"sum of mark\",sum(marklist))"
      ]
    },
    {
      "cell_type": "code",
      "execution_count": null,
      "id": "00a64819",
      "metadata": {
        "id": "00a64819",
        "outputId": "efa2e464-04d9-441f-b3ea-41662235b08d"
      },
      "outputs": [
        {
          "name": "stdout",
          "output_type": "stream",
          "text": [
            "['Anjali', 'manu', 'ram', 'sana', 'hi', 'ello', 'were']\n"
          ]
        }
      ],
      "source": [
        "stud_list=['Anjali','manu','ram','sana']\n",
        "st=['hi','ello','were']\n",
        "combined=stud_list+st\n",
        "print(combined)"
      ]
    },
    {
      "cell_type": "code",
      "execution_count": null,
      "id": "f0bed381",
      "metadata": {
        "id": "f0bed381",
        "outputId": "69aa09ba-9386-4cc1-9a0d-013cbc328b5f"
      },
      "outputs": [
        {
          "name": "stdout",
          "output_type": "stream",
          "text": [
            "56\n",
            "89\n",
            "76\n",
            "24\n",
            "56\n",
            "99\n",
            "first element 56\n",
            "second element 89\n",
            "last element 99\n",
            "slice [89, 76, 24, 56]\n"
          ]
        }
      ],
      "source": [
        "number=[56,89,76,24,56,99]\n",
        "for i in number:\n",
        "    print(i)\n",
        "print(\"first element\",number[0])\n",
        "print(\"second element\",number[1])\n",
        "print(\"last element\",number[-1])\n",
        "print(\"slice\",number[1:5])"
      ]
    },
    {
      "cell_type": "code",
      "execution_count": null,
      "id": "049e2c84",
      "metadata": {
        "id": "049e2c84",
        "outputId": "eea04899-2033-4328-de4a-d981518f63a1"
      },
      "outputs": [
        {
          "name": "stdout",
          "output_type": "stream",
          "text": [
            "enter number:121\n",
            "number is palindrome\n"
          ]
        }
      ],
      "source": [
        "rev=0\n",
        "number=int(input(\"enter number:\"))\n",
        "temp=number\n",
        "while(number>0):\n",
        "    rem=number%10\n",
        "    rev=rev*10+rem\n",
        "    number=number//10\n",
        "if(temp==rev):\n",
        "    print(\"number is palindrome\")\n",
        "else:\n",
        "    print(\"number is not a palindrome\")"
      ]
    },
    {
      "cell_type": "code",
      "execution_count": null,
      "id": "3294eb85",
      "metadata": {
        "id": "3294eb85",
        "outputId": "fefab72f-3d12-4646-d989-acdbf45aeef4"
      },
      "outputs": [
        {
          "name": "stdout",
          "output_type": "stream",
          "text": [
            "enter number:6\n",
            "1\n",
            "2\n",
            "4\n",
            "8\n",
            "16\n",
            "32\n"
          ]
        }
      ],
      "source": [
        "n=int(input(\"enter number:\"))\n",
        "for i in range(0,n):\n",
        "    print(2**i)"
      ]
    },
    {
      "cell_type": "code",
      "execution_count": null,
      "id": "0a22b99c",
      "metadata": {
        "scrolled": true,
        "id": "0a22b99c",
        "outputId": "fb663c79-949f-4f89-9313-18c963336959"
      },
      "outputs": [
        {
          "name": "stdout",
          "output_type": "stream",
          "text": [
            "enter number:10\n",
            "natural number\n",
            "1  \n",
            "2  \n",
            "3  \n",
            "4  \n",
            "5  \n",
            "6  \n",
            "7  \n",
            "8  \n",
            "9  \n",
            "10  \n",
            "sum of natural number= 55\n"
          ]
        }
      ],
      "source": [
        "sum_1=0\n",
        "n=int(input(\"enter number:\"))\n",
        "i=1\n",
        "print(\"natural number\")\n",
        "while(i<=n):\n",
        "    print(i,\" \")\n",
        "    sum_1=sum_1+i\n",
        "    i=i+1\n",
        "print(\"sum of natural number=\",sum_1)"
      ]
    },
    {
      "cell_type": "code",
      "execution_count": null,
      "id": "64a4bfe2",
      "metadata": {
        "id": "64a4bfe2",
        "outputId": "9742e7b8-7fe2-47b3-880f-4a27badb54bf"
      },
      "outputs": [
        {
          "name": "stdout",
          "output_type": "stream",
          "text": [
            "enter number of lines:6\n",
            "*\n",
            "\n",
            "**\n",
            "\n",
            "***\n",
            "\n",
            "****\n",
            "\n",
            "*****\n",
            "\n",
            "******\n",
            "\n"
          ]
        }
      ],
      "source": [
        "n=int(input(\"enter number of lines:\"))\n",
        "for i in range(n):\n",
        "    for j in range(i+1):\n",
        "        print(\"*\",end='')\n",
        "    print(\"\\n\")"
      ]
    },
    {
      "cell_type": "code",
      "execution_count": null,
      "id": "5b2c3e12",
      "metadata": {
        "id": "5b2c3e12",
        "outputId": "d030c29c-5d55-42be-8851-e78a4ad3a2af"
      },
      "outputs": [
        {
          "name": "stdout",
          "output_type": "stream",
          "text": [
            "enter number of lines:5\n",
            "*****\n",
            "****\n",
            "***\n",
            "**\n",
            "*\n"
          ]
        }
      ],
      "source": [
        "n=int(input(\"enter number of lines:\"))\n",
        "for i in range(n,0,-1):\n",
        "    for j in range(i):\n",
        "        print(\"*\",end=\"\")\n",
        "    print()"
      ]
    },
    {
      "cell_type": "code",
      "execution_count": null,
      "id": "1ecc4d2d",
      "metadata": {
        "id": "1ecc4d2d",
        "outputId": "3de79cef-e4cf-4458-8cea-73dc2a24de88"
      },
      "outputs": [
        {
          "name": "stdout",
          "output_type": "stream",
          "text": [
            "enter number of lines:5\n",
            "A\n",
            "AB\n",
            "ABC\n",
            "ABCD\n",
            "ABCDE\n"
          ]
        }
      ],
      "source": [
        "n=int(input(\"enter number of lines:\"))\n",
        "for i in range(n):\n",
        "    asciivalue=65\n",
        "    for j in range(i+1):\n",
        "        char=chr(asciivalue)\n",
        "        print(char,end=\"\")\n",
        "        asciivalue+=1\n",
        "    print()"
      ]
    },
    {
      "cell_type": "code",
      "execution_count": null,
      "id": "c6e3e710",
      "metadata": {
        "id": "c6e3e710",
        "outputId": "88d2e1b4-6194-4a0a-d555-0593e096b13e"
      },
      "outputs": [
        {
          "name": "stdout",
          "output_type": "stream",
          "text": [
            "enter number of lines:5\n",
            "     * \n",
            "    * * \n",
            "   * * * \n",
            "  * * * * \n",
            " * * * * * \n"
          ]
        }
      ],
      "source": [
        "n=int(input(\"enter number of lines:\"))\n",
        "for i in range(n):\n",
        "    for j in range(n-i):\n",
        "        print(end=\" \")\n",
        "    for j in range(i+1):\n",
        "        print(\"*\",end=\" \")\n",
        "    print()"
      ]
    },
    {
      "cell_type": "code",
      "execution_count": null,
      "id": "ce5fbd1a",
      "metadata": {
        "id": "ce5fbd1a",
        "outputId": "5a47fb98-3969-43ac-e3f5-84c98edad468"
      },
      "outputs": [
        {
          "name": "stdout",
          "output_type": "stream",
          "text": [
            "enter number of lines:5\n",
            "A\n",
            "BC\n",
            "DEF\n",
            "GHIJ\n",
            "KLMNO\n"
          ]
        }
      ],
      "source": [
        "n=int(input(\"enter number of lines:\"))\n",
        "asciivalue=65\n",
        "for i in range(n):\n",
        "    for j in range(i+1):\n",
        "        char=chr(asciivalue)\n",
        "        print(char,end=\"\")\n",
        "        asciivalue+=1\n",
        "    print()"
      ]
    },
    {
      "cell_type": "code",
      "execution_count": null,
      "id": "8fba16e9",
      "metadata": {
        "id": "8fba16e9",
        "outputId": "e060efc0-c535-4b28-ba36-31a6e6de958b"
      },
      "outputs": [
        {
          "name": "stdout",
          "output_type": "stream",
          "text": [
            "enter number of lines:5\n",
            "A\n",
            "BB\n",
            "CCC\n",
            "DDDD\n",
            "EEEEE\n"
          ]
        }
      ],
      "source": [
        "n=int(input(\"enter number of lines:\"))\n",
        "asciivalue=65\n",
        "for i in range(n):\n",
        "    for j in range(i+1):\n",
        "        char=chr(asciivalue)\n",
        "        print(char,end=\"\")\n",
        "    asciivalue+=1\n",
        "    print()"
      ]
    },
    {
      "cell_type": "code",
      "execution_count": null,
      "id": "9b77dee0",
      "metadata": {
        "id": "9b77dee0",
        "outputId": "b68a1d08-38a1-43e0-da5b-a95a7e4a53b6"
      },
      "outputs": [
        {
          "name": "stdout",
          "output_type": "stream",
          "text": [
            "enter number to print upto:10\n",
            "natural numbers in reverse order:\n",
            "10 9 8 7 6 5 4 3 2 1 "
          ]
        }
      ],
      "source": [
        "n=int(input(\"enter number to print upto:\"))\n",
        "print(\"natural numbers in reverse order:\")\n",
        "for i in range(n,0,-1):\n",
        "    print(i,end=\" \")"
      ]
    },
    {
      "cell_type": "code",
      "execution_count": null,
      "id": "38e38669",
      "metadata": {
        "id": "38e38669",
        "outputId": "2a9cb05c-6742-4712-ab86-8634c146f387"
      },
      "outputs": [
        {
          "name": "stdout",
          "output_type": "stream",
          "text": [
            "enter number:5\n",
            "fibonacci series\n",
            "0 1 1 2 3 5 8 "
          ]
        }
      ],
      "source": [
        "n=int(input(\"enter number:\"))\n",
        "f1=0\n",
        "f2=1\n",
        "print(\"fibonacci series\")\n",
        "print(f1,f2,end=\" \")\n",
        "for i in range(n):\n",
        "    f3=f1+f2\n",
        "    f1=f2\n",
        "    f2=f3\n",
        "    print(f3,end=\" \")"
      ]
    },
    {
      "cell_type": "code",
      "execution_count": null,
      "id": "52fd86a4",
      "metadata": {
        "id": "52fd86a4",
        "outputId": "dc18410a-e025-4a48-fc72-08a1a55a2f97"
      },
      "outputs": [
        {
          "name": "stdout",
          "output_type": "stream",
          "text": [
            "enter number:5\n",
            "factorial of number 5 is: 120\n"
          ]
        }
      ],
      "source": [
        "num=int(input(\"enter number:\"))\n",
        "fact=1\n",
        "for i in range(1,n+1):\n",
        "    fact*=i\n",
        "print(\"factorial of number\",n,\"is:\",fact)"
      ]
    },
    {
      "cell_type": "code",
      "execution_count": null,
      "id": "0d34effb",
      "metadata": {
        "id": "0d34effb",
        "outputId": "cfaf50a7-a084-4793-bd9b-b7a8ce18f46a"
      },
      "outputs": [
        {
          "name": "stdout",
          "output_type": "stream",
          "text": [
            "enter number:5\n",
            "89 \n",
            "90 91 \n",
            "92 93 94 \n",
            "95 96 97 98 \n",
            "99 100 101 102 103 \n"
          ]
        }
      ],
      "source": [
        "n=int(input(\"enter number:\"))\n",
        "num=89\n",
        "for i in range(n):\n",
        "    for j in range(i+1):\n",
        "        print(num,end=\" \")\n",
        "        num+=1\n",
        "    print()"
      ]
    },
    {
      "cell_type": "code",
      "execution_count": null,
      "id": "3f867524",
      "metadata": {
        "id": "3f867524",
        "outputId": "be5264ef-7054-47e1-d52f-912c8bc2742c"
      },
      "outputs": [
        {
          "name": "stdout",
          "output_type": "stream",
          "text": [
            "enter number:5\n",
            "89 \n",
            "90 90 \n",
            "91 91 91 \n",
            "92 92 92 92 \n",
            "93 93 93 93 93 \n"
          ]
        }
      ],
      "source": [
        "n=int(input(\"enter number:\"))\n",
        "num=89\n",
        "for i in range(n):\n",
        "    for j in range(i+1):\n",
        "        print(num,end=\" \")\n",
        "    num+=1\n",
        "    print()"
      ]
    },
    {
      "cell_type": "code",
      "execution_count": null,
      "id": "00bf0362",
      "metadata": {
        "id": "00bf0362",
        "outputId": "f74a9256-c412-43d4-a51f-11933cd7e588"
      },
      "outputs": [
        {
          "name": "stdout",
          "output_type": "stream",
          "text": [
            "enter number:5\n",
            "89 \n",
            "89 90 \n",
            "89 90 91 \n",
            "89 90 91 92 \n",
            "89 90 91 92 93 \n"
          ]
        }
      ],
      "source": [
        "n=int(input(\"enter number:\"))\n",
        "for i in range(n):\n",
        "    num=89\n",
        "    for j in range(i+1):\n",
        "        print(num,end=\" \")\n",
        "        num+=1\n",
        "    print()"
      ]
    },
    {
      "cell_type": "code",
      "execution_count": null,
      "id": "59eecd3b",
      "metadata": {
        "id": "59eecd3b",
        "outputId": "b0a78aad-ce79-4b91-fffa-2f3f0c98d16d"
      },
      "outputs": [
        {
          "name": "stdout",
          "output_type": "stream",
          "text": [
            "enter number:5\n",
            "0 1 1 2 3 5 8 "
          ]
        }
      ],
      "source": [
        "n=int(input(\"enter number:\"))\n",
        "f1=0\n",
        "f2=1\n",
        "i=1\n",
        "print(f1,f2,end=\" \")\n",
        "while(i<=n):\n",
        "    i+=1\n",
        "    f3=f1+f2\n",
        "    f1=f2\n",
        "    f2=f3\n",
        "    print(f3,end=\" \")\n",
        ""
      ]
    },
    {
      "cell_type": "code",
      "execution_count": null,
      "id": "f69f3f7d",
      "metadata": {
        "id": "f69f3f7d",
        "outputId": "40450d81-312d-4be9-b25b-141081bafc01"
      },
      "outputs": [
        {
          "name": "stdout",
          "output_type": "stream",
          "text": [
            "enter number:5\n",
            "     89 \n",
            "    89 90 \n",
            "   89 90 91 \n",
            "  89 90 91 92 \n",
            " 89 90 91 92 93 \n"
          ]
        }
      ],
      "source": [
        "n=int(input(\"enter number:\"))\n",
        "for i in range(n):\n",
        "    num=89\n",
        "    for k in range(n-i):\n",
        "        print(end=\" \")\n",
        "    for j in range(i+1):\n",
        "        print(num,end=\" \")\n",
        "        num+=1\n",
        "    print()"
      ]
    },
    {
      "cell_type": "code",
      "execution_count": null,
      "id": "2caa1e5b",
      "metadata": {
        "id": "2caa1e5b"
      },
      "outputs": [],
      "source": []
    }
  ],
  "metadata": {
    "kernelspec": {
      "display_name": "Python 3 (ipykernel)",
      "language": "python",
      "name": "python3"
    },
    "language_info": {
      "codemirror_mode": {
        "name": "ipython",
        "version": 3
      },
      "file_extension": ".py",
      "mimetype": "text/x-python",
      "name": "python",
      "nbconvert_exporter": "python",
      "pygments_lexer": "ipython3",
      "version": "3.10.9"
    },
    "colab": {
      "provenance": [],
      "include_colab_link": true
    }
  },
  "nbformat": 4,
  "nbformat_minor": 5
}