{
 "cells": [
  {
   "cell_type": "code",
   "execution_count": 20,
   "id": "3e8653f3",
   "metadata": {},
   "outputs": [
    {
     "name": "stdout",
     "output_type": "stream",
     "text": [
      "Line count= 66\n",
      "Word count= 131\n",
      "Line count= 149\n",
      "Word count= 296\n",
      "Line count= 197\n",
      "Word count= 392\n",
      "Line count= 230\n",
      "Word count= 457\n"
     ]
    }
   ],
   "source": [
    "line_count=0\n",
    "word_count=0\n",
    "f1=open(\"speech_barack_obama.txt\",'r')\n",
    "for line in f1:\n",
    "    line_count+=1\n",
    "    data=line.split('\\n')\n",
    "    word_count+=len(data)\n",
    "print(\"Line count=\",line_count)\n",
    "print(\"Word count=\",word_count)\n",
    "f2=open(\"speech_michelle_obama .txt\",'r')\n",
    "for line in f2:\n",
    "    line_count+=1\n",
    "    data=line.split('\\n')\n",
    "    word_count+=len(data)\n",
    "print(\"Line count=\",line_count)\n",
    "print(\"Word count=\",word_count)\n",
    "f3=open(\"speech_donald_trump.txt\",'r')\n",
    "for line in f3:\n",
    "    line_count+=1\n",
    "    data=line.split('\\n')\n",
    "    word_count+=len(data)\n",
    "print(\"Line count=\",line_count)\n",
    "print(\"Word count=\",word_count)\n",
    "f4=open(\"speech_melina_trump.txt\",'r')\n",
    "for line in f4:\n",
    "    line_count+=1\n",
    "    data=line.split('\\n')\n",
    "    word_count+=len(data)\n",
    "print(\"Line count=\",line_count)\n",
    "print(\"Word count=\",word_count)"
   ]
  },
  {
   "cell_type": "code",
   "execution_count": 27,
   "id": "806ccc71",
   "metadata": {},
   "outputs": [
    {
     "name": "stdout",
     "output_type": "stream",
     "text": [
      "Line count_obama= 66\n",
      "Word count_obama= 2400\n",
      "Line count_michelle= 83\n",
      "Word count_michelle= 2204\n",
      "Line count_donald_trump= 48\n",
      "Word count_donald_trump= 1259\n",
      "Line count_melina_trump= 33\n",
      "Word count_melina_trump= 1375\n"
     ]
    }
   ],
   "source": [
    "def file_obama(f1):\n",
    "    line_count=0\n",
    "    word_count=0\n",
    "    for line in f1:\n",
    "        line_count+=1\n",
    "        data=line.split()\n",
    "        word_count+=len(data)\n",
    "    print(\"Line count_obama=\",line_count)\n",
    "    print(\"Word count_obama=\",word_count)\n",
    "def file_michelle(f2):\n",
    "    line_count=0\n",
    "    word_count=0\n",
    "    for line in f2:\n",
    "        line_count+=1\n",
    "        data=line.split()\n",
    "        word_count+=len(data)\n",
    "    print(\"Line count_michelle=\",line_count)\n",
    "    print(\"Word count_michelle=\",word_count)\n",
    "def file_donald_trump(f3):\n",
    "    line_count=0\n",
    "    word_count=0\n",
    "    for line in f3:\n",
    "        line_count+=1\n",
    "        data=line.split()\n",
    "        word_count+=len(data)\n",
    "    print(\"Line count_donald_trump=\",line_count)\n",
    "    print(\"Word count_donald_trump=\",word_count)\n",
    "def file_melina_trump(f4):\n",
    "    line_count=0\n",
    "    word_count=0\n",
    "    for line in f4:\n",
    "        line_count+=1\n",
    "        data=line.split()\n",
    "        word_count+=len(data)\n",
    "    print(\"Line count_melina_trump=\",line_count)\n",
    "    print(\"Word count_melina_trump=\",word_count)\n",
    "f1=open(\"speech_barack_obama.txt\",'r')\n",
    "f2=open(\"speech_michelle_obama.txt\",'r')\n",
    "f3=open(\"speech_donald_trump.txt\",'r')\n",
    "f4=open(\"speech_melina_trump.txt\",'r')\n",
    "file_obama(f1)\n",
    "file_michelle(f2)\n",
    "file_donald_trump(f3)\n",
    "file_melina_trump(f4)"
   ]
  },
  {
   "cell_type": "code",
   "execution_count": 28,
   "id": "4c567791",
   "metadata": {},
   "outputs": [
    {
     "name": "stdout",
     "output_type": "stream",
     "text": [
      "Line count_obama= 66\n",
      "Word count_obama= 2400\n",
      "Line count_michelle= 83\n",
      "Word count_michelle= 2204\n",
      "Line count_donald_trump= 48\n",
      "Word count_donald_trump= 1259\n",
      "Line count_melina_trump= 33\n",
      "Word count_melina_trump= 1375\n"
     ]
    }
   ],
   "source": [
    "def file_obama(file_path):\n",
    "    f1=open(file_path,'r')\n",
    "    line_count=0\n",
    "    word_count=0\n",
    "    for line in f1:\n",
    "        line_count+=1\n",
    "        data=line.split()\n",
    "        word_count+=len(data)\n",
    "    print(\"Line count_obama=\",line_count)\n",
    "    print(\"Word count_obama=\",word_count)\n",
    "def file_michelle(file_path):\n",
    "    f2=open(file_path,'r')\n",
    "    line_count=0\n",
    "    word_count=0\n",
    "    for line in f2:\n",
    "        line_count+=1\n",
    "        data=line.split()\n",
    "        word_count+=len(data)\n",
    "    print(\"Line count_michelle=\",line_count)\n",
    "    print(\"Word count_michelle=\",word_count)\n",
    "def file_donald_trump(file_path):\n",
    "    f3=open(file_path,'r')\n",
    "    line_count=0\n",
    "    word_count=0\n",
    "    for line in f3:\n",
    "        line_count+=1\n",
    "        data=line.split()\n",
    "        word_count+=len(data)\n",
    "    print(\"Line count_donald_trump=\",line_count)\n",
    "    print(\"Word count_donald_trump=\",word_count)\n",
    "def file_melina_trump(file_path):\n",
    "    f4=open(file_path,'r')\n",
    "    line_count=0\n",
    "    word_count=0\n",
    "    for line in f4:\n",
    "        line_count+=1\n",
    "        data=line.split()\n",
    "        word_count+=len(data)\n",
    "    print(\"Line count_melina_trump=\",line_count)\n",
    "    print(\"Word count_melina_trump=\",word_count)\n",
    "file_obama(\"speech_barack_obama.txt\")\n",
    "file_michelle(\"speech_michelle_obama.txt\")\n",
    "file_donald_trump(\"speech_donald_trump.txt\")\n",
    "file_melina_trump(\"speech_melina_trump.txt\")"
   ]
  },
  {
   "cell_type": "code",
   "execution_count": 51,
   "id": "d186a9fd",
   "metadata": {},
   "outputs": [
    {
     "name": "stdout",
     "output_type": "stream",
     "text": [
      "sample file:\n",
      "Line count= 4\n",
      "Word count= 9\n"
     ]
    }
   ],
   "source": [
    "def count_file(file_path):\n",
    "    f1=open(file_path,'r')\n",
    "    line_count=0\n",
    "    word_count=0\n",
    "    for line in f1:\n",
    "        line_count+=1\n",
    "        for word in line:\n",
    "            if word==' 'or word=='\\n':\n",
    "                word_count+=1\n",
    "    print(\"Line count=\",line_count)\n",
    "    print(\"Word count=\",word_count)\n",
    "file=\"sample.txt\"\n",
    "print(\"sample file:\")\n",
    "count_file(file)"
   ]
  },
  {
   "cell_type": "code",
   "execution_count": 54,
   "id": "bf610286",
   "metadata": {},
   "outputs": [
    {
     "name": "stdout",
     "output_type": "stream",
     "text": [
      "sample file:\n",
      "['HI']\n",
      "['Hello!']\n",
      "['Veryyyyyy', 'welcome', 'to', 'world-']\n",
      "['say', 'hi...welcome.python', 'programming']\n",
      "Line count= 4\n",
      "Word count= 9\n",
      "space count= 5\n"
     ]
    }
   ],
   "source": [
    "def count_file(file_path):\n",
    "    f1=open(file_path,'r')\n",
    "    line_count=0\n",
    "    word_count=0\n",
    "    space_count=0\n",
    "    for line in f1:\n",
    "        line_count+=1\n",
    "        data=line.split()\n",
    "        #print(data)\n",
    "        word_count+=len(data)\n",
    "        space_count+=len(data)-1\n",
    "    print(\"Line count=\",line_count)\n",
    "    print(\"Word count=\",word_count)\n",
    "    print(\"space count=\",space_count)\n",
    "file=\"sample.txt\"\n",
    "print(\"sample file:\")\n",
    "count_file(file)"
   ]
  },
  {
   "cell_type": "code",
   "execution_count": null,
   "id": "172010e7",
   "metadata": {},
   "outputs": [],
   "source": []
  },
  {
   "cell_type": "code",
   "execution_count": null,
   "id": "0335b28d",
   "metadata": {},
   "outputs": [],
   "source": []
  }
 ],
 "metadata": {
  "kernelspec": {
   "display_name": "Python 3 (ipykernel)",
   "language": "python",
   "name": "python3"
  },
  "language_info": {
   "codemirror_mode": {
    "name": "ipython",
    "version": 3
   },
   "file_extension": ".py",
   "mimetype": "text/x-python",
   "name": "python",
   "nbconvert_exporter": "python",
   "pygments_lexer": "ipython3",
   "version": "3.10.9"
  }
 },
 "nbformat": 4,
 "nbformat_minor": 5
}
