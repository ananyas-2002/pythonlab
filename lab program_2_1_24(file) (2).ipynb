{
 "cells": [
  {
   "cell_type": "code",
   "execution_count": null,
   "id": "62a3c0ef",
   "metadata": {},
   "outputs": [],
   "source": [
    "#from google.colab import drive\n",
    "#drive.mount('/content/drive')"
   ]
  },
  {
   "cell_type": "code",
   "execution_count": 16,
   "id": "5492de51",
   "metadata": {},
   "outputs": [
    {
     "name": "stdout",
     "output_type": "stream",
     "text": [
      "enter choice\n",
      "1.load the file from external library:\n",
      "2.Display contents using with keyword:\n",
      "3.Rename the file\n",
      "4.Delete the file:\n",
      "5.Exit\n",
      "1\n",
      "File openend successfully:\n",
      "enter choice\n",
      "1.load the file from external library:\n",
      "2.Display contents using with keyword:\n",
      "3.Rename the file\n",
      "4.Delete the file:\n",
      "5.Exit\n",
      "2\n",
      "Open the file using with open:\n",
      "HELLO!\n",
      "enter choice\n",
      "1.load the file from external library:\n",
      "2.Display contents using with keyword:\n",
      "3.Rename the file\n",
      "4.Delete the file:\n",
      "5.Exit\n",
      "3\n",
      "renamed the file successfully:\n",
      "enter choice\n",
      "1.load the file from external library:\n",
      "2.Display contents using with keyword:\n",
      "3.Rename the file\n",
      "4.Delete the file:\n",
      "5.Exit\n",
      "4\n",
      "Deleted the file successfully:\n",
      "enter choice\n",
      "1.load the file from external library:\n",
      "2.Display contents using with keyword:\n",
      "3.Rename the file\n",
      "4.Delete the file:\n",
      "5.Exit\n",
      "5\n"
     ]
    }
   ],
   "source": [
    "import os\n",
    "while(1):\n",
    "    ch=int(input(\"enter choice\\n1.load the file from external library:\\n2.Display contents using with keyword:\\n3.Rename the file\\n4.Delete the file:\\n5.Exit\\n\"))\n",
    "    if ch==1:\n",
    "        try:     \n",
    "            fo=open(\"../filedocuments/abc.txt\")\n",
    "        except:\n",
    "            print(\"No such file found*\")\n",
    "        else:\n",
    "            print(\"File openend successfully:\")\n",
    "            fo.close()\n",
    "    elif ch==2:\n",
    "        print(\"Open the file using with open:\")\n",
    "        with open(\"../filedocuments/abc.txt\",'r')as f:\n",
    "            for line in f:\n",
    "                print(line)\n",
    "    elif ch==3:\n",
    "        src=\"../filedocuments/abc.txt\"\n",
    "        des=\"../filedocuments/Newfile.txt\"\n",
    "        try:\n",
    "            os.rename(src,des)\n",
    "        except:\n",
    "            print(\"Cannot rename the file*\")\n",
    "        else:\n",
    "            print(\"renamed the file successfully:\")\n",
    "    elif ch==4:\n",
    "        try:\n",
    "            os.remove(\"../filedocuments/Newfile.txt\")\n",
    "        except:\n",
    "            print(\"cannot delete the file*\")\n",
    "        else:\n",
    "            print(\"Deleted the file successfully:\")\n",
    "    elif ch==5:\n",
    "        break\n",
    "    else:\n",
    "        print(\"invalid chooice*\")"
   ]
  },
  {
   "cell_type": "code",
   "execution_count": null,
   "id": "93a70a4b",
   "metadata": {},
   "outputs": [],
   "source": []
  },
  {
   "cell_type": "code",
   "execution_count": null,
   "id": "487557ca",
   "metadata": {},
   "outputs": [],
   "source": []
  }
 ],
 "metadata": {
  "kernelspec": {
   "display_name": "Python 3 (ipykernel)",
   "language": "python",
   "name": "python3"
  },
  "language_info": {
   "codemirror_mode": {
    "name": "ipython",
    "version": 3
   },
   "file_extension": ".py",
   "mimetype": "text/x-python",
   "name": "python",
   "nbconvert_exporter": "python",
   "pygments_lexer": "ipython3",
   "version": "3.10.9"
  }
 },
 "nbformat": 4,
 "nbformat_minor": 5
}
