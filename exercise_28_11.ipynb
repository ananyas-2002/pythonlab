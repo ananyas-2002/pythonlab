{
 "cells": [
  {
   "cell_type": "code",
   "execution_count": 22,
   "id": "1759e767",
   "metadata": {},
   "outputs": [
    {
     "name": "stdout",
     "output_type": "stream",
     "text": [
      "string before split: Department of computer Science Mangalore University Mangalagangothiri Dakshina  Kannada \n",
      "string after splitting: ['Department', 'of', 'computer', 'Science', 'Mangalore', 'University', 'Mangalagangothiri', 'Dakshina', '', 'Kannada', '']\n",
      "index of university: 5\n"
     ]
    }
   ],
   "source": [
    "txt=\"Department of computer Science Mangalore University Mangalagangothiri Dakshina  Kannada \"\n",
    "print(\"string before split:\",txt)\n",
    "list1=list(txt.split(\" \"))\n",
    "print(\"string after splitting:\",list1)\n",
    "print(\"index of university:\",list1.index('University'))"
   ]
  },
  {
   "cell_type": "code",
   "execution_count": 21,
   "id": "bc9bb7a1",
   "metadata": {},
   "outputs": [
    {
     "name": "stdout",
     "output_type": "stream",
     "text": [
      "string before split: Department of computer Science Mangalore University Mangalagangothiri Dakshina Kannada \n",
      "string after after splitting to list: ['Department', 'of', 'computer', 'Science', 'Mangalore', 'University', 'Mangalagangothiri', 'Dakshina', 'Kannada']\n",
      "index of university: 5\n"
     ]
    }
   ],
   "source": [
    "txt=\"Department of computer Science Mangalore University Mangalagangothiri Dakshina Kannada \"\n",
    "print(\"string before split:\",txt)\n",
    "list1=[]\n",
    "tmp=''\n",
    "index=-1\n",
    "for i in txt:\n",
    "    if i==' ':\n",
    "        list1.append(tmp)\n",
    "        tmp=''\n",
    "    else:\n",
    "        tmp+=i\n",
    "for i in range(len(list1)):\n",
    "    if list1[i]=='University':\n",
    "        index=i\n",
    "print(\"string after after splitting to list:\",list1)\n",
    "print(\"index of university:\",index)"
   ]
  },
  {
   "cell_type": "code",
   "execution_count": 24,
   "id": "2c4a7078",
   "metadata": {},
   "outputs": [
    {
     "name": "stdout",
     "output_type": "stream",
     "text": [
      "('hi', 'hello')\n",
      "<class 'tuple'>\n"
     ]
    }
   ],
   "source": [
    "tuple1=(\"hi\",\"hello\")\n",
    "print(tuple1)\n",
    "print(type(tuple1))"
   ]
  },
  {
   "cell_type": "code",
   "execution_count": 30,
   "id": "efd3c17b",
   "metadata": {},
   "outputs": [
    {
     "name": "stdout",
     "output_type": "stream",
     "text": [
      "('Hi', [2, 4, 6, 8], (5, 6, 9, 10))\n",
      "i\n",
      "('Hi', [2, 4, 89, 8], (5, 6, 9, 10))\n"
     ]
    },
    {
     "ename": "TypeError",
     "evalue": "'tuple' object does not support item assignment",
     "output_type": "error",
     "traceback": [
      "\u001b[1;31m---------------------------------------------------------------------------\u001b[0m",
      "\u001b[1;31mTypeError\u001b[0m                                 Traceback (most recent call last)",
      "Cell \u001b[1;32mIn[30], line 6\u001b[0m\n\u001b[0;32m      4\u001b[0m tuple1[\u001b[38;5;241m1\u001b[39m][\u001b[38;5;241m2\u001b[39m]\u001b[38;5;241m=\u001b[39m\u001b[38;5;241m89\u001b[39m\n\u001b[0;32m      5\u001b[0m \u001b[38;5;28mprint\u001b[39m(tuple1)\n\u001b[1;32m----> 6\u001b[0m tuple1[\u001b[38;5;241m2\u001b[39m][\u001b[38;5;241m1\u001b[39m]\u001b[38;5;241m=\u001b[39m\u001b[38;5;241m90\u001b[39m\n\u001b[0;32m      7\u001b[0m \u001b[38;5;28mprint\u001b[39m(tuple1)\n",
      "\u001b[1;31mTypeError\u001b[0m: 'tuple' object does not support item assignment"
     ]
    }
   ],
   "source": [
    "tuple1=(\"Hi\",[2,4,6,8],(5,6,9,10))\n",
    "print(tuple1)\n",
    "print(tuple1[0][1])\n",
    "tuple1[1][2]=89\n",
    "print(tuple1)\n",
    "#tuple1[2][1]=90\n",
    "#print(tuple1)"
   ]
  },
  {
   "cell_type": "code",
   "execution_count": 43,
   "id": "99245f93",
   "metadata": {},
   "outputs": [
    {
     "name": "stdout",
     "output_type": "stream",
     "text": [
      "(2, 4, 5, 6, 8, 9, 12, 6, 3, 6, 89, 6)\n",
      "max of tuple1: 89\n",
      "min of tuple1: 2\n",
      "count of 6: 4\n",
      "index of 6: 3\n",
      "index of 5: 2\n",
      "sum of: 156\n",
      "sorted of: [2, 3, 4, 5, 6, 6, 6, 6, 8, 9, 12, 89]\n",
      "string tuple: ('H', 'E', 'L', 'L', 'O')\n",
      "iterate value: (0, 1, 2, 3, 4)\n",
      "enumerate of tuple: <enumerate object at 0x00000118DD5EC440>\n",
      "enumerate of tuple\n",
      "0 : 2\n",
      "1 : 4\n",
      "2 : 5\n",
      "3 : 6\n",
      "4 : 8\n",
      "5 : 9\n",
      "6 : 12\n",
      "7 : 6\n",
      "8 : 3\n",
      "9 : 6\n",
      "10 : 89\n",
      "11 : 6\n",
      "length of tuple: 12\n"
     ]
    }
   ],
   "source": [
    "tuple1=(2,4,5,6,8,9,12,6,3,6,89,6)\n",
    "print(tuple1)\n",
    "print(\"max of tuple1:\",max(tuple1))\n",
    "print(\"min of tuple1:\",min(tuple1))\n",
    "print(\"count of 6:\",tuple1.count(6))\n",
    "print(\"index of 6:\",tuple1.index(6))\n",
    "print(\"index of 5:\",tuple1.index(5))\n",
    "print(\"sum of:\",sum(tuple1))\n",
    "print(\"sorted of:\",sorted(tuple1))\n",
    "str1=\"HELLO\"\n",
    "tuple2=tuple(str1)\n",
    "print(\"string tuple:\",tuple2)\n",
    "tuple3=tuple(i for i in range(5))\n",
    "print(\"iterate value:\",tuple3)\n",
    "print(\"enumerate of tuple:\",enumerate(tuple1))\n",
    "print(\"enumerate of tuple\")\n",
    "for i,val in enumerate(tuple1):\n",
    "    print(i,\":\",val)\n",
    "print(\"length of tuple:\",len(tuple1))"
   ]
  },
  {
   "cell_type": "code",
   "execution_count": 48,
   "id": "eb002f77",
   "metadata": {},
   "outputs": [
    {
     "name": "stdout",
     "output_type": "stream",
     "text": [
      "First tuple= (2, 4, 6, 8)\n",
      "Second tuple= (5, 7, 11, 15)\n",
      "concatenated tuple: (2, 4, 6, 8, 5, 7, 11, 15)\n",
      "repetation of tuple2= (5, 7, 11, 15, 5, 7, 11, 15, 5, 7, 11, 15)\n"
     ]
    }
   ],
   "source": [
    "tup1=(2,4,6,8)\n",
    "tup2=(5,7,11,15)\n",
    "print(\"First tuple=\",tup1)\n",
    "print(\"Second tuple=\",tup2)\n",
    "tup3=tup1+tup2\n",
    "print(\"concatenated tuple:\",tup3)\n",
    "tup2=tup2*(3)\n",
    "print(\"repetation of tuple2=\",tup2)"
   ]
  },
  {
   "cell_type": "code",
   "execution_count": null,
   "id": "18158710",
   "metadata": {},
   "outputs": [],
   "source": []
  }
 ],
 "metadata": {
  "kernelspec": {
   "display_name": "Python 3 (ipykernel)",
   "language": "python",
   "name": "python3"
  },
  "language_info": {
   "codemirror_mode": {
    "name": "ipython",
    "version": 3
   },
   "file_extension": ".py",
   "mimetype": "text/x-python",
   "name": "python",
   "nbconvert_exporter": "python",
   "pygments_lexer": "ipython3",
   "version": "3.10.9"
  }
 },
 "nbformat": 4,
 "nbformat_minor": 5
}
