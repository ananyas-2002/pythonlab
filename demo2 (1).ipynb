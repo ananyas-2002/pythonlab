{
 "cells": [
  {
   "cell_type": "code",
   "execution_count": 1,
   "id": "c9bbac91",
   "metadata": {},
   "outputs": [
    {
     "name": "stdout",
     "output_type": "stream",
     "text": [
      "[2, 4, 6, 8, 10, 2, 6, 4, 8]\n"
     ]
    }
   ],
   "source": [
    "n=[2,4,6,8,10,2,6,4,8]\n",
    "print(n)\n",
    "    "
   ]
  },
  {
   "cell_type": "code",
   "execution_count": 6,
   "id": "2b9b7b97",
   "metadata": {},
   "outputs": [
    {
     "name": "stdout",
     "output_type": "stream",
     "text": [
      "enter number separated by comma:2,4,6,8,10,12,2,4,6,8,14,16\n",
      "LIST: [2, 4, 6, 8, 10, 12, 2, 4, 6, 8, 14, 16]\n",
      "new list= [2, 4, 6, 8, 10, 12, 14, 16]\n"
     ]
    }
   ],
   "source": [
    "n=input(\"enter number separated by comma:\")\n",
    "t=list(map(int,n.split(',')))\n",
    "print(\"LIST:\",t)\n",
    "new_list=[]\n",
    "for item in t:\n",
    "    if item not in new_list:\n",
    "        new_list.append(item)\n",
    "print(\"new list=\",new_list)\n",
    "    "
   ]
  },
  {
   "cell_type": "code",
   "execution_count": 16,
   "id": "abd01184",
   "metadata": {},
   "outputs": [
    {
     "name": "stdout",
     "output_type": "stream",
     "text": [
      "enter a strig:helloworld\n",
      "string= helloworld\n",
      "sliced string= hello\n",
      "sliced 2nd string= low\n",
      "value of string= l\n"
     ]
    }
   ],
   "source": [
    "n=input(\"enter a strig:\")\n",
    "print(\"string=\",n)\n",
    "slice1=n[0:5]\n",
    "slice2=n[3:6]\n",
    "index1=n[3]\n",
    "print(\"sliced string=\",slice1)\n",
    "print(\"sliced 2nd string=\",slice2)\n",
    "print(\"value of string=\",index1)"
   ]
  },
  {
   "cell_type": "code",
   "execution_count": 46,
   "id": "34a2e7e8",
   "metadata": {},
   "outputs": [
    {
     "name": "stdout",
     "output_type": "stream",
     "text": [
      "enter number:10\n",
      "enter element to the list:2\n",
      "enter element to the list:9\n",
      "enter element to the list:-2\n",
      "enter element to the list:-9\n",
      "enter element to the list:18\n",
      "enter element to the list:87\n",
      "enter element to the list:65\n",
      "enter element to the list:-1\n",
      "enter element to the list:99\n",
      "enter element to the list:3\n",
      "mylist= [2, 9, -2, -9, 18, 87, 65, -1, 99, 3]\n",
      "positive list= [2, 9, 18, 87, 65, 99, 3]\n",
      "negative list= [-2, -9, -1]\n"
     ]
    }
   ],
   "source": [
    "n=int(input(\"enter number:\"))\n",
    "mylist=[]\n",
    "for i in range(n):\n",
    "    element=int(input(\"enter element to the list:\"))\n",
    "    mylist.append(element)\n",
    "print(\"mylist=\",mylist)\n",
    "p_lst=[]\n",
    "n_lst=[]\n",
    "for value in mylist:\n",
    "    if value>=0:\n",
    "        p_lst.append(value)\n",
    "    else:\n",
    "        n_lst.append(value)\n",
    "print(\"positive list=\",p_lst)\n",
    "print(\"negative list=\",n_lst)     "
   ]
  },
  {
   "cell_type": "code",
   "execution_count": 27,
   "id": "7ba3b030",
   "metadata": {},
   "outputs": [
    {
     "name": "stdout",
     "output_type": "stream",
     "text": [
      "[0, 48, 2, 1, 19, 35, 46, 57, 40]\n",
      " zero is neither odd nor even\n",
      "even list= [48, 2, 46, 40]\n",
      "odd list= [1, 19, 35, 57]\n"
     ]
    }
   ],
   "source": [
    "n=[0,48,2,1,19,35,46,57,40]\n",
    "print(n)\n",
    "oddlist=[]\n",
    "evenlist=[]\n",
    "for item in n:\n",
    "    if item==0:\n",
    "        print(\" zero is neither odd nor even\")\n",
    "    elif item%2==0:\n",
    "        evenlist.append(item)\n",
    "    else:\n",
    "        oddlist.append(item)\n",
    "print(\"even list=\",evenlist)\n",
    "print(\"odd list=\",oddlist)"
   ]
  },
  {
   "cell_type": "code",
   "execution_count": 29,
   "id": "6cad5a0d",
   "metadata": {},
   "outputs": [
    {
     "name": "stdout",
     "output_type": "stream",
     "text": [
      "enter number:5\n",
      "enter element:2\n",
      "enter element:6\n",
      "enter element:9\n",
      "enter element:23\n",
      "enter element:18\n",
      "TUPLE= (2, 6, 9, 23, 18)\n"
     ]
    }
   ],
   "source": [
    "lst=[]\n",
    "mytuple=()\n",
    "n=int(input(\"enter number:\"))\n",
    "for i in range(0,n):\n",
    "    lst.append(int(input(\"enter element:\")))\n",
    "mytuple=tuple(lst)\n",
    "print(\"TUPLE=\",mytuple)"
   ]
  },
  {
   "cell_type": "code",
   "execution_count": 30,
   "id": "97f7d13a",
   "metadata": {},
   "outputs": [
    {
     "name": "stdout",
     "output_type": "stream",
     "text": [
      "tuple= (2, 8, 12, 17, 56, 45)\n",
      "slice1 the tuple= (12, 17)\n",
      "slice2 the tuple= (2, 8, 12)\n"
     ]
    }
   ],
   "source": [
    "t=(2,8,12,17,56,45)\n",
    "print(\"tuple=\",t)\n",
    "print(\"slice1 the tuple=\",t[2:4])\n",
    "print(\"slice2 the tuple=\",t[:3])"
   ]
  },
  {
   "cell_type": "code",
   "execution_count": 55,
   "id": "9bb8ba6e",
   "metadata": {},
   "outputs": [
    {
     "name": "stdout",
     "output_type": "stream",
     "text": [
      "mydict= {2: 'hi', 3: 'hello', 5: 'welcome'}\n",
      "************************************************\n",
      "key= 2\n",
      "value= hi\n",
      "************************************************\n",
      "key= 3\n",
      "value= hello\n",
      "************************************************\n",
      "key= 5\n",
      "value= welcome\n",
      "************************************************\n",
      "{2: 'hi', 3: 'hello', 5: 'welcome', 8: 'helloworld'}\n",
      "{2: 'hi', 5: 'welcome', 8: 'helloworld'}\n",
      "dict_keys([2, 5, 8])\n",
      "dict_values(['hi', 'welcome', 'helloworld'])\n"
     ]
    }
   ],
   "source": [
    "dict={2:\"hi\",3:\"hello\",5:\"welcome\"}\n",
    "print(\"mydict=\",dict)\n",
    "for item in dict:\n",
    "    print(\"************************************************\")\n",
    "    print(\"key=\",item)\n",
    "    print(\"value=\",dict[item])\n",
    "print(\"************************************************\")\n",
    "dict[8]=\"helloworld\"\n",
    "print(dict)\n",
    "dict.pop(3)\n",
    "print(dict)\n",
    "print(dict.keys())\n",
    "print(dict.values())"
   ]
  },
  {
   "cell_type": "code",
   "execution_count": 50,
   "id": "47e7b2ea",
   "metadata": {},
   "outputs": [
    {
     "name": "stdout",
     "output_type": "stream",
     "text": [
      "{'banana', 'orange', 'apple', 'grapes'}\n",
      "new set= {'grapes', 'kiwi', 'apple', 'orange', 'banana'}\n"
     ]
    }
   ],
   "source": [
    "s={\"apple\",\"banana\",\"orange\",\"grapes\"}\n",
    "lst=[\"jasmine\",\"rose\"]\n",
    "print(s)\n",
    "s.add(\"kiwi\")\n",
    "print(\"new set=\",s)\n",
    "s.update(lst)"
   ]
  },
  {
   "cell_type": "code",
   "execution_count": 52,
   "id": "ea959cd7",
   "metadata": {},
   "outputs": [
    {
     "name": "stdout",
     "output_type": "stream",
     "text": [
      "{'banana', 'orange', 'apple', 'grapes'}\n",
      "{'grapes', 'rose', 'apple', 'jasmine', 'orange', 'banana'}\n",
      "new set= {'grapes', 'kiwi', 'rose', 'apple', 'jasmine', 'orange', 'banana'}\n"
     ]
    }
   ],
   "source": [
    "s={\"apple\",\"banana\",\"orange\",\"grapes\"}\n",
    "lst=[\"jasmine\",\"rose\"]\n",
    "print(s)\n",
    "s.update(lst)\n",
    "print(s)\n",
    "s.add(\"kiwi\")\n",
    "print(\"new set=\",s)"
   ]
  },
  {
   "cell_type": "code",
   "execution_count": null,
   "id": "1ec7ae40",
   "metadata": {},
   "outputs": [],
   "source": []
  }
 ],
 "metadata": {
  "kernelspec": {
   "display_name": "Python 3 (ipykernel)",
   "language": "python",
   "name": "python3"
  },
  "language_info": {
   "codemirror_mode": {
    "name": "ipython",
    "version": 3
   },
   "file_extension": ".py",
   "mimetype": "text/x-python",
   "name": "python",
   "nbconvert_exporter": "python",
   "pygments_lexer": "ipython3",
   "version": "3.10.9"
  }
 },
 "nbformat": 4,
 "nbformat_minor": 5
}
