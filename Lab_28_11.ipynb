{
 "cells": [
  {
   "cell_type": "code",
   "execution_count": 40,
   "id": "8ef5d8ee",
   "metadata": {},
   "outputs": [
    {
     "name": "stdout",
     "output_type": "stream",
     "text": [
      "enter size of list:4\n",
      "enter list elements:2\n",
      "enter list elements:4\n",
      "enter list elements:6\n",
      "enter list elements:8\n",
      "lList1: [2, 4, 6, 8]\n",
      "Select Choice:\n",
      "\n",
      "1.Insert\n",
      "2.Remove\n",
      "3.Append\n",
      "4.Length\n",
      "5.Pop\n",
      "6.clear\n",
      "7.Exit\n",
      "enter your choice:5\n",
      "enter index to pop from the list:2\n",
      "List after pop giving particular index: [2, 4, 8]\n",
      "List after pop(without giving index): [2, 4]\n",
      "Select Choice:\n",
      "\n",
      "1.Insert\n",
      "2.Remove\n",
      "3.Append\n",
      "4.Length\n",
      "5.Pop\n",
      "6.clear\n",
      "7.Exit\n",
      "enter your choice:5\n",
      "enter index to pop from the list:1\n",
      "List after pop giving particular index: [2]\n",
      "List after pop(without giving index): []\n",
      "Select Choice:\n",
      "\n",
      "1.Insert\n",
      "2.Remove\n",
      "3.Append\n",
      "4.Length\n",
      "5.Pop\n",
      "6.clear\n",
      "7.Exit\n",
      "enter your choice:5\n",
      "enter index to pop from the list:1\n"
     ]
    },
    {
     "ename": "IndexError",
     "evalue": "pop from empty list",
     "output_type": "error",
     "traceback": [
      "\u001b[1;31m---------------------------------------------------------------------------\u001b[0m",
      "\u001b[1;31mIndexError\u001b[0m                                Traceback (most recent call last)",
      "Cell \u001b[1;32mIn[40], line 31\u001b[0m\n\u001b[0;32m     29\u001b[0m \u001b[38;5;28;01melif\u001b[39;00m ch\u001b[38;5;241m==\u001b[39m\u001b[38;5;241m5\u001b[39m:\n\u001b[0;32m     30\u001b[0m     index\u001b[38;5;241m=\u001b[39m\u001b[38;5;28mint\u001b[39m(\u001b[38;5;28minput\u001b[39m(\u001b[38;5;124m\"\u001b[39m\u001b[38;5;124menter index to pop from the list:\u001b[39m\u001b[38;5;124m\"\u001b[39m))\n\u001b[1;32m---> 31\u001b[0m     \u001b[43mlst1\u001b[49m\u001b[38;5;241;43m.\u001b[39;49m\u001b[43mpop\u001b[49m\u001b[43m(\u001b[49m\u001b[43mindex\u001b[49m\u001b[43m)\u001b[49m\n\u001b[0;32m     32\u001b[0m     \u001b[38;5;28mprint\u001b[39m(\u001b[38;5;124m\"\u001b[39m\u001b[38;5;124mList after pop giving particular index:\u001b[39m\u001b[38;5;124m\"\u001b[39m,lst1)\n\u001b[0;32m     33\u001b[0m     \u001b[38;5;28;01mif\u001b[39;00m \u001b[38;5;28mlen\u001b[39m(lst1)\u001b[38;5;241m==\u001b[39m\u001b[38;5;241m0\u001b[39m:\n",
      "\u001b[1;31mIndexError\u001b[0m: pop from empty list"
     ]
    }
   ],
   "source": [
    "n=int(input(\"enter size of list:\"))\n",
    "lst1=[]\n",
    "for i in range(n):\n",
    "    ele=int(input(\"enter list elements:\"))\n",
    "    lst1.append(ele)\n",
    "print(\"lList1:\",lst1)\n",
    "while(1):\n",
    "    print(\"Select Choice:\")\n",
    "    print(\"\\n1.Insert\\n2.Remove\\n3.Append\\n4.Length\\n5.Pop\\n6.clear\\n7.Exit\")\n",
    "    ch=int(input(\"enter your choice:\"))\n",
    "    if ch==1:\n",
    "        index=int(input(\"enter index:\"))\n",
    "        val=int(input(\"enter value to the list:\"))\n",
    "        lst1.insert(index,val)\n",
    "        print(\"List1 after inserting a element:\",lst1)\n",
    "    elif ch==2:\n",
    "        val=int(input(\"enter value to remove from list:\"))\n",
    "        if val in lst1:\n",
    "            lst1.remove(val)\n",
    "            print(\"List after removing an element:\",lst1)\n",
    "        else:\n",
    "            print(\"Entered value not present in the list*\")\n",
    "    elif ch==3:\n",
    "        ele=int(input(\"enter element to append to list:\"))\n",
    "        lst1.append(ele)\n",
    "        print(\"List1 after appending:\",lst1)\n",
    "    elif ch==4:\n",
    "        print(\"Length of the list1:\",len(lst1))\n",
    "    elif ch==5:\n",
    "        index=int(input(\"enter index to pop from the list:\"))\n",
    "        lst1.pop(index)\n",
    "        print(\"List after pop giving particular index:\",lst1)\n",
    "        if len(lst1)==0:\n",
    "            print(\"You cannot pop from the list,List is empty\")\n",
    "        else:    \n",
    "            lst1.pop()\n",
    "            print(\"List after pop(without giving index):\",lst1)\n",
    "    elif ch==6:\n",
    "        print(\"List after clear:\",lst.clear())\n",
    "    elif ch==7:\n",
    "        break\n",
    "    else:\n",
    "        print(\"Invalid choice:\")"
   ]
  },
  {
   "cell_type": "code",
   "execution_count": 35,
   "id": "f95b1969",
   "metadata": {},
   "outputs": [
    {
     "name": "stdout",
     "output_type": "stream",
     "text": [
      "Enter string1:Hello!\n",
      "Enter string2:Very good morning\n",
      "Text1: Hello!\n",
      "Text2: Very good morning\n",
      "Concatenated string: Hello!Very good morning\n",
      "Substring of the concatenated string is: o!Very good\n",
      "Length of the given string1: 6\n",
      "Length of the given string2: 17\n",
      "Length of the concatenated string: 23\n",
      "Length of the given substring: 11\n",
      "Enter character to find the indexv\n",
      "Entered character not found in the string\n",
      "Slicing of concatenated string is: Very good morning\n",
      "Two strings are not equal\n"
     ]
    }
   ],
   "source": [
    "txt1=input(\"Enter string1:\")\n",
    "txt2=input(\"Enter string2:\")\n",
    "print(\"Text1:\",txt1)\n",
    "print(\"Text2:\",txt2)\n",
    "txt3=txt1+txt2\n",
    "print(\"Concatenated string:\",txt3)\n",
    "print(\"Substring of the concatenated string is:\",txt3[4:15])\n",
    "print(\"Length of the given string1:\",len(txt1))\n",
    "print(\"Length of the given string2:\",len(txt2))\n",
    "print(\"Length of the concatenated string:\",len(txt3))\n",
    "print(\"Length of the given substring:\",len(txt3[4:15]))\n",
    "i=input(\"Enter character to find the index\")\n",
    "if i in txt3:\n",
    "    print(\"index of\",i,\"is:\",txt3.index(i))\n",
    "else:\n",
    "    print(\"Entered character not found in the string\")\n",
    "print(\"Slicing of concatenated string is:\",txt3[6:])\n",
    "if txt1==txt2:\n",
    "    print(\"Two strings are equal\")\n",
    "else:\n",
    "    print(\"Two strings are not equal\")"
   ]
  },
  {
   "cell_type": "code",
   "execution_count": null,
   "id": "407cf53d",
   "metadata": {},
   "outputs": [],
   "source": []
  }
 ],
 "metadata": {
  "kernelspec": {
   "display_name": "Python 3 (ipykernel)",
   "language": "python",
   "name": "python3"
  },
  "language_info": {
   "codemirror_mode": {
    "name": "ipython",
    "version": 3
   },
   "file_extension": ".py",
   "mimetype": "text/x-python",
   "name": "python",
   "nbconvert_exporter": "python",
   "pygments_lexer": "ipython3",
   "version": "3.10.9"
  }
 },
 "nbformat": 4,
 "nbformat_minor": 5
}
