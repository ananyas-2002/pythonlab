{
  "cells": [
    {
      "cell_type": "markdown",
      "metadata": {
        "id": "view-in-github",
        "colab_type": "text"
      },
      "source": [
        "<a href=\"https://colab.research.google.com/github/ananyas-2002/pythonlab/blob/main/excersie_1.ipynb\" target=\"_parent\"><img src=\"https://colab.research.google.com/assets/colab-badge.svg\" alt=\"Open In Colab\"/></a>"
      ]
    },
    {
      "cell_type": "code",
      "execution_count": null,
      "id": "b35f60a2",
      "metadata": {
        "id": "b35f60a2",
        "outputId": "726be745-9e70-46fe-ab10-8e43fdcfacc6"
      },
      "outputs": [
        {
          "name": "stdout",
          "output_type": "stream",
          "text": [
            "w\n",
            "e\n",
            "l\n",
            "c\n",
            "o\n",
            "m\n",
            "e\n",
            "True\n",
            "welcome\n",
            "hi everyone welcome to my youtube channel.Today weare gone make some special\n",
            "thing.please watch to the end of this vido yougone hav a surprise ...\n",
            "i\n"
          ]
        }
      ],
      "source": [
        "a=\"\"\"hi everyone welcome to my youtube channel.Today weare gone make some special\n",
        "thing.please watch to the end of this vido yougone hav a surprise ...\"\"\"\n",
        "b='welcome'\n",
        "for x in b:\n",
        "    print(x)\n",
        "txt=\"best thing in life\"\n",
        "print(\"thing\" in txt)\n",
        "print(b)\n",
        "print(a)\n",
        "print(a[1])"
      ]
    },
    {
      "cell_type": "code",
      "execution_count": null,
      "id": "97e53cec",
      "metadata": {
        "id": "97e53cec",
        "outputId": "cccbd273-ae2c-4958-bb8a-9de8a8e09cf3"
      },
      "outputs": [
        {
          "name": "stdout",
          "output_type": "stream",
          "text": [
            "enter breadth: 4\n",
            "enter height: 5\n",
            "Area of Triangle=  10.0 \n",
            "\n",
            "enter radius of circle:4\n",
            "Area of circle=  50.26548245743669 \n",
            "\n",
            "enter width of rectangle:6\n",
            "enter length of rectangle:3\n",
            "Area of rectangle=  18 \n",
            "\n"
          ]
        }
      ],
      "source": [
        "import math\n",
        "def areaofcircle(r):\n",
        "    return math.pi*r*r\n",
        "def areaoftriangle(b,h):\n",
        "    return 0.5*b*h\n",
        "def areaofrectangle(w,l):\n",
        "    return w*l\n",
        "b=int(input(\"enter breadth: \"))\n",
        "h=int(input(\"enter height: \"))\n",
        "print(\"Area of Triangle= \",areaoftriangle(b,h),\"\\n\")\n",
        "r=int(input(\"enter radius of circle:\"))\n",
        "print(\"Area of circle= \",areaofcircle(r),\"\\n\")\n",
        "w=int(input(\"enter width of rectangle:\"))\n",
        "l=int(input(\"enter length of rectangle:\"))\n",
        "print(\"Area of rectangle= \",areaofrectangle(w,l),\"\\n\")"
      ]
    },
    {
      "cell_type": "code",
      "execution_count": null,
      "id": "876661d7",
      "metadata": {
        "id": "876661d7",
        "outputId": "02848b05-a0ea-4f4c-bd0d-cc9b7ce17b28"
      },
      "outputs": [
        {
          "name": "stdout",
          "output_type": "stream",
          "text": [
            "enter choice:\n",
            "1.circle\n",
            "2.Triangle\n",
            "3.Rectangle\n",
            "4.Exit\n",
            "1\n",
            "enter radius of circle:4\n",
            "\n",
            "Area of circle=  50.26548245743669 \n",
            "\n",
            "Perimeter of circle:  25.132741228718345 \n",
            "\n",
            "enter choice:\n",
            "1.circle\n",
            "2.Triangle\n",
            "3.Rectangle\n",
            "4.Exit\n",
            "2\n",
            "enter breadth: 4\n",
            "enter height: 3\n",
            "\n",
            "Area of Triangle=  6.0 \n",
            "\n",
            "enter side1 of triangle:1\n",
            "enter side2 of triangle:2\n",
            "enter base of triangle:3\n",
            "Perimeter of Triangle:  6.0 \n",
            "\n",
            "enter choice:\n",
            "1.circle\n",
            "2.Triangle\n",
            "3.Rectangle\n",
            "4.Exit\n",
            "4\n"
          ]
        }
      ],
      "source": [
        "import math\n",
        "def areaofcircle(r):\n",
        "    return math.pi*r*r\n",
        "def areaoftriangle(b,h):\n",
        "    return 0.5*b*h\n",
        "def areaofrectangle(w,l):\n",
        "    return w*l\n",
        "def perimeterofcircle(r):\n",
        "    return 2*math.pi*r\n",
        "def perimeteroftriangle(s1,b,s2):\n",
        "    return s1+b+s2\n",
        "def perimeterofrectangle(w,l):\n",
        "    return 2*(l+w)\n",
        "while(1):\n",
        "    ch=int(input(\"enter choice:\\n1.circle\\n2.Triangle\\n3.Rectangle\\n4.Exit\\n\"))\n",
        "    if ch==1:\n",
        "        r=float(input(\"enter radius of circle:\"))\n",
        "        print(\"\\nArea of circle= \",areaofcircle(r),\"\\n\")\n",
        "        print(\"Perimeter of circle: \",perimeterofcircle(r),\"\\n\")\n",
        "    elif ch==2:\n",
        "        b=float(input(\"enter breadth: \"))\n",
        "        h=float(input(\"enter height: \"))\n",
        "        print(\"\\nArea of Triangle= \",areaoftriangle(b,h),\"\\n\")\n",
        "        side1=float(input(\"enter side1 of triangle:\"))\n",
        "        side2=float(input(\"enter side2 of triangle:\"))\n",
        "        base=float(input(\"enter base of triangle:\"))\n",
        "        print(\"Perimeter of Triangle: \",perimeteroftriangle(side1,base,side2),\"\\n\")\n",
        "    elif ch==3:\n",
        "        w=float(input(\"enter width of rectangle:\"))\n",
        "        l=float(input(\"enter length of rectangle:\"))\n",
        "        print(\"\\nArea of rectangle= \",areaofrectangle(w,l),\"\\n\")\n",
        "        print(\"Perimeter of Rectangle: \",perimeterofrectangle(l,w),\"\\n\")\n",
        "    elif ch==4:\n",
        "        break\n",
        "    else:\n",
        "        print(\"invalid choice:\")\n",
        "\n"
      ]
    },
    {
      "cell_type": "code",
      "execution_count": null,
      "id": "6f43ac67",
      "metadata": {
        "id": "6f43ac67",
        "outputId": "42d3a890-7225-4215-db5e-5f1c173671c8"
      },
      "outputs": [
        {
          "name": "stdout",
          "output_type": "stream",
          "text": [
            "50.26548245743669\n"
          ]
        }
      ],
      "source": [
        "import math as m\n",
        "def area():\n",
        "    return m.pi*4*4\n",
        "#radius=int(input(\"enter radius:\"))\n",
        "print(area())"
      ]
    },
    {
      "cell_type": "code",
      "execution_count": null,
      "id": "a0cf1cfe",
      "metadata": {
        "id": "a0cf1cfe",
        "outputId": "92a6a102-8e70-4426-8f1a-bba605bb1637"
      },
      "outputs": [
        {
          "name": "stdout",
          "output_type": "stream",
          "text": [
            "enter string:welcome\n",
            "vowels in the string: \n",
            "e,o,e,"
          ]
        }
      ],
      "source": [
        "str1=input(\"enter string:\")\n",
        "print(\"vowels in the string: \")\n",
        "for x in str1:\n",
        "    if x.lower() in 'aeiou':\n",
        "        print(x,end=\",\")"
      ]
    },
    {
      "cell_type": "code",
      "execution_count": null,
      "id": "ed05193f",
      "metadata": {
        "id": "ed05193f",
        "outputId": "3115dd51-f3e5-4e51-af71-c53538dba8d5"
      },
      "outputs": [
        {
          "name": "stdout",
          "output_type": "stream",
          "text": [
            "enter string:welcome\n",
            "vowels in a string\n",
            "e o "
          ]
        }
      ],
      "source": [
        "str1=input(\"enter string:\")\n",
        "print(\"vowels in a string\")\n",
        "for char in'aeiou':\n",
        "    if char in str1:\n",
        "        print(char,end=\" \")\n"
      ]
    },
    {
      "cell_type": "code",
      "execution_count": null,
      "id": "e316dc34",
      "metadata": {
        "id": "e316dc34",
        "outputId": "91c3a99b-3a77-4b89-cf65-0508b54563f6"
      },
      "outputs": [
        {
          "name": "stdout",
          "output_type": "stream",
          "text": [
            "enter string:welcome\n",
            "vowels in a string\n",
            "e o e \n",
            "count of vowels: 3\n"
          ]
        }
      ],
      "source": [
        "str1=input(\"enter string:\")\n",
        "count=0\n",
        "print(\"vowels in a string\")\n",
        "for x in str1:\n",
        "    if x.lower() in 'aeiou':\n",
        "        print(x,end=\" \")\n",
        "        count+=1\n",
        "print(\"\\ncount of vowels:\",count)\n"
      ]
    },
    {
      "cell_type": "code",
      "execution_count": null,
      "id": "771e0976",
      "metadata": {
        "id": "771e0976",
        "outputId": "7d4a4c13-c906-44f7-8240-1cf6a6c27747"
      },
      "outputs": [
        {
          "name": "stdout",
          "output_type": "stream",
          "text": [
            "enter string:welcome\n",
            "vowels in a string\n",
            "e o \n",
            "count of vowels: 2\n"
          ]
        }
      ],
      "source": [
        "str1=input(\"enter string:\")\n",
        "print(\"vowels in a string\")\n",
        "count=0\n",
        "for char in'aeiou':\n",
        "    if char in str1:\n",
        "        print(char,end=\" \")\n",
        "        count+=1\n",
        "print(\"\\ncount of vowels:\",count)"
      ]
    },
    {
      "cell_type": "code",
      "execution_count": null,
      "id": "aed20c48",
      "metadata": {
        "id": "aed20c48",
        "outputId": "b6aa762e-20d8-4091-edfd-3f981542fc5d"
      },
      "outputs": [
        {
          "name": "stdout",
          "output_type": "stream",
          "text": [
            "enter string:mangalore university campus\n",
            "a occured 3 times\n",
            "\n",
            "e occured 2 times\n",
            "\n",
            "i occured 2 times\n",
            "\n",
            "o occured 1 times\n",
            "\n",
            "u occured 2 times\n",
            "\n"
          ]
        }
      ],
      "source": [
        "str1=input(\"enter string:\")\n",
        "acount=0\n",
        "ecount=0\n",
        "icount=0\n",
        "ocount=0\n",
        "ucount=0\n",
        "for char in str1:\n",
        "    if char.lower()=='a':\n",
        "        acount+=1\n",
        "    elif char.lower()=='e':\n",
        "        ecount+=1\n",
        "    elif char.lower()=='i':\n",
        "        icount+=1\n",
        "    elif char.lower()=='o':\n",
        "        ocount+=1\n",
        "    elif char.lower()=='u':\n",
        "        ucount+=1\n",
        "print(\"a occured\",acount,\"times\\n\")\n",
        "print(\"e occured\",ecount,\"times\\n\")\n",
        "print(\"i occured\",icount,\"times\\n\")\n",
        "print(\"o occured\",ocount,\"times\\n\")\n",
        "print(\"u occured\",ucount,\"times\\n\")\n",
        "\n"
      ]
    },
    {
      "cell_type": "code",
      "execution_count": null,
      "id": "f746ee18",
      "metadata": {
        "id": "f746ee18",
        "outputId": "ad71daaa-2cbb-44a0-93ce-52dfdca6452f"
      },
      "outputs": [
        {
          "name": "stdout",
          "output_type": "stream",
          "text": [
            "-----------random number game--------------------\n",
            "enter number to guess:12\n",
            "Wrong answer*\n",
            "\n",
            "you entered number is lesser than the actual number \n",
            "\n",
            "you have 1 more chnaces to guess\n",
            "enter number to guess:34\n",
            "Wrong answer*\n",
            "\n",
            "you entered number is lesser than the actual number \n",
            "\n",
            "you have 0 more chnaces to guess\n",
            "your chance is over.better luck nxt time\n",
            "\n",
            "Number to guess was: 82\n"
          ]
        }
      ],
      "source": [
        "import random\n",
        "randomNumber=random.randint(1,100)\n",
        "maxchance=2\n",
        "chance=0\n",
        "print(\"-----------random number game--------------------\")\n",
        "while(1):\n",
        "    if chance==maxchance:\n",
        "        print(\"your chance is over.better luck nxt time\\n\")\n",
        "        print(\"Number to guess was:\",randomNumber)\n",
        "        break\n",
        "    usernumber=int(input(\"enter number to guess:\"))\n",
        "    chance+=1\n",
        "    if usernumber==randomNumber:\n",
        "        print(\"Congratulations!you won the game\\n\")\n",
        "        print(\"you won this game in\",chance,\"chances\")\n",
        "        break\n",
        "    elif usernumber<randomNumber:\n",
        "        print(\"Wrong answer*\\n\")\n",
        "        print(\"you entered number is lesser than the actual number \\n\")\n",
        "        print(\"you have\",maxchance-chance,\"more chnaces to guess\")\n",
        "    else:\n",
        "        print(\"Wrong answer*,\\n\")\n",
        "        print(\"you entered number is greater than the actual number \\n\")\n",
        "        print(\"you have\",maxchance-chance,\"more chnaces to guess\")"
      ]
    },
    {
      "cell_type": "code",
      "execution_count": null,
      "id": "97886d35",
      "metadata": {
        "id": "97886d35"
      },
      "outputs": [],
      "source": []
    }
  ],
  "metadata": {
    "kernelspec": {
      "display_name": "Python 3 (ipykernel)",
      "language": "python",
      "name": "python3"
    },
    "language_info": {
      "codemirror_mode": {
        "name": "ipython",
        "version": 3
      },
      "file_extension": ".py",
      "mimetype": "text/x-python",
      "name": "python",
      "nbconvert_exporter": "python",
      "pygments_lexer": "ipython3",
      "version": "3.10.9"
    },
    "colab": {
      "provenance": [],
      "include_colab_link": true
    }
  },
  "nbformat": 4,
  "nbformat_minor": 5
}