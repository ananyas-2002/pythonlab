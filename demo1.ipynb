{
  "cells": [
    {
      "cell_type": "markdown",
      "metadata": {
        "id": "view-in-github",
        "colab_type": "text"
      },
      "source": [
        "<a href=\"https://colab.research.google.com/github/ananyas-2002/pythonlab/blob/main/demo1.ipynb\" target=\"_parent\"><img src=\"https://colab.research.google.com/assets/colab-badge.svg\" alt=\"Open In Colab\"/></a>"
      ]
    },
    {
      "cell_type": "code",
      "execution_count": null,
      "id": "447749c4",
      "metadata": {
        "id": "447749c4",
        "outputId": "93536e11-34e3-4b43-b344-a0750e79ba99"
      },
      "outputs": [
        {
          "name": "stdout",
          "output_type": "stream",
          "text": [
            "[2, 4, 6, 8, 10, 2, 6, 4, 8]\n"
          ]
        }
      ],
      "source": [
        "n=[2,4,6,8,10,2,6,4,8]\n",
        "print(n)\n",
        ""
      ]
    },
    {
      "cell_type": "code",
      "execution_count": null,
      "id": "282cfb07",
      "metadata": {
        "id": "282cfb07",
        "outputId": "a78b08ad-aea3-466b-b265-18377d2c84b6"
      },
      "outputs": [
        {
          "name": "stdout",
          "output_type": "stream",
          "text": [
            "enter number separated by comma:2,4,6,8,10,12,2,4,6,8,14,16\n",
            "LIST: [2, 4, 6, 8, 10, 12, 2, 4, 6, 8, 14, 16]\n",
            "new list= [2, 4, 6, 8, 10, 12, 14, 16]\n"
          ]
        }
      ],
      "source": [
        "n=input(\"enter number separated by comma:\")\n",
        "t=list(map(int,n.split(',')))\n",
        "print(\"LIST:\",t)\n",
        "new_list=[]\n",
        "for item in t:\n",
        "    if item not in new_list:\n",
        "        new_list.append(item)\n",
        "print(\"new list=\",new_list)\n",
        ""
      ]
    },
    {
      "cell_type": "code",
      "execution_count": null,
      "id": "ac1d1a63",
      "metadata": {
        "id": "ac1d1a63",
        "outputId": "095c2784-9b38-41cf-a2c6-50f6d5b7718c"
      },
      "outputs": [
        {
          "name": "stdout",
          "output_type": "stream",
          "text": [
            "enter a strig:helloworld\n",
            "string= helloworld\n",
            "sliced string= hello\n",
            "sliced 2nd string= low\n",
            "value of string= l\n"
          ]
        }
      ],
      "source": [
        "n=input(\"enter a strig:\")\n",
        "print(\"string=\",n)\n",
        "slice1=n[0:5]\n",
        "slice2=n[3:6]\n",
        "index1=n[3]\n",
        "print(\"sliced string=\",slice1)\n",
        "print(\"sliced 2nd string=\",slice2)\n",
        "print(\"value of string=\",index1)"
      ]
    },
    {
      "cell_type": "code",
      "execution_count": null,
      "id": "dd6a3eca",
      "metadata": {
        "id": "dd6a3eca",
        "outputId": "641a776f-5206-43ca-c330-f229658cf3b8"
      },
      "outputs": [
        {
          "name": "stdout",
          "output_type": "stream",
          "text": [
            "enter number:10\n",
            "enter element to the list:2\n",
            "enter element to the list:4\n",
            "enter element to the list:6\n",
            "enter element to the list:-2\n",
            "enter element to the list:10\n",
            "enter element to the list:89\n",
            "enter element to the list:-5\n",
            "enter element to the list:36\n",
            "enter element to the list:-10\n",
            "enter element to the list:7\n",
            "mylist= [2, 4, 6, -2, 10, 89, -5, 36, -10, 7]\n",
            "positive list= [2, 4, 6, 10, 89, 36, 7]\n",
            "negative list= [-2, -5, -10]\n"
          ]
        }
      ],
      "source": [
        "n=int(input(\"enter number:\"))\n",
        "mylist=[]\n",
        "for i in range(0,n):\n",
        "    element=int(input(\"enter element to the list:\"))\n",
        "    mylist.append(element)\n",
        "print(\"mylist=\",mylist)\n",
        "p_lst=[]\n",
        "n_lst=[]\n",
        "for value in mylist:\n",
        "    if value>=0:\n",
        "        p_lst.append(value)\n",
        "    else:\n",
        "        n_lst.append(value)\n",
        "print(\"positive list=\",p_lst)\n",
        "print(\"negative list=\",n_lst)"
      ]
    },
    {
      "cell_type": "code",
      "execution_count": null,
      "id": "d86703b4",
      "metadata": {
        "id": "d86703b4",
        "outputId": "d6a225f4-933d-4597-9c0a-2bdfb71b3309"
      },
      "outputs": [
        {
          "name": "stdout",
          "output_type": "stream",
          "text": [
            "[0, 48, 2, 1, 19, 35, 46, 57, 40]\n",
            " zero is neither odd nor even\n",
            "even list= [48, 2, 46, 40]\n",
            "odd list= [1, 19, 35, 57]\n"
          ]
        }
      ],
      "source": [
        "n=[0,48,2,1,19,35,46,57,40]\n",
        "print(n)\n",
        "oddlist=[]\n",
        "evenlist=[]\n",
        "for item in n:\n",
        "    if item==0:\n",
        "        print(\" zero is neither odd nor even\")\n",
        "    elif item%2==0:\n",
        "        evenlist.append(item)\n",
        "    else:\n",
        "        oddlist.append(item)\n",
        "print(\"even list=\",evenlist)\n",
        "print(\"odd list=\",oddlist)"
      ]
    },
    {
      "cell_type": "code",
      "execution_count": null,
      "id": "e050bc2c",
      "metadata": {
        "id": "e050bc2c",
        "outputId": "9086711f-f2f9-4f42-af0d-7bdf4e609071"
      },
      "outputs": [
        {
          "name": "stdout",
          "output_type": "stream",
          "text": [
            "enter number:5\n",
            "enter element:2\n",
            "enter element:6\n",
            "enter element:9\n",
            "enter element:23\n",
            "enter element:18\n",
            "TUPLE= (2, 6, 9, 23, 18)\n"
          ]
        }
      ],
      "source": [
        "lst=[]\n",
        "mytuple=()\n",
        "n=int(input(\"enter number:\"))\n",
        "for i in range(0,n):\n",
        "    lst.append(int(input(\"enter element:\")))\n",
        "mytuple=tuple(lst)\n",
        "print(\"TUPLE=\",mytuple)"
      ]
    },
    {
      "cell_type": "code",
      "execution_count": null,
      "id": "4e6ddddb",
      "metadata": {
        "id": "4e6ddddb",
        "outputId": "0ff870ec-798c-47a5-9e8a-fc38970ed3c6"
      },
      "outputs": [
        {
          "name": "stdout",
          "output_type": "stream",
          "text": [
            "tuple= (2, 8, 12, 17, 56, 45)\n",
            "slice1 the tuple= (12, 17)\n",
            "slice2 the tuple= (2, 8, 12)\n"
          ]
        }
      ],
      "source": [
        "t=(2,8,12,17,56,45)\n",
        "print(\"tuple=\",t)\n",
        "print(\"slice1 the tuple=\",t[2:4])\n",
        "print(\"slice2 the tuple=\",t[:3])"
      ]
    },
    {
      "cell_type": "code",
      "execution_count": null,
      "id": "2ae8bcdf",
      "metadata": {
        "id": "2ae8bcdf"
      },
      "outputs": [],
      "source": []
    }
  ],
  "metadata": {
    "kernelspec": {
      "display_name": "Python 3 (ipykernel)",
      "language": "python",
      "name": "python3"
    },
    "language_info": {
      "codemirror_mode": {
        "name": "ipython",
        "version": 3
      },
      "file_extension": ".py",
      "mimetype": "text/x-python",
      "name": "python",
      "nbconvert_exporter": "python",
      "pygments_lexer": "ipython3",
      "version": "3.9.7"
    },
    "colab": {
      "provenance": [],
      "include_colab_link": true
    }
  },
  "nbformat": 4,
  "nbformat_minor": 5
}