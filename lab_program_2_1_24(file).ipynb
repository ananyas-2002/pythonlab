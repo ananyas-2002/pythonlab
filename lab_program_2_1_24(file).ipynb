{
  "cells": [
    {
      "cell_type": "markdown",
      "metadata": {
        "id": "view-in-github",
        "colab_type": "text"
      },
      "source": [
        "<a href=\"https://colab.research.google.com/github/ananyas-2002/pythonlab/blob/main/lab_program_2_1_24(file).ipynb\" target=\"_parent\"><img src=\"https://colab.research.google.com/assets/colab-badge.svg\" alt=\"Open In Colab\"/></a>"
      ]
    },
    {
      "cell_type": "code",
      "execution_count": null,
      "id": "62a3c0ef",
      "metadata": {
        "colab": {
          "base_uri": "https://localhost:8080/"
        },
        "id": "62a3c0ef",
        "outputId": "d7b57754-86f4-431f-bd56-cd4634967ad4"
      },
      "outputs": [
        {
          "output_type": "stream",
          "name": "stdout",
          "text": [
            "Mounted at /content/drive\n"
          ]
        }
      ],
      "source": [
        "from google.colab import drive\n",
        "drive.mount('/content/drive')"
      ]
    },
    {
      "cell_type": "code",
      "execution_count": null,
      "id": "5492de51",
      "metadata": {
        "colab": {
          "base_uri": "https://localhost:8080/"
        },
        "id": "5492de51",
        "outputId": "59e8668b-651f-4efb-82e3-9de2793e1294"
      },
      "outputs": [
        {
          "name": "stdout",
          "output_type": "stream",
          "text": [
            "enter choice\n",
            "1.load the file from external library:\n",
            "2.Display contents using with keyword:\n",
            "3.Rename the file\n",
            "4.Delete the file:\n",
            "5.Exit\n",
            "1\n",
            "File openend successfully:\n",
            "enter choice\n",
            "1.load the file from external library:\n",
            "2.Display contents using with keyword:\n",
            "3.Rename the file\n",
            "4.Delete the file:\n",
            "5.Exit\n",
            "2\n",
            "Open the file using with open:\n",
            "Hi...\n",
            "\n",
            "Hello*\n",
            "\n",
            "Welcome to my World\n",
            "\n",
            "Python Programming.............\n",
            "enter choice\n",
            "1.load the file from external library:\n",
            "2.Display contents using with keyword:\n",
            "3.Rename the file\n",
            "4.Delete the file:\n",
            "5.Exit\n",
            "3\n",
            "renamed the file successfully:\n",
            "enter choice\n",
            "1.load the file from external library:\n",
            "2.Display contents using with keyword:\n",
            "3.Rename the file\n",
            "4.Delete the file:\n",
            "5.Exit\n",
            "4\n",
            "Deleted the file successfully:\n",
            "enter choice\n",
            "1.load the file from external library:\n",
            "2.Display contents using with keyword:\n",
            "3.Rename the file\n",
            "4.Delete the file:\n",
            "5.Exit\n",
            "5\n"
          ]
        }
      ],
      "source": [
        "import os\n",
        "while(1):\n",
        "    ch=int(input(\"enter choice\\n1.load the file from external library:\\n2.Display contents using with keyword:\\n3.Rename the file\\n4.Delete the file:\\n5.Exit\\n\"))\n",
        "    if ch==1:\n",
        "        try:\n",
        "            fo=open(\"/content/drive/MyDrive/python/text.txt\")\n",
        "        except:\n",
        "            print(\"No such file found*\")\n",
        "        else:\n",
        "            print(\"File openend successfully:\")\n",
        "            fo.close()\n",
        "    elif ch==2:\n",
        "        print(\"Open the file using with open:\")\n",
        "        with open(\"/content/drive/MyDrive/python/text.txt\",'r')as f:\n",
        "            for line in f:\n",
        "                print(line)\n",
        "    elif ch==3:\n",
        "        src=\"/content/drive/MyDrive/python/text.txt\"\n",
        "        des=\"/content/drive/MyDrive/python/Newfile.txt\"\n",
        "        try:\n",
        "            os.rename(src,des)\n",
        "        except:\n",
        "            print(\"Cannot rename the file*\")\n",
        "        else:\n",
        "            print(\"renamed the file successfully:\")\n",
        "    elif ch==4:\n",
        "        try:\n",
        "            os.remove(\"/content/drive/MyDrive/python/Newfile.txt\")\n",
        "        except:\n",
        "            print(\"cannot delete the file*\")\n",
        "        else:\n",
        "            print(\"Deleted the file successfully:\")\n",
        "    elif ch==5:\n",
        "        break\n",
        "    else:\n",
        "        print(\"invalid chooice*\")"
      ]
    },
    {
      "cell_type": "code",
      "execution_count": null,
      "id": "93a70a4b",
      "metadata": {
        "id": "93a70a4b"
      },
      "outputs": [],
      "source": []
    }
  ],
  "metadata": {
    "kernelspec": {
      "display_name": "Python 3 (ipykernel)",
      "language": "python",
      "name": "python3"
    },
    "language_info": {
      "codemirror_mode": {
        "name": "ipython",
        "version": 3
      },
      "file_extension": ".py",
      "mimetype": "text/x-python",
      "name": "python",
      "nbconvert_exporter": "python",
      "pygments_lexer": "ipython3",
      "version": "3.10.9"
    },
    "colab": {
      "provenance": [],
      "include_colab_link": true
    }
  },
  "nbformat": 4,
  "nbformat_minor": 5
}