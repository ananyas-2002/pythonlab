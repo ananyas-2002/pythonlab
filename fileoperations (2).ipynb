{
 "cells": [
  {
   "cell_type": "code",
   "execution_count": 5,
   "id": "4a9ecd1c",
   "metadata": {},
   "outputs": [
    {
     "name": "stdout",
     "output_type": "stream",
     "text": [
      "Hello!World...Welcome to Finland*\n"
     ]
    }
   ],
   "source": [
    "f1=open(\"text.txt\",'r')\n",
    "for line in f1:\n",
    "    print(line)"
   ]
  },
  {
   "cell_type": "code",
   "execution_count": 7,
   "id": "ef227e24",
   "metadata": {},
   "outputs": [
    {
     "name": "stdout",
     "output_type": "stream",
     "text": [
      "Name of the file::::::::  text.txt\n",
      "Closed or not:::::::::::  False\n",
      "openining mode::::::::::  a+\n"
     ]
    }
   ],
   "source": [
    "with open('text.txt', 'a+') as f1:\n",
    "    print('Name of the file:::::::: ', f1.name)\n",
    "    print('Closed or not::::::::::: ', f1.closed)\n",
    "    print('openining mode:::::::::: ', f1.mode)"
   ]
  },
  {
   "cell_type": "code",
   "execution_count": 14,
   "id": "6e692cec",
   "metadata": {},
   "outputs": [
    {
     "data": {
      "text/plain": [
       "['Hello!World...Welcome to Finland*']"
      ]
     },
     "execution_count": 14,
     "metadata": {},
     "output_type": "execute_result"
    }
   ],
   "source": [
    "f2=open(\"text.txt\",'r')\n",
    "#f2.read(2)\n",
    "#f2.readline()\n",
    "f2.readlines()"
   ]
  },
  {
   "cell_type": "code",
   "execution_count": 16,
   "id": "9bf5b1ed",
   "metadata": {},
   "outputs": [
    {
     "data": {
      "text/plain": [
       "'HI\\n'"
      ]
     },
     "execution_count": 16,
     "metadata": {},
     "output_type": "execute_result"
    }
   ],
   "source": [
    "f2=open(\"sample.txt\",'r')\n",
    "f2.readline()"
   ]
  },
  {
   "cell_type": "code",
   "execution_count": 17,
   "id": "c9bb391e",
   "metadata": {},
   "outputs": [
    {
     "data": {
      "text/plain": [
       "'He'"
      ]
     },
     "execution_count": 17,
     "metadata": {},
     "output_type": "execute_result"
    }
   ],
   "source": [
    "f2=open(\"text.txt\",'r')\n",
    "f2.read(2)"
   ]
  },
  {
   "cell_type": "code",
   "execution_count": 24,
   "id": "ed64a278",
   "metadata": {},
   "outputs": [
    {
     "data": {
      "text/plain": [
       "['There is only one Apple left!']"
      ]
     },
     "execution_count": 24,
     "metadata": {},
     "output_type": "execute_result"
    }
   ],
   "source": [
    "f1=open(\"text.txt\",'w')\n",
    "f1.write(\"There is only one Apple left!\")\n",
    "f1.close()\n",
    "f1=open(\"text.txt\",'r')\n",
    "f1.readlines()"
   ]
  },
  {
   "cell_type": "code",
   "execution_count": 20,
   "id": "f4205cd5",
   "metadata": {},
   "outputs": [],
   "source": [
    "with open ('text.txt') as f:\n",
    "    d=f.read()\n",
    "    for line in f:\n",
    "        print(line, end=' ')"
   ]
  },
  {
   "cell_type": "code",
   "execution_count": 22,
   "id": "116b50cf",
   "metadata": {},
   "outputs": [
    {
     "data": {
      "text/plain": [
       "'There is only one Apple left!'"
      ]
     },
     "execution_count": 22,
     "metadata": {},
     "output_type": "execute_result"
    }
   ],
   "source": [
    "f= open('text.txt')\n",
    "ln1=f.readline()\n",
    "ln1"
   ]
  },
  {
   "cell_type": "code",
   "execution_count": 25,
   "id": "921295cd",
   "metadata": {},
   "outputs": [
    {
     "data": {
      "text/plain": [
       "['There is only one Apple left!']"
      ]
     },
     "execution_count": 25,
     "metadata": {},
     "output_type": "execute_result"
    }
   ],
   "source": [
    "f1=open(\"text.txt\",'w')\n",
    "f1.write(\"There is only one Apple left!\")\n",
    "#f1.close()\n",
    "f1=open(\"text.txt\",'r')\n",
    "f1.readlines()"
   ]
  },
  {
   "cell_type": "code",
   "execution_count": 40,
   "id": "b6a31ac0",
   "metadata": {
    "scrolled": true
   },
   "outputs": [
    {
     "name": "stdout",
     "output_type": "stream",
     "text": [
      "There is only one Apple left!\n",
      "Hy*\n",
      "    This python Programming\n",
      "Python Object Oriented Program!\n"
     ]
    }
   ],
   "source": [
    "fo=open(\"text.txt\",'r')\n",
    "for line in fo:\n",
    "    #print(line.strip())\n",
    "    print(line.rstrip())\n",
    "    #print(line.lstrip())"
   ]
  },
  {
   "cell_type": "code",
   "execution_count": 50,
   "id": "2a6a3c59",
   "metadata": {
    "scrolled": false
   },
   "outputs": [
    {
     "name": "stdout",
     "output_type": "stream",
     "text": [
      "There is only one Apple left!\n",
      "Hy*\n",
      "This python Programming\n",
      "Python Object Oriented Program!\n"
     ]
    }
   ],
   "source": [
    "fo=open(\"text.txt\",'r')\n",
    "for line in fo:\n",
    "    print(line.strip())"
   ]
  },
  {
   "cell_type": "code",
   "execution_count": 51,
   "id": "a13a5f0d",
   "metadata": {
    "scrolled": true
   },
   "outputs": [
    {
     "name": "stdout",
     "output_type": "stream",
     "text": [
      "There is only one Apple left!\n",
      "Hy*\n",
      "    This python Programming\n",
      "Python Object Oriented Program!\n"
     ]
    }
   ],
   "source": [
    "fo=open(\"text.txt\",'r')\n",
    "for line in fo:\n",
    "     print(line.rstrip())"
   ]
  },
  {
   "cell_type": "code",
   "execution_count": 6,
   "id": "6db5be8f",
   "metadata": {
    "scrolled": true
   },
   "outputs": [
    {
     "name": "stdout",
     "output_type": "stream",
     "text": [
      "There is only one Apple left!\n",
      "\n",
      "Hy*\n",
      "\n",
      "This python Programming\n",
      "\n",
      "Python Object Oriented Program!\n"
     ]
    }
   ],
   "source": [
    "fo=open(\"text.txt\",'r')\n",
    "for line in fo:\n",
    "    print(line.lstrip())"
   ]
  },
  {
   "cell_type": "code",
   "execution_count": 23,
   "id": "89b0fe13",
   "metadata": {},
   "outputs": [],
   "source": [
    "try:\n",
    "    fo=open(\"abc.txt\",'w')\n",
    "    fo.write(\"Python!\")\n",
    "    fo.close()\n",
    "    fo=open(\"abc.txt\",'r')\n",
    "    fo.readlines()\n",
    "except:\n",
    "    print(\"file not found\")"
   ]
  },
  {
   "cell_type": "code",
   "execution_count": 26,
   "id": "fff43edb",
   "metadata": {},
   "outputs": [
    {
     "name": "stdout",
     "output_type": "stream",
     "text": [
      "Python!\n"
     ]
    }
   ],
   "source": [
    "try:\n",
    "    fo=open(\"abc.txt\",'w')\n",
    "    fo.write(\"Python!\")\n",
    "    fo=open(\"abc.txt\",'r')\n",
    "except:\n",
    "    print(\"file not found\")\n",
    "else:\n",
    "    print(fo.readline())\n",
    "    fo.close()"
   ]
  },
  {
   "cell_type": "code",
   "execution_count": 7,
   "id": "df255e6b",
   "metadata": {
    "scrolled": false
   },
   "outputs": [
    {
     "name": "stdout",
     "output_type": "stream",
     "text": [
      "file not exist\n"
     ]
    }
   ],
   "source": [
    "try:\n",
    "    f1=open(\"xyz.txt\",'w')\n",
    "    f1.readlines()\n",
    "except:\n",
    "    print(\"file not exist\")"
   ]
  },
  {
   "cell_type": "code",
   "execution_count": 31,
   "id": "0ecb5fce",
   "metadata": {},
   "outputs": [
    {
     "name": "stdout",
     "output_type": "stream",
     "text": [
      "Python!\n",
      "Programming\n"
     ]
    }
   ],
   "source": [
    "try:\n",
    "    fo=open(\"abc.txt\",'w')\n",
    "    fo.write(\"Python!\\nProgramming\")\n",
    "    fo=open(\"abc.txt\",'r')\n",
    "except:\n",
    "    print(\"file not found\")\n",
    "else:\n",
    "    print(fo.read())\n",
    "    fo.close()"
   ]
  },
  {
   "cell_type": "code",
   "execution_count": 43,
   "id": "6d81e9b7",
   "metadata": {},
   "outputs": [
    {
     "name": "stdout",
     "output_type": "stream",
     "text": [
      "[]\n"
     ]
    }
   ],
   "source": [
    "try:\n",
    "    fo=open(\"aaa.txt\",'w')\n",
    "    #fo.write(\"Python!\\nProgramming\")\n",
    "    fo=open(\"aaa.txt\",'r')\n",
    "except:\n",
    "    print(\"file not found\")\n",
    "else:\n",
    "    print(fo.readlines())\n",
    "    fo.close()"
   ]
  },
  {
   "cell_type": "code",
   "execution_count": 52,
   "id": "bfd27c9c",
   "metadata": {},
   "outputs": [
    {
     "name": "stdout",
     "output_type": "stream",
     "text": [
      "count of words= 7\n"
     ]
    }
   ],
   "source": [
    "count_word=0\n",
    "f1=open(\"example.txt\",'r')\n",
    "data=f1.read()\n",
    "line=data.split(\"\\n\")\n",
    "count_word+=len(line)\n",
    "print(\"count of words=\",count_word)"
   ]
  },
  {
   "cell_type": "code",
   "execution_count": null,
   "id": "ab4d455a",
   "metadata": {},
   "outputs": [
    {
     "name": "stdout",
     "output_type": "stream",
     "text": [
      "enter choice\n",
      "1.count words\n",
      "2.count lines\n",
      "3.count repeated word\n",
      "4.sort\n",
      "1\n",
      "count of words= 7\n",
      "enter choice\n",
      "1.count words\n",
      "2.count lines\n",
      "3.count repeated word\n",
      "4.sort\n",
      "1\n",
      "count of words= 8\n",
      "enter choice\n",
      "1.count words\n",
      "2.count lines\n",
      "3.count repeated word\n",
      "4.sort\n",
      "2\n",
      "Count of line: 0\n"
     ]
    }
   ],
   "source": [
    "count_word=0\n",
    "count_line=0\n",
    "f1=open(\"example.txt\",'r')\n",
    "while(1):\n",
    "    ch=int(input(\"enter choice\\n1.count words\\n2.count lines\\n3.count repeated word\\n4.sort\\n\"))\n",
    "    if ch==1:\n",
    "        data=f1.read()\n",
    "        line=data.split(\"\\n\")\n",
    "        count_word+=len(line)\n",
    "        print(\"count of words=\",count_word)\n",
    "    elif ch==2:\n",
    "        for line in f1:\n",
    "            count_line+=len(readlines())\n",
    "        print(\"Count of line:\",count_line)"
   ]
  },
  {
   "cell_type": "code",
   "execution_count": 3,
   "id": "07500dc0",
   "metadata": {},
   "outputs": [
    {
     "name": "stdout",
     "output_type": "stream",
     "text": [
      "File analysis summary:\n",
      "Character count: 657\n",
      "Word count: 117\n",
      "Space count: 111\n",
      "Line count: 6\n"
     ]
    }
   ],
   "source": [
    "def analyze_text_file(file_path):\n",
    "    try:\n",
    "        with open(file_path, 'r') as file:\n",
    "            char_count = 0\n",
    "            word_count = 0\n",
    "            space_count = 0\n",
    "            line_count = 0\n",
    "\n",
    "            for line in file:\n",
    "                line_count += 1\n",
    "                char_count += len(line)\n",
    "                words = line.split()\n",
    "                word_count += len(words)\n",
    "                space_count += len(words) - 1\n",
    "\n",
    "            print(\"File analysis summary:\")\n",
    "            print(\"Character count:\", char_count)\n",
    "            print(\"Word count:\", word_count)\n",
    "            print(\"Space count:\", space_count)\n",
    "            print(\"Line count:\", line_count)\n",
    "\n",
    "    except FileNotFoundError:\n",
    "        print(\"File not found!\")\n",
    "\n",
    "file_path = \"example.txt\" \n",
    "analyze_text_file(file_path)"
   ]
  },
  {
   "cell_type": "code",
   "execution_count": 1,
   "id": "2ff9d0c2",
   "metadata": {},
   "outputs": [
    {
     "name": "stdout",
     "output_type": "stream",
     "text": [
      "File analysis summary:\n",
      "Character count: 657\n",
      "Word count: 117\n",
      "Space count: 115\n",
      "Line count: 6\n"
     ]
    }
   ],
   "source": [
    "def analyze_text_file(file_path):\n",
    "    try:\n",
    "        with open(file_path, 'r') as file:\n",
    "            content = file.read()\n",
    "\n",
    "            char_count = len(content)\n",
    "            word_count = len(content.split())\n",
    "            space_count = content.count(' ')\n",
    "            line_count = content.count('\\n')\n",
    "\n",
    "            print(\"File analysis summary:\")\n",
    "            print(\"Character count:\", char_count)\n",
    "            print(\"Word count:\", word_count)\n",
    "            print(\"Space count:\", space_count)\n",
    "            print(\"Line count:\", line_count)\n",
    "\n",
    "    except FileNotFoundError:\n",
    "        print(\"File not found!\")\n",
    "\n",
    "# Usage\n",
    "file_path = \"example.txt\"  # Replace with your file path\n",
    "analyze_text_file(file_path)"
   ]
  },
  {
   "cell_type": "code",
   "execution_count": 7,
   "id": "44e740fa",
   "metadata": {},
   "outputs": [
    {
     "name": "stdout",
     "output_type": "stream",
     "text": [
      "Number of words in text file:  121\n",
      "Number of lines in text file:  6\n",
      "Number of characters in text file:  536\n",
      "Number of spaces in text file:  115\n"
     ]
    }
   ],
   "source": [
    "\n",
    "def analyze_text_file(fname):\n",
    "\n",
    "\n",
    "\tnum_words = 0\n",
    "\n",
    "\n",
    "\tnum_lines = 0\n",
    "\n",
    "\n",
    "\tnum_charc = 0\n",
    "\n",
    "\n",
    "\tnum_spaces = 0\n",
    "\n",
    "\n",
    "\twith open(fname, 'r') as f:\n",
    "\n",
    "\n",
    "\t\tfor line in f:\n",
    "\n",
    "\n",
    "\t\t\tnum_lines = num_lines+1\n",
    "\n",
    "\t\t\t# declaring a variable word and assigning its value as Y\n",
    "\t\t\t# because every file is supposed to start with a word or a character\n",
    "\t\t\tword = 'Y'\n",
    "\n",
    "\t\t\t# loop to iterate every\n",
    "\t\t\t# line letter by letter\n",
    "\t\t\tfor letter in line:\n",
    "\n",
    "\t\t\t\t# condition to check that the encountered character\n",
    "\t\t\t\t# is not white space and a word\n",
    "\t\t\t\tif (letter != ' ' and word == 'Y'):\n",
    "\n",
    "\t\t\t\t\t# incrementing the word\n",
    "\t\t\t\t\t# count by 1\n",
    "\t\t\t\t\tnum_words += 1\n",
    "\n",
    "\t\t\t\t\t# assigning value N to variable word because until\n",
    "\t\t\t\t\t# space will not encounter a word can not be completed\n",
    "\t\t\t\t\tword = 'N'\n",
    "\n",
    "\t\t\t\t# condition to check that the encountered character is a white space\n",
    "\t\t\t\telif (letter == ' '):\n",
    "\n",
    "\t\t\t\t\t# incrementing the space\n",
    "\t\t\t\t\t# count by 1\n",
    "\t\t\t\t\tnum_spaces += 1\n",
    "\n",
    "\t\t\t\t\t# assigning value Y to variable word because after\n",
    "\t\t\t\t\t# white space a word is supposed to occur\n",
    "\t\t\t\t\tword = 'Y'\n",
    "\n",
    "\t\t\t\t# loop to iterate every character\n",
    "\t\t\t\tfor i in letter:\n",
    "\n",
    "\t\t\t\t\t# condition to check white space\n",
    "\t\t\t\t\tif(i !=\" \" and i !=\"\\n\"):\n",
    "\n",
    "\t\t\t\t\t\t# incrementing character\n",
    "\t\t\t\t\t\t# count by 1\n",
    "\t\t\t\t\t\tnum_charc += 1\n",
    "\n",
    "\n",
    "\tprint(\"Number of words in text file: \",\t\tnum_words)\n",
    "\n",
    "\n",
    "\tprint(\"Number of lines in text file: \",\t\tnum_lines)\n",
    "\n",
    "\n",
    "\tprint('Number of characters in text file: ',\t\tnum_charc)\n",
    "\n",
    "\n",
    "\tprint('Number of spaces in text file: ',\t\tnum_spaces)\n",
    "\n",
    "# Driver Code:\n",
    "if __name__ == '__main__':\n",
    "\tfname = \"example.txt\"\n",
    "\ttry:\n",
    "\t\tanalyze_text_file(fname)\n",
    "\texcept:\n",
    "\t\tprint('File not found')\n"
   ]
  },
  {
   "cell_type": "code",
   "execution_count": null,
   "id": "2e82c8e0",
   "metadata": {},
   "outputs": [],
   "source": []
  }
 ],
 "metadata": {
  "kernelspec": {
   "display_name": "Python 3 (ipykernel)",
   "language": "python",
   "name": "python3"
  },
  "language_info": {
   "codemirror_mode": {
    "name": "ipython",
    "version": 3
   },
   "file_extension": ".py",
   "mimetype": "text/x-python",
   "name": "python",
   "nbconvert_exporter": "python",
   "pygments_lexer": "ipython3",
   "version": "3.10.9"
  }
 },
 "nbformat": 4,
 "nbformat_minor": 5
}
